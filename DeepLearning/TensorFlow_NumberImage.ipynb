{
 "metadata": {
  "language_info": {
   "codemirror_mode": {
    "name": "ipython",
    "version": 3
   },
   "file_extension": ".py",
   "mimetype": "text/x-python",
   "name": "python",
   "nbconvert_exporter": "python",
   "pygments_lexer": "ipython3",
   "version": "3.9.5"
  },
  "orig_nbformat": 4,
  "kernelspec": {
   "name": "python3",
   "display_name": "Python 3.9.5 64-bit ('3.9')"
  },
  "interpreter": {
   "hash": "7812ea015bdcee6f23a998adcdd2ef97c151c0c241b7b7070987d9313e41299d"
  }
 },
 "nbformat": 4,
 "nbformat_minor": 2,
 "cells": [
  {
   "cell_type": "code",
   "execution_count": 3,
   "metadata": {},
   "outputs": [],
   "source": []
  },
  {
   "cell_type": "code",
   "execution_count": 2,
   "metadata": {},
   "outputs": [
    {
     "output_type": "stream",
     "name": "stdout",
     "text": [
      "Collecting tensorflow\n",
      "  Downloading tensorflow-2.5.0-cp39-cp39-macosx_10_11_x86_64.whl (195.7 MB)\n",
      "\u001b[K     |████████████████████████████████| 195.7 MB 58 kB/s \n",
      "\u001b[?25hCollecting keras-preprocessing~=1.1.2\n",
      "  Downloading Keras_Preprocessing-1.1.2-py2.py3-none-any.whl (42 kB)\n",
      "\u001b[K     |████████████████████████████████| 42 kB 402 kB/s \n",
      "\u001b[?25hCollecting google-pasta~=0.2\n",
      "  Downloading google_pasta-0.2.0-py3-none-any.whl (57 kB)\n",
      "\u001b[K     |████████████████████████████████| 57 kB 2.7 MB/s \n",
      "\u001b[?25hCollecting wrapt~=1.12.1\n",
      "  Downloading wrapt-1.12.1.tar.gz (27 kB)\n",
      "Collecting gast==0.4.0\n",
      "  Downloading gast-0.4.0-py3-none-any.whl (9.8 kB)\n",
      "Collecting typing-extensions~=3.7.4\n",
      "  Downloading typing_extensions-3.7.4.3-py3-none-any.whl (22 kB)\n",
      "Collecting protobuf>=3.9.2\n",
      "  Downloading protobuf-3.17.3-cp39-cp39-macosx_10_9_x86_64.whl (1.0 MB)\n",
      "\u001b[K     |████████████████████████████████| 1.0 MB 6.7 MB/s \n",
      "\u001b[?25hCollecting absl-py~=0.10\n",
      "  Downloading absl_py-0.13.0-py3-none-any.whl (132 kB)\n",
      "\u001b[K     |████████████████████████████████| 132 kB 10.6 MB/s \n",
      "\u001b[?25hCollecting grpcio~=1.34.0\n",
      "  Downloading grpcio-1.34.1-cp39-cp39-macosx_10_10_x86_64.whl (3.7 MB)\n",
      "\u001b[K     |████████████████████████████████| 3.7 MB 9.0 MB/s \n",
      "\u001b[?25hCollecting h5py~=3.1.0\n",
      "  Downloading h5py-3.1.0-cp39-cp39-macosx_10_9_x86_64.whl (2.9 MB)\n",
      "\u001b[K     |████████████████████████████████| 2.9 MB 12.8 MB/s \n",
      "\u001b[?25hCollecting opt-einsum~=3.3.0\n",
      "  Downloading opt_einsum-3.3.0-py3-none-any.whl (65 kB)\n",
      "\u001b[K     |████████████████████████████████| 65 kB 3.9 MB/s \n",
      "\u001b[?25hCollecting astunparse~=1.6.3\n",
      "  Downloading astunparse-1.6.3-py2.py3-none-any.whl (12 kB)\n",
      "Collecting wheel~=0.35\n",
      "  Downloading wheel-0.36.2-py2.py3-none-any.whl (35 kB)\n",
      "Collecting six~=1.15.0\n",
      "  Downloading six-1.15.0-py2.py3-none-any.whl (10 kB)\n",
      "Collecting termcolor~=1.1.0\n",
      "  Downloading termcolor-1.1.0.tar.gz (3.9 kB)\n",
      "Collecting keras-nightly~=2.5.0.dev\n",
      "  Downloading keras_nightly-2.5.0.dev2021032900-py2.py3-none-any.whl (1.2 MB)\n",
      "\u001b[K     |████████████████████████████████| 1.2 MB 14.2 MB/s \n",
      "\u001b[?25hCollecting flatbuffers~=1.12.0\n",
      "  Downloading flatbuffers-1.12-py2.py3-none-any.whl (15 kB)\n",
      "Collecting tensorflow-estimator<2.6.0,>=2.5.0rc0\n",
      "  Downloading tensorflow_estimator-2.5.0-py2.py3-none-any.whl (462 kB)\n",
      "\u001b[K     |████████████████████████████████| 462 kB 9.0 MB/s \n",
      "\u001b[?25hCollecting tensorboard~=2.5\n",
      "  Downloading tensorboard-2.5.0-py3-none-any.whl (6.0 MB)\n",
      "\u001b[K     |████████████████████████████████| 6.0 MB 6.1 MB/s \n",
      "\u001b[?25hCollecting numpy~=1.19.2\n",
      "  Downloading numpy-1.19.5-cp39-cp39-macosx_10_9_x86_64.whl (15.6 MB)\n",
      "\u001b[K     |████████████████████████████████| 15.6 MB 235 kB/s \n",
      "\u001b[?25hCollecting markdown>=2.6.8\n",
      "  Downloading Markdown-3.3.4-py3-none-any.whl (97 kB)\n",
      "\u001b[K     |████████████████████████████████| 97 kB 3.7 MB/s \n",
      "\u001b[?25hCollecting tensorboard-data-server<0.7.0,>=0.6.0\n",
      "  Downloading tensorboard_data_server-0.6.1-py3-none-macosx_10_9_x86_64.whl (3.5 MB)\n",
      "\u001b[K     |████████████████████████████████| 3.5 MB 4.2 MB/s \n",
      "\u001b[?25hCollecting werkzeug>=0.11.15\n",
      "  Downloading Werkzeug-2.0.1-py3-none-any.whl (288 kB)\n",
      "\u001b[K     |████████████████████████████████| 288 kB 4.1 MB/s \n",
      "\u001b[?25hCollecting google-auth-oauthlib<0.5,>=0.4.1\n",
      "  Downloading google_auth_oauthlib-0.4.4-py2.py3-none-any.whl (18 kB)\n",
      "Collecting tensorboard-plugin-wit>=1.6.0\n",
      "  Downloading tensorboard_plugin_wit-1.8.0-py3-none-any.whl (781 kB)\n",
      "\u001b[K     |████████████████████████████████| 781 kB 3.2 MB/s \n",
      "\u001b[?25hRequirement already satisfied: setuptools>=41.0.0 in /Library/Frameworks/Python.framework/Versions/3.9/lib/python3.9/site-packages (from tensorboard~=2.5->tensorflow) (56.0.0)\n",
      "Collecting google-auth<2,>=1.6.3\n",
      "  Downloading google_auth-1.32.1-py2.py3-none-any.whl (147 kB)\n",
      "\u001b[K     |████████████████████████████████| 147 kB 4.1 MB/s \n",
      "\u001b[?25hRequirement already satisfied: requests<3,>=2.21.0 in /Library/Frameworks/Python.framework/Versions/3.9/lib/python3.9/site-packages (from tensorboard~=2.5->tensorflow) (2.25.1)\n",
      "Collecting rsa<5,>=3.1.4\n",
      "  Downloading rsa-4.7.2-py3-none-any.whl (34 kB)\n",
      "Collecting cachetools<5.0,>=2.0.0\n",
      "  Downloading cachetools-4.2.2-py3-none-any.whl (11 kB)\n",
      "Collecting pyasn1-modules>=0.2.1\n",
      "  Downloading pyasn1_modules-0.2.8-py2.py3-none-any.whl (155 kB)\n",
      "\u001b[K     |████████████████████████████████| 155 kB 12.3 MB/s \n",
      "\u001b[?25hCollecting requests-oauthlib>=0.7.0\n",
      "  Downloading requests_oauthlib-1.3.0-py2.py3-none-any.whl (23 kB)\n",
      "Collecting pyasn1<0.5.0,>=0.4.6\n",
      "  Downloading pyasn1-0.4.8-py2.py3-none-any.whl (77 kB)\n",
      "\u001b[K     |████████████████████████████████| 77 kB 5.7 MB/s \n",
      "\u001b[?25hRequirement already satisfied: chardet<5,>=3.0.2 in /Library/Frameworks/Python.framework/Versions/3.9/lib/python3.9/site-packages (from requests<3,>=2.21.0->tensorboard~=2.5->tensorflow) (4.0.0)\n",
      "Requirement already satisfied: certifi>=2017.4.17 in /Library/Frameworks/Python.framework/Versions/3.9/lib/python3.9/site-packages (from requests<3,>=2.21.0->tensorboard~=2.5->tensorflow) (2021.5.30)\n",
      "Requirement already satisfied: idna<3,>=2.5 in /Library/Frameworks/Python.framework/Versions/3.9/lib/python3.9/site-packages (from requests<3,>=2.21.0->tensorboard~=2.5->tensorflow) (2.10)\n",
      "Requirement already satisfied: urllib3<1.27,>=1.21.1 in /Library/Frameworks/Python.framework/Versions/3.9/lib/python3.9/site-packages (from requests<3,>=2.21.0->tensorboard~=2.5->tensorflow) (1.26.6)\n",
      "Collecting oauthlib>=3.0.0\n",
      "  Downloading oauthlib-3.1.1-py2.py3-none-any.whl (146 kB)\n",
      "\u001b[K     |████████████████████████████████| 146 kB 5.2 MB/s \n",
      "\u001b[?25hUsing legacy 'setup.py install' for termcolor, since package 'wheel' is not installed.\n",
      "Using legacy 'setup.py install' for wrapt, since package 'wheel' is not installed.\n",
      "Installing collected packages: pyasn1, six, rsa, pyasn1-modules, oauthlib, cachetools, requests-oauthlib, google-auth, wheel, werkzeug, tensorboard-plugin-wit, tensorboard-data-server, protobuf, numpy, markdown, grpcio, google-auth-oauthlib, absl-py, wrapt, typing-extensions, termcolor, tensorflow-estimator, tensorboard, opt-einsum, keras-preprocessing, keras-nightly, h5py, google-pasta, gast, flatbuffers, astunparse, tensorflow\n",
      "  Attempting uninstall: six\n",
      "    Found existing installation: six 1.16.0\n",
      "    Uninstalling six-1.16.0:\n",
      "      Successfully uninstalled six-1.16.0\n",
      "  Attempting uninstall: numpy\n",
      "    Found existing installation: numpy 1.21.0\n",
      "    Uninstalling numpy-1.21.0:\n",
      "      Successfully uninstalled numpy-1.21.0\n",
      "    Running setup.py install for wrapt ... \u001b[?25ldone\n",
      "\u001b[?25h    Running setup.py install for termcolor ... \u001b[?25ldone\n",
      "\u001b[?25hSuccessfully installed absl-py-0.13.0 astunparse-1.6.3 cachetools-4.2.2 flatbuffers-1.12 gast-0.4.0 google-auth-1.32.1 google-auth-oauthlib-0.4.4 google-pasta-0.2.0 grpcio-1.34.1 h5py-3.1.0 keras-nightly-2.5.0.dev2021032900 keras-preprocessing-1.1.2 markdown-3.3.4 numpy-1.19.5 oauthlib-3.1.1 opt-einsum-3.3.0 protobuf-3.17.3 pyasn1-0.4.8 pyasn1-modules-0.2.8 requests-oauthlib-1.3.0 rsa-4.7.2 six-1.15.0 tensorboard-2.5.0 tensorboard-data-server-0.6.1 tensorboard-plugin-wit-1.8.0 tensorflow-2.5.0 tensorflow-estimator-2.5.0 termcolor-1.1.0 typing-extensions-3.7.4.3 werkzeug-2.0.1 wheel-0.36.2 wrapt-1.12.1\n",
      "Note: you may need to restart the kernel to use updated packages.\n"
     ]
    }
   ],
   "source": [
    "pip install tensorflow"
   ]
  },
  {
   "cell_type": "code",
   "execution_count": null,
   "metadata": {},
   "outputs": [],
   "source": [
    "#Pytorch is by facebook and \n",
    "# Tensorflow is by Google. \n",
    "#keras : Keras is not a full fledge deep learning framework, it is just a wrapper around Tensorflow that provides some convenient APIs.\n",
    "#keras is wrapper around Tensor flow, Microsoft CNTK, theano\n"
   ]
  },
  {
   "cell_type": "code",
   "execution_count": 4,
   "metadata": {},
   "outputs": [],
   "source": [
    "import tensorflow as tf \n",
    "from tensorflow import keras #keras gives convinent api to use\n",
    "import matplotlib.pyplot as plt \n",
    "import numpy as np \n"
   ]
  },
  {
   "cell_type": "code",
   "execution_count": 9,
   "metadata": {},
   "outputs": [],
   "source": [
    "#https://github.com/tensorflow/tensorflow/issues/33285\n",
    "\n",
    "import requests\n",
    "requests.packages.urllib3.disable_warnings()\n",
    "import ssl\n",
    "\n",
    "try:\n",
    "    _create_unverified_https_context = ssl._create_unverified_context\n",
    "except AttributeError:\n",
    "    # Legacy Python that doesn't verify HTTPS certificates by default\n",
    "    pass\n",
    "else:\n",
    "    # Handle target environment that doesn't support HTTPS verification\n",
    "    ssl._create_default_https_context = _create_unverified_https_context"
   ]
  },
  {
   "cell_type": "code",
   "execution_count": 10,
   "metadata": {},
   "outputs": [
    {
     "output_type": "stream",
     "name": "stdout",
     "text": [
      "Downloading data from https://storage.googleapis.com/tensorflow/tf-keras-datasets/mnist.npz\n",
      "11493376/11490434 [==============================] - 2s 0us/step\n"
     ]
    }
   ],
   "source": [
    " fashion_mnist = keras.datasets.mnist\n",
    " (X_train, y_train), (X_test, y_test) = fashion_mnist.load_data()"
   ]
  },
  {
   "cell_type": "code",
   "execution_count": 12,
   "metadata": {},
   "outputs": [
    {
     "output_type": "execute_result",
     "data": {
      "text/plain": [
       "(60000, 10000)"
      ]
     },
     "metadata": {},
     "execution_count": 12
    }
   ],
   "source": [
    "len(X_train), len(X_test)"
   ]
  },
  {
   "cell_type": "code",
   "execution_count": 13,
   "metadata": {},
   "outputs": [
    {
     "output_type": "execute_result",
     "data": {
      "text/plain": [
       "(28, 28)"
      ]
     },
     "metadata": {},
     "execution_count": 13
    }
   ],
   "source": [
    "X_train[0].shape"
   ]
  },
  {
   "cell_type": "code",
   "execution_count": 14,
   "metadata": {},
   "outputs": [
    {
     "output_type": "execute_result",
     "data": {
      "text/plain": [
       "array([[  0,   0,   0,   0,   0,   0,   0,   0,   0,   0,   0,   0,   0,\n",
       "          0,   0,   0,   0,   0,   0,   0,   0,   0,   0,   0,   0,   0,\n",
       "          0,   0],\n",
       "       [  0,   0,   0,   0,   0,   0,   0,   0,   0,   0,   0,   0,   0,\n",
       "          0,   0,   0,   0,   0,   0,   0,   0,   0,   0,   0,   0,   0,\n",
       "          0,   0],\n",
       "       [  0,   0,   0,   0,   0,   0,   0,   0,   0,   0,   0,   0,   0,\n",
       "          0,   0,   0,   0,   0,   0,   0,   0,   0,   0,   0,   0,   0,\n",
       "          0,   0],\n",
       "       [  0,   0,   0,   0,   0,   0,   0,   0,   0,   0,   0,   0,   0,\n",
       "          0,   0,   0,   0,   0,   0,   0,   0,   0,   0,   0,   0,   0,\n",
       "          0,   0],\n",
       "       [  0,   0,   0,   0,   0,   0,   0,   0,   0,   0,   0,   0,   0,\n",
       "          0,   0,   0,   0,   0,   0,   0,   0,   0,   0,   0,   0,   0,\n",
       "          0,   0],\n",
       "       [  0,   0,   0,   0,   0,   0,   0,   0,   0,   0,   0,   0,   3,\n",
       "         18,  18,  18, 126, 136, 175,  26, 166, 255, 247, 127,   0,   0,\n",
       "          0,   0],\n",
       "       [  0,   0,   0,   0,   0,   0,   0,   0,  30,  36,  94, 154, 170,\n",
       "        253, 253, 253, 253, 253, 225, 172, 253, 242, 195,  64,   0,   0,\n",
       "          0,   0],\n",
       "       [  0,   0,   0,   0,   0,   0,   0,  49, 238, 253, 253, 253, 253,\n",
       "        253, 253, 253, 253, 251,  93,  82,  82,  56,  39,   0,   0,   0,\n",
       "          0,   0],\n",
       "       [  0,   0,   0,   0,   0,   0,   0,  18, 219, 253, 253, 253, 253,\n",
       "        253, 198, 182, 247, 241,   0,   0,   0,   0,   0,   0,   0,   0,\n",
       "          0,   0],\n",
       "       [  0,   0,   0,   0,   0,   0,   0,   0,  80, 156, 107, 253, 253,\n",
       "        205,  11,   0,  43, 154,   0,   0,   0,   0,   0,   0,   0,   0,\n",
       "          0,   0],\n",
       "       [  0,   0,   0,   0,   0,   0,   0,   0,   0,  14,   1, 154, 253,\n",
       "         90,   0,   0,   0,   0,   0,   0,   0,   0,   0,   0,   0,   0,\n",
       "          0,   0],\n",
       "       [  0,   0,   0,   0,   0,   0,   0,   0,   0,   0,   0, 139, 253,\n",
       "        190,   2,   0,   0,   0,   0,   0,   0,   0,   0,   0,   0,   0,\n",
       "          0,   0],\n",
       "       [  0,   0,   0,   0,   0,   0,   0,   0,   0,   0,   0,  11, 190,\n",
       "        253,  70,   0,   0,   0,   0,   0,   0,   0,   0,   0,   0,   0,\n",
       "          0,   0],\n",
       "       [  0,   0,   0,   0,   0,   0,   0,   0,   0,   0,   0,   0,  35,\n",
       "        241, 225, 160, 108,   1,   0,   0,   0,   0,   0,   0,   0,   0,\n",
       "          0,   0],\n",
       "       [  0,   0,   0,   0,   0,   0,   0,   0,   0,   0,   0,   0,   0,\n",
       "         81, 240, 253, 253, 119,  25,   0,   0,   0,   0,   0,   0,   0,\n",
       "          0,   0],\n",
       "       [  0,   0,   0,   0,   0,   0,   0,   0,   0,   0,   0,   0,   0,\n",
       "          0,  45, 186, 253, 253, 150,  27,   0,   0,   0,   0,   0,   0,\n",
       "          0,   0],\n",
       "       [  0,   0,   0,   0,   0,   0,   0,   0,   0,   0,   0,   0,   0,\n",
       "          0,   0,  16,  93, 252, 253, 187,   0,   0,   0,   0,   0,   0,\n",
       "          0,   0],\n",
       "       [  0,   0,   0,   0,   0,   0,   0,   0,   0,   0,   0,   0,   0,\n",
       "          0,   0,   0,   0, 249, 253, 249,  64,   0,   0,   0,   0,   0,\n",
       "          0,   0],\n",
       "       [  0,   0,   0,   0,   0,   0,   0,   0,   0,   0,   0,   0,   0,\n",
       "          0,  46, 130, 183, 253, 253, 207,   2,   0,   0,   0,   0,   0,\n",
       "          0,   0],\n",
       "       [  0,   0,   0,   0,   0,   0,   0,   0,   0,   0,   0,   0,  39,\n",
       "        148, 229, 253, 253, 253, 250, 182,   0,   0,   0,   0,   0,   0,\n",
       "          0,   0],\n",
       "       [  0,   0,   0,   0,   0,   0,   0,   0,   0,   0,  24, 114, 221,\n",
       "        253, 253, 253, 253, 201,  78,   0,   0,   0,   0,   0,   0,   0,\n",
       "          0,   0],\n",
       "       [  0,   0,   0,   0,   0,   0,   0,   0,  23,  66, 213, 253, 253,\n",
       "        253, 253, 198,  81,   2,   0,   0,   0,   0,   0,   0,   0,   0,\n",
       "          0,   0],\n",
       "       [  0,   0,   0,   0,   0,   0,  18, 171, 219, 253, 253, 253, 253,\n",
       "        195,  80,   9,   0,   0,   0,   0,   0,   0,   0,   0,   0,   0,\n",
       "          0,   0],\n",
       "       [  0,   0,   0,   0,  55, 172, 226, 253, 253, 253, 253, 244, 133,\n",
       "         11,   0,   0,   0,   0,   0,   0,   0,   0,   0,   0,   0,   0,\n",
       "          0,   0],\n",
       "       [  0,   0,   0,   0, 136, 253, 253, 253, 212, 135, 132,  16,   0,\n",
       "          0,   0,   0,   0,   0,   0,   0,   0,   0,   0,   0,   0,   0,\n",
       "          0,   0],\n",
       "       [  0,   0,   0,   0,   0,   0,   0,   0,   0,   0,   0,   0,   0,\n",
       "          0,   0,   0,   0,   0,   0,   0,   0,   0,   0,   0,   0,   0,\n",
       "          0,   0],\n",
       "       [  0,   0,   0,   0,   0,   0,   0,   0,   0,   0,   0,   0,   0,\n",
       "          0,   0,   0,   0,   0,   0,   0,   0,   0,   0,   0,   0,   0,\n",
       "          0,   0],\n",
       "       [  0,   0,   0,   0,   0,   0,   0,   0,   0,   0,   0,   0,   0,\n",
       "          0,   0,   0,   0,   0,   0,   0,   0,   0,   0,   0,   0,   0,\n",
       "          0,   0]], dtype=uint8)"
      ]
     },
     "metadata": {},
     "execution_count": 14
    }
   ],
   "source": [
    "X_train[0]"
   ]
  },
  {
   "cell_type": "code",
   "execution_count": 21,
   "metadata": {},
   "outputs": [
    {
     "output_type": "execute_result",
     "data": {
      "text/plain": [
       "<matplotlib.image.AxesImage at 0x7fdff97cc4c0>"
      ]
     },
     "metadata": {},
     "execution_count": 21
    },
    {
     "output_type": "display_data",
     "data": {
      "text/plain": "<Figure size 288x288 with 1 Axes>",
      "image/svg+xml": "<?xml version=\"1.0\" encoding=\"utf-8\" standalone=\"no\"?>\n<!DOCTYPE svg PUBLIC \"-//W3C//DTD SVG 1.1//EN\"\n  \"http://www.w3.org/Graphics/SVG/1.1/DTD/svg11.dtd\">\n<svg height=\"257.778125pt\" version=\"1.1\" viewBox=\"0 0 257.325 257.778125\" width=\"257.325pt\" xmlns=\"http://www.w3.org/2000/svg\" xmlns:xlink=\"http://www.w3.org/1999/xlink\">\n <metadata>\n  <rdf:RDF xmlns:cc=\"http://creativecommons.org/ns#\" xmlns:dc=\"http://purl.org/dc/elements/1.1/\" xmlns:rdf=\"http://www.w3.org/1999/02/22-rdf-syntax-ns#\">\n   <cc:Work>\n    <dc:type rdf:resource=\"http://purl.org/dc/dcmitype/StillImage\"/>\n    <dc:date>2021-07-13T07:34:52.695918</dc:date>\n    <dc:format>image/svg+xml</dc:format>\n    <dc:creator>\n     <cc:Agent>\n      <dc:title>Matplotlib v3.4.2, https://matplotlib.org/</dc:title>\n     </cc:Agent>\n    </dc:creator>\n   </cc:Work>\n  </rdf:RDF>\n </metadata>\n <defs>\n  <style type=\"text/css\">*{stroke-linecap:butt;stroke-linejoin:round;}</style>\n </defs>\n <g id=\"figure_1\">\n  <g id=\"patch_1\">\n   <path d=\"M 0 257.778125 \nL 257.325 257.778125 \nL 257.325 0 \nL 0 0 \nz\n\" style=\"fill:none;\"/>\n  </g>\n  <g id=\"axes_1\">\n   <g id=\"patch_2\">\n    <path d=\"M 26.925 247.078125 \nL 250.125 247.078125 \nL 250.125 23.878125 \nL 26.925 23.878125 \nz\n\" style=\"fill:#ffffff;\"/>\n   </g>\n   <g clip-path=\"url(#p5c5bbc9d02)\">\n    <image height=\"224\" id=\"image5b48644de9\" transform=\"scale(1 -1)translate(0 -224)\" width=\"224\" x=\"26.925\" xlink:href=\"data:image/png;base64,\niVBORw0KGgoAAAANSUhEUgAAAOAAAADgCAYAAAAaLWrhAAAFFklEQVR4nO3dT2jXdRzHcX/7Laf0V00M0gyH0UE7VFoqQaGHLKIgKarD8FAnTx0agScPGkRBIkWHoKJTdzNC8BBroAxU8k+lVqTBypBIcnNu69oh3sO+m6/p7/G4vthvn8uTz+HDb2ttam2ZnANEdKUPAJ1MgBAkQAgSIAQJEIIECEEChCABQpAAIUiAECRACBIgBAkQggQIQQKEoO70Aci60Leu3Ad27in3R3dsK/c7Pxy86jN1EjcgBAkQggQIQQKEIAFCkAAhSIAQ5B2ww51/eKLRz7+wbX+5H/jo9nKfvHKl0e+/3rkBIUiAECRACBIgBAkQggQIQQKEIO+AHe7+934r968231zury88We4H2uvrA3gHBFIECEEChCABQpAAIUiAECRACPIO2OHGT/1Y7mdGl9QfMP/MNJ6m87gBIUiAECRACBIgBAkQggQIQQKEIO+AHe7sm/X39V687e0pPmHe9B2mA7kBIUiAECRACBIgBAkQggQIQQKEIO+AN7juFfeWe3/f5+W+oKt+59t5fnV9gPHxeu9wbkAIEiAECRCCBAhBAoQgAUKQACHIO+BM62qX80871pb7wmOT5f77g61yf/XJ/eX+0q3D5T6Vjw9uKPf7rhxq9Pk3OjcgBAkQggQIQQKEIAFCkAAhSIAQ5B1whl38Ynm5f7t6zzU6yf+z9eeN5b5sb/0OSc0NCEEChCABQpAAIUiAECRACBIgBHkHnGH9vV82+vnB0fr7hEcu1e+MU9m996lyX/nO6XKfP3yw0e/vdG5ACBIgBAkQggQIQQKEIAFCkAAhyDtgQ93Llpb7He3D5f735OVy3/Xc1nKfOHqy3KeyYs5gufvvfjPLDQhBAoQgAUKQACFIgBAkQAgSIAR5B2zo12fuKfd1PfVL2p8TE+Xe9J2P2c0NCEEChCABQpAAIUiAECRACBIgBAkQggQIQQKEIAFCkAAhSIAQJEAIEiAECRCCBAhBAoQgAUKQACFIgBAkQAgSIAT5u6Bh81rtch/dvKbce/Ydms7jcI25ASFIgBAkQAgSIAQJEIIECEEChCDvgA1devyvRj/f07qp3M9urN8Je/c1+vWEuQEhSIAQJEAIEiAECRCCBAhBAoSg1qbWlsn0Ia5njx0dKff+Rccaff7ASP1OuKv3gUafT5YbEIIECEEChCABQpAAIUiAECRACPJ9wIY+Pb623F/bMFTuC7rmlfuqufX3DX/Zvr7cFx0fL/f5w6Pl3ho4XO404waEIAFCkAAhSIAQJEAIEiAECRCCfB9whv2w+5Fy/+7596/RSf7bibGxcv/kj/qdcWj7Q+Xu/xfW3IAQJEAIEiAECRCCBAhBAoQgAUKQd8AZ1l68uNzPvbyy3CefuFDuQ2s+u+ozTafvxy6X+6GR5eV+amRJuQ/1rSr3iSMnyn22cwNCkAAhSIAQJEAIEiAECRCCBAhB3gFnu652OXcvqd8ZL/feVe6nXpl71Uf6t6+ffrfcl3bfUu6nxy6W+7MfvFHud7/1TbnPdm5ACBIgBAkQggQIQQKEIAFCkAAhyDsgBLkBIUiAECRACBIgBAkQggQIQQKEIAFCkAAhSIAQJEAIEiAECRCCBAhBAoQgAUKQACFIgBAkQAgSIAQJEIIECEEChCABQpAAIUiAECRACBIgBAkQggQIQQKEIAFCkAAhSIAQJEAIEiAECRCCBAhBAoQgAUKQACFIgBAkQAgSIAQJEIIECEEChKB/AMuXmBAkeTqPAAAAAElFTkSuQmCC\" y=\"-23.078125\"/>\n   </g>\n   <g id=\"matplotlib.axis_1\">\n    <g id=\"xtick_1\">\n     <g id=\"line2d_1\">\n      <defs>\n       <path d=\"M 0 0 \nL 0 3.5 \n\" id=\"mdd400642c0\" style=\"stroke:#000000;stroke-width:0.8;\"/>\n      </defs>\n      <g>\n       <use style=\"stroke:#000000;stroke-width:0.8;\" x=\"30.910714\" xlink:href=\"#mdd400642c0\" y=\"247.078125\"/>\n      </g>\n     </g>\n     <g id=\"line2d_2\">\n      <defs>\n       <path d=\"M 0 0 \nL 0 -3.5 \n\" id=\"m4613e234c0\" style=\"stroke:#000000;stroke-width:0.8;\"/>\n      </defs>\n      <g>\n       <use style=\"stroke:#000000;stroke-width:0.8;\" x=\"30.910714\" xlink:href=\"#m4613e234c0\" y=\"23.878125\"/>\n      </g>\n     </g>\n     <g id=\"text_1\">\n      <!-- 0 -->\n      <g transform=\"translate(27.729464 14.798438)scale(0.1 -0.1)\">\n       <defs>\n        <path d=\"M 2034 4250 \nQ 1547 4250 1301 3770 \nQ 1056 3291 1056 2328 \nQ 1056 1369 1301 889 \nQ 1547 409 2034 409 \nQ 2525 409 2770 889 \nQ 3016 1369 3016 2328 \nQ 3016 3291 2770 3770 \nQ 2525 4250 2034 4250 \nz\nM 2034 4750 \nQ 2819 4750 3233 4129 \nQ 3647 3509 3647 2328 \nQ 3647 1150 3233 529 \nQ 2819 -91 2034 -91 \nQ 1250 -91 836 529 \nQ 422 1150 422 2328 \nQ 422 3509 836 4129 \nQ 1250 4750 2034 4750 \nz\n\" id=\"DejaVuSans-30\" transform=\"scale(0.015625)\"/>\n       </defs>\n       <use xlink:href=\"#DejaVuSans-30\"/>\n      </g>\n     </g>\n    </g>\n    <g id=\"xtick_2\">\n     <g id=\"line2d_3\">\n      <g>\n       <use style=\"stroke:#000000;stroke-width:0.8;\" x=\"70.767857\" xlink:href=\"#mdd400642c0\" y=\"247.078125\"/>\n      </g>\n     </g>\n     <g id=\"line2d_4\">\n      <g>\n       <use style=\"stroke:#000000;stroke-width:0.8;\" x=\"70.767857\" xlink:href=\"#m4613e234c0\" y=\"23.878125\"/>\n      </g>\n     </g>\n     <g id=\"text_2\">\n      <!-- 5 -->\n      <g transform=\"translate(67.586607 14.798438)scale(0.1 -0.1)\">\n       <defs>\n        <path d=\"M 691 4666 \nL 3169 4666 \nL 3169 4134 \nL 1269 4134 \nL 1269 2991 \nQ 1406 3038 1543 3061 \nQ 1681 3084 1819 3084 \nQ 2600 3084 3056 2656 \nQ 3513 2228 3513 1497 \nQ 3513 744 3044 326 \nQ 2575 -91 1722 -91 \nQ 1428 -91 1123 -41 \nQ 819 9 494 109 \nL 494 744 \nQ 775 591 1075 516 \nQ 1375 441 1709 441 \nQ 2250 441 2565 725 \nQ 2881 1009 2881 1497 \nQ 2881 1984 2565 2268 \nQ 2250 2553 1709 2553 \nQ 1456 2553 1204 2497 \nQ 953 2441 691 2322 \nL 691 4666 \nz\n\" id=\"DejaVuSans-35\" transform=\"scale(0.015625)\"/>\n       </defs>\n       <use xlink:href=\"#DejaVuSans-35\"/>\n      </g>\n     </g>\n    </g>\n    <g id=\"xtick_3\">\n     <g id=\"line2d_5\">\n      <g>\n       <use style=\"stroke:#000000;stroke-width:0.8;\" x=\"110.625\" xlink:href=\"#mdd400642c0\" y=\"247.078125\"/>\n      </g>\n     </g>\n     <g id=\"line2d_6\">\n      <g>\n       <use style=\"stroke:#000000;stroke-width:0.8;\" x=\"110.625\" xlink:href=\"#m4613e234c0\" y=\"23.878125\"/>\n      </g>\n     </g>\n     <g id=\"text_3\">\n      <!-- 10 -->\n      <g transform=\"translate(104.2625 14.798438)scale(0.1 -0.1)\">\n       <defs>\n        <path d=\"M 794 531 \nL 1825 531 \nL 1825 4091 \nL 703 3866 \nL 703 4441 \nL 1819 4666 \nL 2450 4666 \nL 2450 531 \nL 3481 531 \nL 3481 0 \nL 794 0 \nL 794 531 \nz\n\" id=\"DejaVuSans-31\" transform=\"scale(0.015625)\"/>\n       </defs>\n       <use xlink:href=\"#DejaVuSans-31\"/>\n       <use x=\"63.623047\" xlink:href=\"#DejaVuSans-30\"/>\n      </g>\n     </g>\n    </g>\n    <g id=\"xtick_4\">\n     <g id=\"line2d_7\">\n      <g>\n       <use style=\"stroke:#000000;stroke-width:0.8;\" x=\"150.482143\" xlink:href=\"#mdd400642c0\" y=\"247.078125\"/>\n      </g>\n     </g>\n     <g id=\"line2d_8\">\n      <g>\n       <use style=\"stroke:#000000;stroke-width:0.8;\" x=\"150.482143\" xlink:href=\"#m4613e234c0\" y=\"23.878125\"/>\n      </g>\n     </g>\n     <g id=\"text_4\">\n      <!-- 15 -->\n      <g transform=\"translate(144.119643 14.798438)scale(0.1 -0.1)\">\n       <use xlink:href=\"#DejaVuSans-31\"/>\n       <use x=\"63.623047\" xlink:href=\"#DejaVuSans-35\"/>\n      </g>\n     </g>\n    </g>\n    <g id=\"xtick_5\">\n     <g id=\"line2d_9\">\n      <g>\n       <use style=\"stroke:#000000;stroke-width:0.8;\" x=\"190.339286\" xlink:href=\"#mdd400642c0\" y=\"247.078125\"/>\n      </g>\n     </g>\n     <g id=\"line2d_10\">\n      <g>\n       <use style=\"stroke:#000000;stroke-width:0.8;\" x=\"190.339286\" xlink:href=\"#m4613e234c0\" y=\"23.878125\"/>\n      </g>\n     </g>\n     <g id=\"text_5\">\n      <!-- 20 -->\n      <g transform=\"translate(183.976786 14.798438)scale(0.1 -0.1)\">\n       <defs>\n        <path d=\"M 1228 531 \nL 3431 531 \nL 3431 0 \nL 469 0 \nL 469 531 \nQ 828 903 1448 1529 \nQ 2069 2156 2228 2338 \nQ 2531 2678 2651 2914 \nQ 2772 3150 2772 3378 \nQ 2772 3750 2511 3984 \nQ 2250 4219 1831 4219 \nQ 1534 4219 1204 4116 \nQ 875 4013 500 3803 \nL 500 4441 \nQ 881 4594 1212 4672 \nQ 1544 4750 1819 4750 \nQ 2544 4750 2975 4387 \nQ 3406 4025 3406 3419 \nQ 3406 3131 3298 2873 \nQ 3191 2616 2906 2266 \nQ 2828 2175 2409 1742 \nQ 1991 1309 1228 531 \nz\n\" id=\"DejaVuSans-32\" transform=\"scale(0.015625)\"/>\n       </defs>\n       <use xlink:href=\"#DejaVuSans-32\"/>\n       <use x=\"63.623047\" xlink:href=\"#DejaVuSans-30\"/>\n      </g>\n     </g>\n    </g>\n    <g id=\"xtick_6\">\n     <g id=\"line2d_11\">\n      <g>\n       <use style=\"stroke:#000000;stroke-width:0.8;\" x=\"230.196429\" xlink:href=\"#mdd400642c0\" y=\"247.078125\"/>\n      </g>\n     </g>\n     <g id=\"line2d_12\">\n      <g>\n       <use style=\"stroke:#000000;stroke-width:0.8;\" x=\"230.196429\" xlink:href=\"#m4613e234c0\" y=\"23.878125\"/>\n      </g>\n     </g>\n     <g id=\"text_6\">\n      <!-- 25 -->\n      <g transform=\"translate(223.833929 14.798438)scale(0.1 -0.1)\">\n       <use xlink:href=\"#DejaVuSans-32\"/>\n       <use x=\"63.623047\" xlink:href=\"#DejaVuSans-35\"/>\n      </g>\n     </g>\n    </g>\n   </g>\n   <g id=\"matplotlib.axis_2\">\n    <g id=\"ytick_1\">\n     <g id=\"line2d_13\">\n      <defs>\n       <path d=\"M 0 0 \nL -3.5 0 \n\" id=\"mcb0463a157\" style=\"stroke:#000000;stroke-width:0.8;\"/>\n      </defs>\n      <g>\n       <use style=\"stroke:#000000;stroke-width:0.8;\" x=\"26.925\" xlink:href=\"#mcb0463a157\" y=\"27.863839\"/>\n      </g>\n     </g>\n     <g id=\"text_7\">\n      <!-- 0 -->\n      <g transform=\"translate(13.5625 31.663058)scale(0.1 -0.1)\">\n       <use xlink:href=\"#DejaVuSans-30\"/>\n      </g>\n     </g>\n    </g>\n    <g id=\"ytick_2\">\n     <g id=\"line2d_14\">\n      <g>\n       <use style=\"stroke:#000000;stroke-width:0.8;\" x=\"26.925\" xlink:href=\"#mcb0463a157\" y=\"67.720982\"/>\n      </g>\n     </g>\n     <g id=\"text_8\">\n      <!-- 5 -->\n      <g transform=\"translate(13.5625 71.520201)scale(0.1 -0.1)\">\n       <use xlink:href=\"#DejaVuSans-35\"/>\n      </g>\n     </g>\n    </g>\n    <g id=\"ytick_3\">\n     <g id=\"line2d_15\">\n      <g>\n       <use style=\"stroke:#000000;stroke-width:0.8;\" x=\"26.925\" xlink:href=\"#mcb0463a157\" y=\"107.578125\"/>\n      </g>\n     </g>\n     <g id=\"text_9\">\n      <!-- 10 -->\n      <g transform=\"translate(7.2 111.377344)scale(0.1 -0.1)\">\n       <use xlink:href=\"#DejaVuSans-31\"/>\n       <use x=\"63.623047\" xlink:href=\"#DejaVuSans-30\"/>\n      </g>\n     </g>\n    </g>\n    <g id=\"ytick_4\">\n     <g id=\"line2d_16\">\n      <g>\n       <use style=\"stroke:#000000;stroke-width:0.8;\" x=\"26.925\" xlink:href=\"#mcb0463a157\" y=\"147.435268\"/>\n      </g>\n     </g>\n     <g id=\"text_10\">\n      <!-- 15 -->\n      <g transform=\"translate(7.2 151.234487)scale(0.1 -0.1)\">\n       <use xlink:href=\"#DejaVuSans-31\"/>\n       <use x=\"63.623047\" xlink:href=\"#DejaVuSans-35\"/>\n      </g>\n     </g>\n    </g>\n    <g id=\"ytick_5\">\n     <g id=\"line2d_17\">\n      <g>\n       <use style=\"stroke:#000000;stroke-width:0.8;\" x=\"26.925\" xlink:href=\"#mcb0463a157\" y=\"187.292411\"/>\n      </g>\n     </g>\n     <g id=\"text_11\">\n      <!-- 20 -->\n      <g transform=\"translate(7.2 191.091629)scale(0.1 -0.1)\">\n       <use xlink:href=\"#DejaVuSans-32\"/>\n       <use x=\"63.623047\" xlink:href=\"#DejaVuSans-30\"/>\n      </g>\n     </g>\n    </g>\n    <g id=\"ytick_6\">\n     <g id=\"line2d_18\">\n      <g>\n       <use style=\"stroke:#000000;stroke-width:0.8;\" x=\"26.925\" xlink:href=\"#mcb0463a157\" y=\"227.149554\"/>\n      </g>\n     </g>\n     <g id=\"text_12\">\n      <!-- 25 -->\n      <g transform=\"translate(7.2 230.948772)scale(0.1 -0.1)\">\n       <use xlink:href=\"#DejaVuSans-32\"/>\n       <use x=\"63.623047\" xlink:href=\"#DejaVuSans-35\"/>\n      </g>\n     </g>\n    </g>\n   </g>\n   <g id=\"patch_3\">\n    <path d=\"M 26.925 247.078125 \nL 26.925 23.878125 \n\" style=\"fill:none;stroke:#000000;stroke-linecap:square;stroke-linejoin:miter;stroke-width:0.8;\"/>\n   </g>\n   <g id=\"patch_4\">\n    <path d=\"M 250.125 247.078125 \nL 250.125 23.878125 \n\" style=\"fill:none;stroke:#000000;stroke-linecap:square;stroke-linejoin:miter;stroke-width:0.8;\"/>\n   </g>\n   <g id=\"patch_5\">\n    <path d=\"M 26.925 247.078125 \nL 250.125 247.078125 \n\" style=\"fill:none;stroke:#000000;stroke-linecap:square;stroke-linejoin:miter;stroke-width:0.8;\"/>\n   </g>\n   <g id=\"patch_6\">\n    <path d=\"M 26.925 23.878125 \nL 250.125 23.878125 \n\" style=\"fill:none;stroke:#000000;stroke-linecap:square;stroke-linejoin:miter;stroke-width:0.8;\"/>\n   </g>\n  </g>\n </g>\n <defs>\n  <clipPath id=\"p5c5bbc9d02\">\n   <rect height=\"223.2\" width=\"223.2\" x=\"26.925\" y=\"23.878125\"/>\n  </clipPath>\n </defs>\n</svg>\n",
      "image/png": "[encoded data removed]"
     },
     "metadata": {
      "needs_background": "light"
     }
    }
   ],
   "source": [
    "plt.matshow(X_train[100])"
   ]
  },
  {
   "cell_type": "code",
   "execution_count": 22,
   "metadata": {},
   "outputs": [
    {
     "output_type": "execute_result",
     "data": {
      "text/plain": [
       "5"
      ]
     },
     "metadata": {},
     "execution_count": 22
    }
   ],
   "source": [
    "y_train[100]"
   ]
  },
  {
   "cell_type": "code",
   "execution_count": 23,
   "metadata": {},
   "outputs": [
    {
     "output_type": "execute_result",
     "data": {
      "text/plain": [
       "array([5, 0, 4, 1, 9], dtype=uint8)"
      ]
     },
     "metadata": {},
     "execution_count": 23
    }
   ],
   "source": [
    "y_train[:5]"
   ]
  },
  {
   "cell_type": "code",
   "execution_count": 24,
   "metadata": {},
   "outputs": [
    {
     "output_type": "execute_result",
     "data": {
      "text/plain": [
       "(60000, 28, 28)"
      ]
     },
     "metadata": {},
     "execution_count": 24
    }
   ],
   "source": [
    "X_train.shape\n"
   ]
  },
  {
   "cell_type": "code",
   "execution_count": 34,
   "metadata": {},
   "outputs": [],
   "source": [
    "X_train = X_train / 255\n",
    "X_test = X_test / 255"
   ]
  },
  {
   "cell_type": "code",
   "execution_count": 35,
   "metadata": {},
   "outputs": [
    {
     "output_type": "execute_result",
     "data": {
      "text/plain": [
       "array([[0.        , 0.        , 0.        , 0.        , 0.        ,\n",
       "        0.        , 0.        , 0.        , 0.        , 0.        ,\n",
       "        0.        , 0.        , 0.        , 0.        , 0.        ,\n",
       "        0.        , 0.        , 0.        , 0.        , 0.        ,\n",
       "        0.        , 0.        , 0.        , 0.        , 0.        ,\n",
       "        0.        , 0.        , 0.        ],\n",
       "       [0.        , 0.        , 0.        , 0.        , 0.        ,\n",
       "        0.        , 0.        , 0.        , 0.        , 0.        ,\n",
       "        0.        , 0.        , 0.        , 0.        , 0.        ,\n",
       "        0.        , 0.        , 0.        , 0.        , 0.        ,\n",
       "        0.        , 0.        , 0.        , 0.        , 0.        ,\n",
       "        0.        , 0.        , 0.        ],\n",
       "       [0.        , 0.        , 0.        , 0.        , 0.        ,\n",
       "        0.        , 0.        , 0.        , 0.        , 0.        ,\n",
       "        0.        , 0.        , 0.        , 0.        , 0.        ,\n",
       "        0.        , 0.        , 0.        , 0.        , 0.        ,\n",
       "        0.        , 0.        , 0.        , 0.        , 0.        ,\n",
       "        0.        , 0.        , 0.        ],\n",
       "       [0.        , 0.        , 0.        , 0.        , 0.        ,\n",
       "        0.        , 0.        , 0.        , 0.        , 0.        ,\n",
       "        0.        , 0.        , 0.        , 0.        , 0.        ,\n",
       "        0.        , 0.        , 0.        , 0.        , 0.        ,\n",
       "        0.        , 0.        , 0.        , 0.        , 0.        ,\n",
       "        0.        , 0.        , 0.        ],\n",
       "       [0.        , 0.        , 0.        , 0.        , 0.        ,\n",
       "        0.        , 0.        , 0.        , 0.        , 0.        ,\n",
       "        0.        , 0.        , 0.        , 0.        , 0.        ,\n",
       "        0.        , 0.        , 0.        , 0.        , 0.        ,\n",
       "        0.        , 0.        , 0.        , 0.        , 0.        ,\n",
       "        0.        , 0.        , 0.        ],\n",
       "       [0.        , 0.        , 0.        , 0.        , 0.        ,\n",
       "        0.        , 0.        , 0.        , 0.        , 0.        ,\n",
       "        0.        , 0.        , 0.01176471, 0.07058824, 0.07058824,\n",
       "        0.07058824, 0.49411765, 0.53333333, 0.68627451, 0.10196078,\n",
       "        0.65098039, 1.        , 0.96862745, 0.49803922, 0.        ,\n",
       "        0.        , 0.        , 0.        ],\n",
       "       [0.        , 0.        , 0.        , 0.        , 0.        ,\n",
       "        0.        , 0.        , 0.        , 0.11764706, 0.14117647,\n",
       "        0.36862745, 0.60392157, 0.66666667, 0.99215686, 0.99215686,\n",
       "        0.99215686, 0.99215686, 0.99215686, 0.88235294, 0.6745098 ,\n",
       "        0.99215686, 0.94901961, 0.76470588, 0.25098039, 0.        ,\n",
       "        0.        , 0.        , 0.        ],\n",
       "       [0.        , 0.        , 0.        , 0.        , 0.        ,\n",
       "        0.        , 0.        , 0.19215686, 0.93333333, 0.99215686,\n",
       "        0.99215686, 0.99215686, 0.99215686, 0.99215686, 0.99215686,\n",
       "        0.99215686, 0.99215686, 0.98431373, 0.36470588, 0.32156863,\n",
       "        0.32156863, 0.21960784, 0.15294118, 0.        , 0.        ,\n",
       "        0.        , 0.        , 0.        ],\n",
       "       [0.        , 0.        , 0.        , 0.        , 0.        ,\n",
       "        0.        , 0.        , 0.07058824, 0.85882353, 0.99215686,\n",
       "        0.99215686, 0.99215686, 0.99215686, 0.99215686, 0.77647059,\n",
       "        0.71372549, 0.96862745, 0.94509804, 0.        , 0.        ,\n",
       "        0.        , 0.        , 0.        , 0.        , 0.        ,\n",
       "        0.        , 0.        , 0.        ],\n",
       "       [0.        , 0.        , 0.        , 0.        , 0.        ,\n",
       "        0.        , 0.        , 0.        , 0.31372549, 0.61176471,\n",
       "        0.41960784, 0.99215686, 0.99215686, 0.80392157, 0.04313725,\n",
       "        0.        , 0.16862745, 0.60392157, 0.        , 0.        ,\n",
       "        0.        , 0.        , 0.        , 0.        , 0.        ,\n",
       "        0.        , 0.        , 0.        ],\n",
       "       [0.        , 0.        , 0.        , 0.        , 0.        ,\n",
       "        0.        , 0.        , 0.        , 0.        , 0.05490196,\n",
       "        0.00392157, 0.60392157, 0.99215686, 0.35294118, 0.        ,\n",
       "        0.        , 0.        , 0.        , 0.        , 0.        ,\n",
       "        0.        , 0.        , 0.        , 0.        , 0.        ,\n",
       "        0.        , 0.        , 0.        ],\n",
       "       [0.        , 0.        , 0.        , 0.        , 0.        ,\n",
       "        0.        , 0.        , 0.        , 0.        , 0.        ,\n",
       "        0.        , 0.54509804, 0.99215686, 0.74509804, 0.00784314,\n",
       "        0.        , 0.        , 0.        , 0.        , 0.        ,\n",
       "        0.        , 0.        , 0.        , 0.        , 0.        ,\n",
       "        0.        , 0.        , 0.        ],\n",
       "       [0.        , 0.        , 0.        , 0.        , 0.        ,\n",
       "        0.        , 0.        , 0.        , 0.        , 0.        ,\n",
       "        0.        , 0.04313725, 0.74509804, 0.99215686, 0.2745098 ,\n",
       "        0.        , 0.        , 0.        , 0.        , 0.        ,\n",
       "        0.        , 0.        , 0.        , 0.        , 0.        ,\n",
       "        0.        , 0.        , 0.        ],\n",
       "       [0.        , 0.        , 0.        , 0.        , 0.        ,\n",
       "        0.        , 0.        , 0.        , 0.        , 0.        ,\n",
       "        0.        , 0.        , 0.1372549 , 0.94509804, 0.88235294,\n",
       "        0.62745098, 0.42352941, 0.00392157, 0.        , 0.        ,\n",
       "        0.        , 0.        , 0.        , 0.        , 0.        ,\n",
       "        0.        , 0.        , 0.        ],\n",
       "       [0.        , 0.        , 0.        , 0.        , 0.        ,\n",
       "        0.        , 0.        , 0.        , 0.        , 0.        ,\n",
       "        0.        , 0.        , 0.        , 0.31764706, 0.94117647,\n",
       "        0.99215686, 0.99215686, 0.46666667, 0.09803922, 0.        ,\n",
       "        0.        , 0.        , 0.        , 0.        , 0.        ,\n",
       "        0.        , 0.        , 0.        ],\n",
       "       [0.        , 0.        , 0.        , 0.        , 0.        ,\n",
       "        0.        , 0.        , 0.        , 0.        , 0.        ,\n",
       "        0.        , 0.        , 0.        , 0.        , 0.17647059,\n",
       "        0.72941176, 0.99215686, 0.99215686, 0.58823529, 0.10588235,\n",
       "        0.        , 0.        , 0.        , 0.        , 0.        ,\n",
       "        0.        , 0.        , 0.        ],\n",
       "       [0.        , 0.        , 0.        , 0.        , 0.        ,\n",
       "        0.        , 0.        , 0.        , 0.        , 0.        ,\n",
       "        0.        , 0.        , 0.        , 0.        , 0.        ,\n",
       "        0.0627451 , 0.36470588, 0.98823529, 0.99215686, 0.73333333,\n",
       "        0.        , 0.        , 0.        , 0.        , 0.        ,\n",
       "        0.        , 0.        , 0.        ],\n",
       "       [0.        , 0.        , 0.        , 0.        , 0.        ,\n",
       "        0.        , 0.        , 0.        , 0.        , 0.        ,\n",
       "        0.        , 0.        , 0.        , 0.        , 0.        ,\n",
       "        0.        , 0.        , 0.97647059, 0.99215686, 0.97647059,\n",
       "        0.25098039, 0.        , 0.        , 0.        , 0.        ,\n",
       "        0.        , 0.        , 0.        ],\n",
       "       [0.        , 0.        , 0.        , 0.        , 0.        ,\n",
       "        0.        , 0.        , 0.        , 0.        , 0.        ,\n",
       "        0.        , 0.        , 0.        , 0.        , 0.18039216,\n",
       "        0.50980392, 0.71764706, 0.99215686, 0.99215686, 0.81176471,\n",
       "        0.00784314, 0.        , 0.        , 0.        , 0.        ,\n",
       "        0.        , 0.        , 0.        ],\n",
       "       [0.        , 0.        , 0.        , 0.        , 0.        ,\n",
       "        0.        , 0.        , 0.        , 0.        , 0.        ,\n",
       "        0.        , 0.        , 0.15294118, 0.58039216, 0.89803922,\n",
       "        0.99215686, 0.99215686, 0.99215686, 0.98039216, 0.71372549,\n",
       "        0.        , 0.        , 0.        , 0.        , 0.        ,\n",
       "        0.        , 0.        , 0.        ],\n",
       "       [0.        , 0.        , 0.        , 0.        , 0.        ,\n",
       "        0.        , 0.        , 0.        , 0.        , 0.        ,\n",
       "        0.09411765, 0.44705882, 0.86666667, 0.99215686, 0.99215686,\n",
       "        0.99215686, 0.99215686, 0.78823529, 0.30588235, 0.        ,\n",
       "        0.        , 0.        , 0.        , 0.        , 0.        ,\n",
       "        0.        , 0.        , 0.        ],\n",
       "       [0.        , 0.        , 0.        , 0.        , 0.        ,\n",
       "        0.        , 0.        , 0.        , 0.09019608, 0.25882353,\n",
       "        0.83529412, 0.99215686, 0.99215686, 0.99215686, 0.99215686,\n",
       "        0.77647059, 0.31764706, 0.00784314, 0.        , 0.        ,\n",
       "        0.        , 0.        , 0.        , 0.        , 0.        ,\n",
       "        0.        , 0.        , 0.        ],\n",
       "       [0.        , 0.        , 0.        , 0.        , 0.        ,\n",
       "        0.        , 0.07058824, 0.67058824, 0.85882353, 0.99215686,\n",
       "        0.99215686, 0.99215686, 0.99215686, 0.76470588, 0.31372549,\n",
       "        0.03529412, 0.        , 0.        , 0.        , 0.        ,\n",
       "        0.        , 0.        , 0.        , 0.        , 0.        ,\n",
       "        0.        , 0.        , 0.        ],\n",
       "       [0.        , 0.        , 0.        , 0.        , 0.21568627,\n",
       "        0.6745098 , 0.88627451, 0.99215686, 0.99215686, 0.99215686,\n",
       "        0.99215686, 0.95686275, 0.52156863, 0.04313725, 0.        ,\n",
       "        0.        , 0.        , 0.        , 0.        , 0.        ,\n",
       "        0.        , 0.        , 0.        , 0.        , 0.        ,\n",
       "        0.        , 0.        , 0.        ],\n",
       "       [0.        , 0.        , 0.        , 0.        , 0.53333333,\n",
       "        0.99215686, 0.99215686, 0.99215686, 0.83137255, 0.52941176,\n",
       "        0.51764706, 0.0627451 , 0.        , 0.        , 0.        ,\n",
       "        0.        , 0.        , 0.        , 0.        , 0.        ,\n",
       "        0.        , 0.        , 0.        , 0.        , 0.        ,\n",
       "        0.        , 0.        , 0.        ],\n",
       "       [0.        , 0.        , 0.        , 0.        , 0.        ,\n",
       "        0.        , 0.        , 0.        , 0.        , 0.        ,\n",
       "        0.        , 0.        , 0.        , 0.        , 0.        ,\n",
       "        0.        , 0.        , 0.        , 0.        , 0.        ,\n",
       "        0.        , 0.        , 0.        , 0.        , 0.        ,\n",
       "        0.        , 0.        , 0.        ],\n",
       "       [0.        , 0.        , 0.        , 0.        , 0.        ,\n",
       "        0.        , 0.        , 0.        , 0.        , 0.        ,\n",
       "        0.        , 0.        , 0.        , 0.        , 0.        ,\n",
       "        0.        , 0.        , 0.        , 0.        , 0.        ,\n",
       "        0.        , 0.        , 0.        , 0.        , 0.        ,\n",
       "        0.        , 0.        , 0.        ],\n",
       "       [0.        , 0.        , 0.        , 0.        , 0.        ,\n",
       "        0.        , 0.        , 0.        , 0.        , 0.        ,\n",
       "        0.        , 0.        , 0.        , 0.        , 0.        ,\n",
       "        0.        , 0.        , 0.        , 0.        , 0.        ,\n",
       "        0.        , 0.        , 0.        , 0.        , 0.        ,\n",
       "        0.        , 0.        , 0.        ]])"
      ]
     },
     "metadata": {},
     "execution_count": 35
    }
   ],
   "source": [
    "X_train[0]"
   ]
  },
  {
   "cell_type": "code",
   "execution_count": 36,
   "metadata": {},
   "outputs": [],
   "source": [
    "#So the input here is a image, but we need it in nos. So we need to flatten it. Image is basically pixel rep. 0-255 . this image can be rep into grid 7*7 or 28*28 and faltten it into single array \n",
    "#pandas has reshape - which converts (60000, 28, 28) to (60000, 28*28) 784, 60000= no of images\n",
    "X_train_flattened = X_train.reshape(len(X_train), 28*28)"
   ]
  },
  {
   "cell_type": "code",
   "execution_count": 37,
   "metadata": {},
   "outputs": [
    {
     "output_type": "execute_result",
     "data": {
      "text/plain": [
       "(60000, 784)"
      ]
     },
     "metadata": {},
     "execution_count": 37
    }
   ],
   "source": [
    "X_train_flattened.shape"
   ]
  },
  {
   "cell_type": "code",
   "execution_count": 38,
   "metadata": {},
   "outputs": [
    {
     "output_type": "execute_result",
     "data": {
      "text/plain": [
       "(10000, 784)"
      ]
     },
     "metadata": {},
     "execution_count": 38
    }
   ],
   "source": [
    "X_test_flattened = X_test.reshape(len(X_test), 28*28)\n",
    "X_test_flattened.shape"
   ]
  },
  {
   "cell_type": "code",
   "execution_count": 30,
   "metadata": {},
   "outputs": [
    {
     "output_type": "execute_result",
     "data": {
      "text/plain": [
       "array([  0,   0,   0,   0,   0,   0,   0,   0,   0,   0,   0,   0,   0,\n",
       "         0,   0,   0,   0,   0,   0,   0,   0,   0,   0,   0,   0,   0,\n",
       "         0,   0,   0,   0,   0,   0,   0,   0,   0,   0,   0,   0,   0,\n",
       "         0,   0,   0,   0,   0,   0,   0,   0,   0,   0,   0,   0,   0,\n",
       "         0,   0,   0,   0,   0,   0,   0,   0,   0,   0,   0,   0,   0,\n",
       "         0,   0,   0,   0,   0,   0,   0,   0,   0,   0,   0,   0,   0,\n",
       "         0,   0,   0,   0,   0,   0,   0,   0,   0,   0,   0,   0,   0,\n",
       "         0,   0,   0,   0,   0,   0,   0,   0,   0,   0,   0,   0,   0,\n",
       "         0,   0,   0,   0,   0,   0,   0,   0,   0,   0,   0,   0,   0,\n",
       "         0,   0,   0,   0,   0,   0,   0,   0,   0,   0,   0,   0,   0,\n",
       "         0,   0,   0,   0,   0,   0,   0,   0,   0,   0,   0,   0,   0,\n",
       "         0,   0,   0,   0,   0,   0,   0,   0,   0,   3,  18,  18,  18,\n",
       "       126, 136, 175,  26, 166, 255, 247, 127,   0,   0,   0,   0,   0,\n",
       "         0,   0,   0,   0,   0,   0,   0,  30,  36,  94, 154, 170, 253,\n",
       "       253, 253, 253, 253, 225, 172, 253, 242, 195,  64,   0,   0,   0,\n",
       "         0,   0,   0,   0,   0,   0,   0,   0,  49, 238, 253, 253, 253,\n",
       "       253, 253, 253, 253, 253, 251,  93,  82,  82,  56,  39,   0,   0,\n",
       "         0,   0,   0,   0,   0,   0,   0,   0,   0,   0,  18, 219, 253,\n",
       "       253, 253, 253, 253, 198, 182, 247, 241,   0,   0,   0,   0,   0,\n",
       "         0,   0,   0,   0,   0,   0,   0,   0,   0,   0,   0,   0,   0,\n",
       "        80, 156, 107, 253, 253, 205,  11,   0,  43, 154,   0,   0,   0,\n",
       "         0,   0,   0,   0,   0,   0,   0,   0,   0,   0,   0,   0,   0,\n",
       "         0,   0,   0,  14,   1, 154, 253,  90,   0,   0,   0,   0,   0,\n",
       "         0,   0,   0,   0,   0,   0,   0,   0,   0,   0,   0,   0,   0,\n",
       "         0,   0,   0,   0,   0,   0,   0, 139, 253, 190,   2,   0,   0,\n",
       "         0,   0,   0,   0,   0,   0,   0,   0,   0,   0,   0,   0,   0,\n",
       "         0,   0,   0,   0,   0,   0,   0,   0,   0,  11, 190, 253,  70,\n",
       "         0,   0,   0,   0,   0,   0,   0,   0,   0,   0,   0,   0,   0,\n",
       "         0,   0,   0,   0,   0,   0,   0,   0,   0,   0,   0,   0,  35,\n",
       "       241, 225, 160, 108,   1,   0,   0,   0,   0,   0,   0,   0,   0,\n",
       "         0,   0,   0,   0,   0,   0,   0,   0,   0,   0,   0,   0,   0,\n",
       "         0,   0,  81, 240, 253, 253, 119,  25,   0,   0,   0,   0,   0,\n",
       "         0,   0,   0,   0,   0,   0,   0,   0,   0,   0,   0,   0,   0,\n",
       "         0,   0,   0,   0,   0,  45, 186, 253, 253, 150,  27,   0,   0,\n",
       "         0,   0,   0,   0,   0,   0,   0,   0,   0,   0,   0,   0,   0,\n",
       "         0,   0,   0,   0,   0,   0,   0,   0,  16,  93, 252, 253, 187,\n",
       "         0,   0,   0,   0,   0,   0,   0,   0,   0,   0,   0,   0,   0,\n",
       "         0,   0,   0,   0,   0,   0,   0,   0,   0,   0,   0,   0, 249,\n",
       "       253, 249,  64,   0,   0,   0,   0,   0,   0,   0,   0,   0,   0,\n",
       "         0,   0,   0,   0,   0,   0,   0,   0,   0,   0,   0,  46, 130,\n",
       "       183, 253, 253, 207,   2,   0,   0,   0,   0,   0,   0,   0,   0,\n",
       "         0,   0,   0,   0,   0,   0,   0,   0,   0,   0,   0,  39, 148,\n",
       "       229, 253, 253, 253, 250, 182,   0,   0,   0,   0,   0,   0,   0,\n",
       "         0,   0,   0,   0,   0,   0,   0,   0,   0,   0,   0,  24, 114,\n",
       "       221, 253, 253, 253, 253, 201,  78,   0,   0,   0,   0,   0,   0,\n",
       "         0,   0,   0,   0,   0,   0,   0,   0,   0,   0,   0,  23,  66,\n",
       "       213, 253, 253, 253, 253, 198,  81,   2,   0,   0,   0,   0,   0,\n",
       "         0,   0,   0,   0,   0,   0,   0,   0,   0,   0,   0,  18, 171,\n",
       "       219, 253, 253, 253, 253, 195,  80,   9,   0,   0,   0,   0,   0,\n",
       "         0,   0,   0,   0,   0,   0,   0,   0,   0,   0,   0,  55, 172,\n",
       "       226, 253, 253, 253, 253, 244, 133,  11,   0,   0,   0,   0,   0,\n",
       "         0,   0,   0,   0,   0,   0,   0,   0,   0,   0,   0,   0,   0,\n",
       "       136, 253, 253, 253, 212, 135, 132,  16,   0,   0,   0,   0,   0,\n",
       "         0,   0,   0,   0,   0,   0,   0,   0,   0,   0,   0,   0,   0,\n",
       "         0,   0,   0,   0,   0,   0,   0,   0,   0,   0,   0,   0,   0,\n",
       "         0,   0,   0,   0,   0,   0,   0,   0,   0,   0,   0,   0,   0,\n",
       "         0,   0,   0,   0,   0,   0,   0,   0,   0,   0,   0,   0,   0,\n",
       "         0,   0,   0,   0,   0,   0,   0,   0,   0,   0,   0,   0,   0,\n",
       "         0,   0,   0,   0,   0,   0,   0,   0,   0,   0,   0,   0,   0,\n",
       "         0,   0,   0,   0,   0,   0,   0,   0,   0,   0,   0,   0,   0,\n",
       "         0,   0,   0,   0], dtype=uint8)"
      ]
     },
     "metadata": {},
     "execution_count": 30
    }
   ],
   "source": [
    "X_train_flattened[0]"
   ]
  },
  {
   "cell_type": "code",
   "execution_count": null,
   "metadata": {},
   "outputs": [],
   "source": [
    "#create simple neural network , ip layer , op layer \n",
    "# keras.Sequential = stack of layers in neural net . it accept every layer as one element\n",
    "#dense = all neurons conneced with other neuron in 2nd layer\n",
    "\n",
    "#our input has 784 input and 10 output\n",
    "#compile and pass bunch of optimisers = allows to train efficiently. \n",
    "#sparse_categorical_crossentropy - output are categorical, oput variable y_train is int , "
   ]
  },
  {
   "cell_type": "code",
   "execution_count": 39,
   "metadata": {},
   "outputs": [
    {
     "output_type": "stream",
     "name": "stdout",
     "text": [
      "Epoch 1/5\n",
      "1875/1875 [==============================] - 4s 2ms/step - loss: 0.4684 - accuracy: 0.8781\n",
      "Epoch 2/5\n",
      "1875/1875 [==============================] - 4s 2ms/step - loss: 0.3043 - accuracy: 0.9148\n",
      "Epoch 3/5\n",
      "1875/1875 [==============================] - 4s 2ms/step - loss: 0.2833 - accuracy: 0.9204\n",
      "Epoch 4/5\n",
      "1875/1875 [==============================] - 3s 2ms/step - loss: 0.2736 - accuracy: 0.9240\n",
      "Epoch 5/5\n",
      "1875/1875 [==============================] - 3s 2ms/step - loss: 0.2667 - accuracy: 0.9258\n"
     ]
    },
    {
     "output_type": "execute_result",
     "data": {
      "text/plain": [
       "<tensorflow.python.keras.callbacks.History at 0x7fe00231eac0>"
      ]
     },
     "metadata": {},
     "execution_count": 39
    }
   ],
   "source": [
    "model =  keras.Sequential([\n",
    "    keras.layers.Dense(10, input_shape=(784,),activation= 'sigmoid')\n",
    "])\n",
    "\n",
    "model.compile(\n",
    "    optimizer='adam',\n",
    "    loss='sparse_categorical_crossentropy',\n",
    "    metrics=['accuracy']\n",
    "    )\n",
    "model.fit(X_train_flattened, y_train, epochs=5)\n"
   ]
  },
  {
   "cell_type": "code",
   "execution_count": 40,
   "metadata": {},
   "outputs": [
    {
     "output_type": "stream",
     "name": "stdout",
     "text": [
      "313/313 [==============================] - 1s 2ms/step - loss: 0.2672 - accuracy: 0.9268\n"
     ]
    },
    {
     "output_type": "execute_result",
     "data": {
      "text/plain": [
       "[0.2672126591205597, 0.926800012588501]"
      ]
     },
     "metadata": {},
     "execution_count": 40
    }
   ],
   "source": [
    "model.evaluate(X_test_flattened, y_test)"
   ]
  },
  {
   "cell_type": "code",
   "execution_count": 42,
   "metadata": {},
   "outputs": [
    {
     "output_type": "execute_result",
     "data": {
      "text/plain": [
       "<matplotlib.image.AxesImage at 0x7fdfc7b81160>"
      ]
     },
     "metadata": {},
     "execution_count": 42
    },
    {
     "output_type": "display_data",
     "data": {
      "text/plain": "<Figure size 288x288 with 1 Axes>",
      "image/svg+xml": "<?xml version=\"1.0\" encoding=\"utf-8\" standalone=\"no\"?>\n<!DOCTYPE svg PUBLIC \"-//W3C//DTD SVG 1.1//EN\"\n  \"http://www.w3.org/Graphics/SVG/1.1/DTD/svg11.dtd\">\n<svg height=\"257.778125pt\" version=\"1.1\" viewBox=\"0 0 257.325 257.778125\" width=\"257.325pt\" xmlns=\"http://www.w3.org/2000/svg\" xmlns:xlink=\"http://www.w3.org/1999/xlink\">\n <metadata>\n  <rdf:RDF xmlns:cc=\"http://creativecommons.org/ns#\" xmlns:dc=\"http://purl.org/dc/elements/1.1/\" xmlns:rdf=\"http://www.w3.org/1999/02/22-rdf-syntax-ns#\">\n   <cc:Work>\n    <dc:type rdf:resource=\"http://purl.org/dc/dcmitype/StillImage\"/>\n    <dc:date>2021-07-13T08:04:39.138034</dc:date>\n    <dc:format>image/svg+xml</dc:format>\n    <dc:creator>\n     <cc:Agent>\n      <dc:title>Matplotlib v3.4.2, https://matplotlib.org/</dc:title>\n     </cc:Agent>\n    </dc:creator>\n   </cc:Work>\n  </rdf:RDF>\n </metadata>\n <defs>\n  <style type=\"text/css\">*{stroke-linecap:butt;stroke-linejoin:round;}</style>\n </defs>\n <g id=\"figure_1\">\n  <g id=\"patch_1\">\n   <path d=\"M 0 257.778125 \nL 257.325 257.778125 \nL 257.325 0 \nL 0 0 \nz\n\" style=\"fill:none;\"/>\n  </g>\n  <g id=\"axes_1\">\n   <g id=\"patch_2\">\n    <path d=\"M 26.925 247.078125 \nL 250.125 247.078125 \nL 250.125 23.878125 \nL 26.925 23.878125 \nz\n\" style=\"fill:#ffffff;\"/>\n   </g>\n   <g clip-path=\"url(#p3ef9786555)\">\n    <image height=\"224\" id=\"imagef96fcdbab2\" transform=\"scale(1 -1)translate(0 -224)\" width=\"224\" x=\"26.925\" xlink:href=\"data:image/png;base64,\niVBORw0KGgoAAAANSUhEUgAAAOAAAADgCAYAAAAaLWrhAAAFkElEQVR4nO3d2YvVdRzGcU9MLuNWSholNlEXZiVUUFpdGGkWlSQZLeZFtAlBCwVhQRBBSdBK2XWaeREEJSYhGm1aDoEiuRUVaSjmklqKOs30D8Qn7KjPnPH1un2Y8QfD2+/Fl985jSmNmT39gIjT0g8ApzIBQpAAIUiAECRACBIgBAkQgtrSD9Dqfpo3qdw3zX673F/aPb7cV0/rKPeu7TvKnd7NCQhBAoQgAUKQACFIgBAkQAgSIAS5BwybO3JDuS/6bFe5vz/7pnLv6Vx/zM/EyeMEhCABQpAAIUiAECRACBIgBAkQgtwDNumcr/8u91/vPljuY9vay33W0J3l/u6w/uXuD9y7OQEhSIAQJEAIEiAECRCCBAhBAoQg10RNGrhkTblfP+3Jcv9hxjvH83FoMU5ACBIgBAkQggQIQQKEIAFCkAAhyD3gCTZu/t5yXzJtWLnf2r6/3LdNrt8H7FjZKPd+PT31zgnlBIQgAUKQACFIgBAkQAgSIAQJEIIaUxozXQQFNa64uNyXfrywqd9/9dxHyv2MBaub+v00xwkIQQKEIAFCkAAhSIAQJEAIEiAEuQcMa7TVr2Re3nmk3F8YtbbcFx0YVe6L75xa7t3rNpY7zXECQpAAIUiAECRACBIgBAkQggQIQT4XNKynq6vc190yptw/WLm13GcN3Vnur7/QXe5nTS9nmuQEhCABQpAAIUiAECRACBIgBAkQgrwP2OL23Tux3FfOe7Pct/19tNwfmvN4uQ9Y1lnu1JyAECRACBIgBAkQggQIQQKEIAFCkPcBW9zw974p9wmXPVrum++aX+5Dnt5W7keXlTP/wQkIQQKEIAFCkAAhSIAQJEAIEiAEeR+wjztt6NByv/KrPeX++Ij6fb8ZDz9W7gM+8b5gxQkIQQKEIAFCkAAhSIAQJEAIEiAEeR+wj+s+cKDcF355bbk/N2N9uY965qdy379iQLn3HD5c7n2dExCCBAhBAoQgAUKQACFIgBAkQAhyD3iKG7usu9z/vK2+p1t8/vJyv+7GOeU+6KM15d7XOQEhSIAQJEAIEiAECRCCBAhBAoQgnwtK6cfXJ5b7ljvq7xfcdLS+R3zinvqesLFqXbm3OicgBAkQggQIQQKEIAFCkAAhSIAQ5H1ASuNe+63cO6fX18gTBw4q9z3j28t95KpybnlOQAgSIAQJEIIECEEChCABQpAAIcj7gDRl9wOTyn3182+V+6t7xpX7FzdcUO5d23eUe2/nBIQgAUKQACFIgBAkQAgSIAQJEIK8D3iCtZ09utz3XdNR7sM+/7Hc90++8Fgf6Zi0Haq/P3D0p1vL/ftnu8r9qRGby33BfVPLfcyL7gGB/0mAECRACBIgBAkQggQIQQKEoJa/B/xr5lXlvmtC/X/MmRvr1yH3XtQo9/4T/ij3ly/5sNynDjpU7ksPDin3m9uXl3uzDvUcKfdvDw8u90v7n97Uv3+w42hTP9/bOQEhSIAQJEAIEiAECRCCBAhBAoSglv9c0Pu3/Fzutw/ee5Ke5N/90nWw3N/4/bqT9CS905qd55X74FeGl3vbiu+O5+OcdE5ACBIgBAkQggQIQQKEIAFCkAAhqOXvAXc/WH8/3djZ9edqbtpZf27nkcP1+2znLq739m1/lnv32g3lTt/mBIQgAUKQACFIgBAkQAgSIAQJEIJa/h4QWpkTEIIECEEChCABQpAAIUiAECRACBIgBAkQggQIQQKEIAFCkAAhSIAQJEAIEiAECRCCBAhBAoQgAUKQACFIgBAkQAgSIAQJEIIECEEChCABQpAAIUiAECRACBIgBAkQggQIQQKEIAFCkAAhSIAQJEAIEiAECRCCBAhBAoQgAUKQACFIgBAkQAgSIAQJEIIECEEChCABQpAAIUiAECRACPoHbj7JbrCQJggAAAAASUVORK5CYII=\" y=\"-23.078125\"/>\n   </g>\n   <g id=\"matplotlib.axis_1\">\n    <g id=\"xtick_1\">\n     <g id=\"line2d_1\">\n      <defs>\n       <path d=\"M 0 0 \nL 0 3.5 \n\" id=\"m94615d21c7\" style=\"stroke:#000000;stroke-width:0.8;\"/>\n      </defs>\n      <g>\n       <use style=\"stroke:#000000;stroke-width:0.8;\" x=\"30.910714\" xlink:href=\"#m94615d21c7\" y=\"247.078125\"/>\n      </g>\n     </g>\n     <g id=\"line2d_2\">\n      <defs>\n       <path d=\"M 0 0 \nL 0 -3.5 \n\" id=\"me3b134bcc2\" style=\"stroke:#000000;stroke-width:0.8;\"/>\n      </defs>\n      <g>\n       <use style=\"stroke:#000000;stroke-width:0.8;\" x=\"30.910714\" xlink:href=\"#me3b134bcc2\" y=\"23.878125\"/>\n      </g>\n     </g>\n     <g id=\"text_1\">\n      <!-- 0 -->\n      <g transform=\"translate(27.729464 14.798438)scale(0.1 -0.1)\">\n       <defs>\n        <path d=\"M 2034 4250 \nQ 1547 4250 1301 3770 \nQ 1056 3291 1056 2328 \nQ 1056 1369 1301 889 \nQ 1547 409 2034 409 \nQ 2525 409 2770 889 \nQ 3016 1369 3016 2328 \nQ 3016 3291 2770 3770 \nQ 2525 4250 2034 4250 \nz\nM 2034 4750 \nQ 2819 4750 3233 4129 \nQ 3647 3509 3647 2328 \nQ 3647 1150 3233 529 \nQ 2819 -91 2034 -91 \nQ 1250 -91 836 529 \nQ 422 1150 422 2328 \nQ 422 3509 836 4129 \nQ 1250 4750 2034 4750 \nz\n\" id=\"DejaVuSans-30\" transform=\"scale(0.015625)\"/>\n       </defs>\n       <use xlink:href=\"#DejaVuSans-30\"/>\n      </g>\n     </g>\n    </g>\n    <g id=\"xtick_2\">\n     <g id=\"line2d_3\">\n      <g>\n       <use style=\"stroke:#000000;stroke-width:0.8;\" x=\"70.767857\" xlink:href=\"#m94615d21c7\" y=\"247.078125\"/>\n      </g>\n     </g>\n     <g id=\"line2d_4\">\n      <g>\n       <use style=\"stroke:#000000;stroke-width:0.8;\" x=\"70.767857\" xlink:href=\"#me3b134bcc2\" y=\"23.878125\"/>\n      </g>\n     </g>\n     <g id=\"text_2\">\n      <!-- 5 -->\n      <g transform=\"translate(67.586607 14.798438)scale(0.1 -0.1)\">\n       <defs>\n        <path d=\"M 691 4666 \nL 3169 4666 \nL 3169 4134 \nL 1269 4134 \nL 1269 2991 \nQ 1406 3038 1543 3061 \nQ 1681 3084 1819 3084 \nQ 2600 3084 3056 2656 \nQ 3513 2228 3513 1497 \nQ 3513 744 3044 326 \nQ 2575 -91 1722 -91 \nQ 1428 -91 1123 -41 \nQ 819 9 494 109 \nL 494 744 \nQ 775 591 1075 516 \nQ 1375 441 1709 441 \nQ 2250 441 2565 725 \nQ 2881 1009 2881 1497 \nQ 2881 1984 2565 2268 \nQ 2250 2553 1709 2553 \nQ 1456 2553 1204 2497 \nQ 953 2441 691 2322 \nL 691 4666 \nz\n\" id=\"DejaVuSans-35\" transform=\"scale(0.015625)\"/>\n       </defs>\n       <use xlink:href=\"#DejaVuSans-35\"/>\n      </g>\n     </g>\n    </g>\n    <g id=\"xtick_3\">\n     <g id=\"line2d_5\">\n      <g>\n       <use style=\"stroke:#000000;stroke-width:0.8;\" x=\"110.625\" xlink:href=\"#m94615d21c7\" y=\"247.078125\"/>\n      </g>\n     </g>\n     <g id=\"line2d_6\">\n      <g>\n       <use style=\"stroke:#000000;stroke-width:0.8;\" x=\"110.625\" xlink:href=\"#me3b134bcc2\" y=\"23.878125\"/>\n      </g>\n     </g>\n     <g id=\"text_3\">\n      <!-- 10 -->\n      <g transform=\"translate(104.2625 14.798438)scale(0.1 -0.1)\">\n       <defs>\n        <path d=\"M 794 531 \nL 1825 531 \nL 1825 4091 \nL 703 3866 \nL 703 4441 \nL 1819 4666 \nL 2450 4666 \nL 2450 531 \nL 3481 531 \nL 3481 0 \nL 794 0 \nL 794 531 \nz\n\" id=\"DejaVuSans-31\" transform=\"scale(0.015625)\"/>\n       </defs>\n       <use xlink:href=\"#DejaVuSans-31\"/>\n       <use x=\"63.623047\" xlink:href=\"#DejaVuSans-30\"/>\n      </g>\n     </g>\n    </g>\n    <g id=\"xtick_4\">\n     <g id=\"line2d_7\">\n      <g>\n       <use style=\"stroke:#000000;stroke-width:0.8;\" x=\"150.482143\" xlink:href=\"#m94615d21c7\" y=\"247.078125\"/>\n      </g>\n     </g>\n     <g id=\"line2d_8\">\n      <g>\n       <use style=\"stroke:#000000;stroke-width:0.8;\" x=\"150.482143\" xlink:href=\"#me3b134bcc2\" y=\"23.878125\"/>\n      </g>\n     </g>\n     <g id=\"text_4\">\n      <!-- 15 -->\n      <g transform=\"translate(144.119643 14.798438)scale(0.1 -0.1)\">\n       <use xlink:href=\"#DejaVuSans-31\"/>\n       <use x=\"63.623047\" xlink:href=\"#DejaVuSans-35\"/>\n      </g>\n     </g>\n    </g>\n    <g id=\"xtick_5\">\n     <g id=\"line2d_9\">\n      <g>\n       <use style=\"stroke:#000000;stroke-width:0.8;\" x=\"190.339286\" xlink:href=\"#m94615d21c7\" y=\"247.078125\"/>\n      </g>\n     </g>\n     <g id=\"line2d_10\">\n      <g>\n       <use style=\"stroke:#000000;stroke-width:0.8;\" x=\"190.339286\" xlink:href=\"#me3b134bcc2\" y=\"23.878125\"/>\n      </g>\n     </g>\n     <g id=\"text_5\">\n      <!-- 20 -->\n      <g transform=\"translate(183.976786 14.798438)scale(0.1 -0.1)\">\n       <defs>\n        <path d=\"M 1228 531 \nL 3431 531 \nL 3431 0 \nL 469 0 \nL 469 531 \nQ 828 903 1448 1529 \nQ 2069 2156 2228 2338 \nQ 2531 2678 2651 2914 \nQ 2772 3150 2772 3378 \nQ 2772 3750 2511 3984 \nQ 2250 4219 1831 4219 \nQ 1534 4219 1204 4116 \nQ 875 4013 500 3803 \nL 500 4441 \nQ 881 4594 1212 4672 \nQ 1544 4750 1819 4750 \nQ 2544 4750 2975 4387 \nQ 3406 4025 3406 3419 \nQ 3406 3131 3298 2873 \nQ 3191 2616 2906 2266 \nQ 2828 2175 2409 1742 \nQ 1991 1309 1228 531 \nz\n\" id=\"DejaVuSans-32\" transform=\"scale(0.015625)\"/>\n       </defs>\n       <use xlink:href=\"#DejaVuSans-32\"/>\n       <use x=\"63.623047\" xlink:href=\"#DejaVuSans-30\"/>\n      </g>\n     </g>\n    </g>\n    <g id=\"xtick_6\">\n     <g id=\"line2d_11\">\n      <g>\n       <use style=\"stroke:#000000;stroke-width:0.8;\" x=\"230.196429\" xlink:href=\"#m94615d21c7\" y=\"247.078125\"/>\n      </g>\n     </g>\n     <g id=\"line2d_12\">\n      <g>\n       <use style=\"stroke:#000000;stroke-width:0.8;\" x=\"230.196429\" xlink:href=\"#me3b134bcc2\" y=\"23.878125\"/>\n      </g>\n     </g>\n     <g id=\"text_6\">\n      <!-- 25 -->\n      <g transform=\"translate(223.833929 14.798438)scale(0.1 -0.1)\">\n       <use xlink:href=\"#DejaVuSans-32\"/>\n       <use x=\"63.623047\" xlink:href=\"#DejaVuSans-35\"/>\n      </g>\n     </g>\n    </g>\n   </g>\n   <g id=\"matplotlib.axis_2\">\n    <g id=\"ytick_1\">\n     <g id=\"line2d_13\">\n      <defs>\n       <path d=\"M 0 0 \nL -3.5 0 \n\" id=\"md964b45001\" style=\"stroke:#000000;stroke-width:0.8;\"/>\n      </defs>\n      <g>\n       <use style=\"stroke:#000000;stroke-width:0.8;\" x=\"26.925\" xlink:href=\"#md964b45001\" y=\"27.863839\"/>\n      </g>\n     </g>\n     <g id=\"text_7\">\n      <!-- 0 -->\n      <g transform=\"translate(13.5625 31.663058)scale(0.1 -0.1)\">\n       <use xlink:href=\"#DejaVuSans-30\"/>\n      </g>\n     </g>\n    </g>\n    <g id=\"ytick_2\">\n     <g id=\"line2d_14\">\n      <g>\n       <use style=\"stroke:#000000;stroke-width:0.8;\" x=\"26.925\" xlink:href=\"#md964b45001\" y=\"67.720982\"/>\n      </g>\n     </g>\n     <g id=\"text_8\">\n      <!-- 5 -->\n      <g transform=\"translate(13.5625 71.520201)scale(0.1 -0.1)\">\n       <use xlink:href=\"#DejaVuSans-35\"/>\n      </g>\n     </g>\n    </g>\n    <g id=\"ytick_3\">\n     <g id=\"line2d_15\">\n      <g>\n       <use style=\"stroke:#000000;stroke-width:0.8;\" x=\"26.925\" xlink:href=\"#md964b45001\" y=\"107.578125\"/>\n      </g>\n     </g>\n     <g id=\"text_9\">\n      <!-- 10 -->\n      <g transform=\"translate(7.2 111.377344)scale(0.1 -0.1)\">\n       <use xlink:href=\"#DejaVuSans-31\"/>\n       <use x=\"63.623047\" xlink:href=\"#DejaVuSans-30\"/>\n      </g>\n     </g>\n    </g>\n    <g id=\"ytick_4\">\n     <g id=\"line2d_16\">\n      <g>\n       <use style=\"stroke:#000000;stroke-width:0.8;\" x=\"26.925\" xlink:href=\"#md964b45001\" y=\"147.435268\"/>\n      </g>\n     </g>\n     <g id=\"text_10\">\n      <!-- 15 -->\n      <g transform=\"translate(7.2 151.234487)scale(0.1 -0.1)\">\n       <use xlink:href=\"#DejaVuSans-31\"/>\n       <use x=\"63.623047\" xlink:href=\"#DejaVuSans-35\"/>\n      </g>\n     </g>\n    </g>\n    <g id=\"ytick_5\">\n     <g id=\"line2d_17\">\n      <g>\n       <use style=\"stroke:#000000;stroke-width:0.8;\" x=\"26.925\" xlink:href=\"#md964b45001\" y=\"187.292411\"/>\n      </g>\n     </g>\n     <g id=\"text_11\">\n      <!-- 20 -->\n      <g transform=\"translate(7.2 191.091629)scale(0.1 -0.1)\">\n       <use xlink:href=\"#DejaVuSans-32\"/>\n       <use x=\"63.623047\" xlink:href=\"#DejaVuSans-30\"/>\n      </g>\n     </g>\n    </g>\n    <g id=\"ytick_6\">\n     <g id=\"line2d_18\">\n      <g>\n       <use style=\"stroke:#000000;stroke-width:0.8;\" x=\"26.925\" xlink:href=\"#md964b45001\" y=\"227.149554\"/>\n      </g>\n     </g>\n     <g id=\"text_12\">\n      <!-- 25 -->\n      <g transform=\"translate(7.2 230.948772)scale(0.1 -0.1)\">\n       <use xlink:href=\"#DejaVuSans-32\"/>\n       <use x=\"63.623047\" xlink:href=\"#DejaVuSans-35\"/>\n      </g>\n     </g>\n    </g>\n   </g>\n   <g id=\"patch_3\">\n    <path d=\"M 26.925 247.078125 \nL 26.925 23.878125 \n\" style=\"fill:none;stroke:#000000;stroke-linecap:square;stroke-linejoin:miter;stroke-width:0.8;\"/>\n   </g>\n   <g id=\"patch_4\">\n    <path d=\"M 250.125 247.078125 \nL 250.125 23.878125 \n\" style=\"fill:none;stroke:#000000;stroke-linecap:square;stroke-linejoin:miter;stroke-width:0.8;\"/>\n   </g>\n   <g id=\"patch_5\">\n    <path d=\"M 26.925 247.078125 \nL 250.125 247.078125 \n\" style=\"fill:none;stroke:#000000;stroke-linecap:square;stroke-linejoin:miter;stroke-width:0.8;\"/>\n   </g>\n   <g id=\"patch_6\">\n    <path d=\"M 26.925 23.878125 \nL 250.125 23.878125 \n\" style=\"fill:none;stroke:#000000;stroke-linecap:square;stroke-linejoin:miter;stroke-width:0.8;\"/>\n   </g>\n  </g>\n </g>\n <defs>\n  <clipPath id=\"p3ef9786555\">\n   <rect height=\"223.2\" width=\"223.2\" x=\"26.925\" y=\"23.878125\"/>\n  </clipPath>\n </defs>\n</svg>\n",
      "image/png": "[encoded data removed]"
     },
     "metadata": {
      "needs_background": "light"
     }
    }
   ],
   "source": [
    "plt.matshow(X_test[0])"
   ]
  },
  {
   "cell_type": "code",
   "execution_count": 45,
   "metadata": {},
   "outputs": [
    {
     "output_type": "execute_result",
     "data": {
      "text/plain": [
       "array([2.3187310e-02, 5.5905264e-07, 6.7005455e-02, 9.5929790e-01,\n",
       "       2.0257235e-03, 1.3605928e-01, 1.5444612e-06, 9.9981809e-01,\n",
       "       1.0450110e-01, 6.6919088e-01], dtype=float32)"
      ]
     },
     "metadata": {},
     "execution_count": 45
    }
   ],
   "source": [
    "y_predicted = model.predict(X_test_flattened)\n",
    "y_predicted[0]\n",
    "\n",
    "#numpy's argmax used to get max value "
   ]
  },
  {
   "cell_type": "code",
   "execution_count": 46,
   "metadata": {},
   "outputs": [
    {
     "output_type": "execute_result",
     "data": {
      "text/plain": [
       "7"
      ]
     },
     "metadata": {},
     "execution_count": 46
    }
   ],
   "source": [
    "np.argmax(y_predicted[0])"
   ]
  },
  {
   "cell_type": "code",
   "execution_count": 47,
   "metadata": {},
   "outputs": [
    {
     "output_type": "execute_result",
     "data": {
      "text/plain": [
       "[7, 2, 1, 0, 4]"
      ]
     },
     "metadata": {},
     "execution_count": 47
    }
   ],
   "source": [
    "y_predicted_labels = [np.argmax(i) for i in y_predicted]\n",
    "y_predicted_labels[:5] #prediction parameter for conf matrix. Since y_pred is a array like, so converting it to labels. "
   ]
  },
  {
   "cell_type": "code",
   "execution_count": 48,
   "metadata": {},
   "outputs": [
    {
     "output_type": "execute_result",
     "data": {
      "text/plain": [
       "array([7, 2, 1, 0, 4], dtype=uint8)"
      ]
     },
     "metadata": {},
     "execution_count": 48
    }
   ],
   "source": [
    "y_test[:5] #truth parameter for confusion matrix"
   ]
  },
  {
   "cell_type": "code",
   "execution_count": 49,
   "metadata": {},
   "outputs": [
    {
     "output_type": "execute_result",
     "data": {
      "text/plain": [
       "<tf.Tensor: shape=(10, 10), dtype=int32, numpy=\n",
       "array([[ 961,    0,    0,    1,    0,    5,    7,    4,    1,    1],\n",
       "       [   0, 1117,    3,    2,    0,    1,    4,    2,    6,    0],\n",
       "       [   6,   10,  930,   14,    7,    5,   12,    9,   34,    5],\n",
       "       [   4,    0,   21,  907,    1,   37,    2,   10,   19,    9],\n",
       "       [   1,    2,    2,    2,  908,    0,   14,    5,    8,   40],\n",
       "       [   8,    2,    2,   15,   11,  800,   15,    5,   27,    7],\n",
       "       [  11,    3,    7,    1,    7,   12,  914,    2,    1,    0],\n",
       "       [   2,    7,   20,    7,    5,    0,    0,  958,    2,   27],\n",
       "       [   8,   11,    7,   20,    9,   40,    9,   13,  848,    9],\n",
       "       [  10,    7,    1,    7,   21,   10,    0,   25,    3,  925]],\n",
       "      dtype=int32)>"
      ]
     },
     "metadata": {},
     "execution_count": 49
    }
   ],
   "source": [
    "cm = tf.math.confusion_matrix(labels=y_test, predictions=y_predicted_labels)\n",
    "cm"
   ]
  },
  {
   "cell_type": "code",
   "execution_count": 50,
   "metadata": {},
   "outputs": [
    {
     "output_type": "execute_result",
     "data": {
      "text/plain": [
       "Text(69.0, 0.5, 'Truth')"
      ]
     },
     "metadata": {},
     "execution_count": 50
    },
    {
     "output_type": "display_data",
     "data": {
      "text/plain": "<Figure size 720x504 with 2 Axes>",
      "image/svg+xml": "<?xml version=\"1.0\" encoding=\"utf-8\" standalone=\"no\"?>\n<!DOCTYPE svg PUBLIC \"-//W3C//DTD SVG 1.1//EN\"\n  \"http://www.w3.org/Graphics/SVG/1.1/DTD/svg11.dtd\">\n<svg height=\"425.27625pt\" version=\"1.1\" viewBox=\"0 0 570.53225 425.27625\" width=\"570.53225pt\" xmlns=\"http://www.w3.org/2000/svg\" xmlns:xlink=\"http://www.w3.org/1999/xlink\">\n <metadata>\n  <rdf:RDF xmlns:cc=\"http://creativecommons.org/ns#\" xmlns:dc=\"http://purl.org/dc/elements/1.1/\" xmlns:rdf=\"http://www.w3.org/1999/02/22-rdf-syntax-ns#\">\n   <cc:Work>\n    <dc:type rdf:resource=\"http://purl.org/dc/dcmitype/StillImage\"/>\n    <dc:date>2021-07-13T08:11:53.985535</dc:date>\n    <dc:format>image/svg+xml</dc:format>\n    <dc:creator>\n     <cc:Agent>\n      <dc:title>Matplotlib v3.4.2, https://matplotlib.org/</dc:title>\n     </cc:Agent>\n    </dc:creator>\n   </cc:Work>\n  </rdf:RDF>\n </metadata>\n <defs>\n  <style type=\"text/css\">*{stroke-linecap:butt;stroke-linejoin:round;}</style>\n </defs>\n <g id=\"figure_1\">\n  <g id=\"patch_1\">\n   <path d=\"M 0 425.27625 \nL 570.53225 425.27625 \nL 570.53225 0 \nL 0 0 \nz\n\" style=\"fill:none;\"/>\n  </g>\n  <g id=\"axes_1\">\n   <g id=\"patch_2\">\n    <path d=\"M 37.55625 387.72 \nL 483.95625 387.72 \nL 483.95625 7.2 \nL 37.55625 7.2 \nz\n\" style=\"fill:#ffffff;\"/>\n   </g>\n   <g id=\"QuadMesh_1\">\n    <path clip-path=\"url(#p1edfaaeaf3)\" d=\"M 37.55625 7.2 \nL 82.19625 7.2 \nL 82.19625 45.252 \nL 37.55625 45.252 \nL 37.55625 7.2 \n\" style=\"fill:#f6b691;\"/>\n    <path clip-path=\"url(#p1edfaaeaf3)\" d=\"M 82.19625 7.2 \nL 126.83625 7.2 \nL 126.83625 45.252 \nL 82.19625 45.252 \nL 82.19625 7.2 \n\" style=\"fill:#03051a;\"/>\n    <path clip-path=\"url(#p1edfaaeaf3)\" d=\"M 126.83625 7.2 \nL 171.47625 7.2 \nL 171.47625 45.252 \nL 126.83625 45.252 \nL 126.83625 7.2 \n\" style=\"fill:#03051a;\"/>\n    <path clip-path=\"url(#p1edfaaeaf3)\" d=\"M 171.47625 7.2 \nL 216.11625 7.2 \nL 216.11625 45.252 \nL 171.47625 45.252 \nL 171.47625 7.2 \n\" style=\"fill:#03051a;\"/>\n    <path clip-path=\"url(#p1edfaaeaf3)\" d=\"M 216.11625 7.2 \nL 260.75625 7.2 \nL 260.75625 45.252 \nL 216.11625 45.252 \nL 216.11625 7.2 \n\" style=\"fill:#03051a;\"/>\n    <path clip-path=\"url(#p1edfaaeaf3)\" d=\"M 260.75625 7.2 \nL 305.39625 7.2 \nL 305.39625 45.252 \nL 260.75625 45.252 \nL 260.75625 7.2 \n\" style=\"fill:#04051a;\"/>\n    <path clip-path=\"url(#p1edfaaeaf3)\" d=\"M 305.39625 7.2 \nL 350.03625 7.2 \nL 350.03625 45.252 \nL 305.39625 45.252 \nL 305.39625 7.2 \n\" style=\"fill:#04051a;\"/>\n    <path clip-path=\"url(#p1edfaaeaf3)\" d=\"M 350.03625 7.2 \nL 394.67625 7.2 \nL 394.67625 45.252 \nL 350.03625 45.252 \nL 350.03625 7.2 \n\" style=\"fill:#03051a;\"/>\n    <path clip-path=\"url(#p1edfaaeaf3)\" d=\"M 394.67625 7.2 \nL 439.31625 7.2 \nL 439.31625 45.252 \nL 394.67625 45.252 \nL 394.67625 7.2 \n\" style=\"fill:#03051a;\"/>\n    <path clip-path=\"url(#p1edfaaeaf3)\" d=\"M 439.31625 7.2 \nL 483.95625 7.2 \nL 483.95625 45.252 \nL 439.31625 45.252 \nL 439.31625 7.2 \n\" style=\"fill:#03051a;\"/>\n    <path clip-path=\"url(#p1edfaaeaf3)\" d=\"M 37.55625 45.252 \nL 82.19625 45.252 \nL 82.19625 83.304 \nL 37.55625 83.304 \nL 37.55625 45.252 \n\" style=\"fill:#03051a;\"/>\n    <path clip-path=\"url(#p1edfaaeaf3)\" d=\"M 82.19625 45.252 \nL 126.83625 45.252 \nL 126.83625 83.304 \nL 82.19625 83.304 \nL 82.19625 45.252 \n\" style=\"fill:#faebdd;\"/>\n    <path clip-path=\"url(#p1edfaaeaf3)\" d=\"M 126.83625 45.252 \nL 171.47625 45.252 \nL 171.47625 83.304 \nL 126.83625 83.304 \nL 126.83625 45.252 \n\" style=\"fill:#03051a;\"/>\n    <path clip-path=\"url(#p1edfaaeaf3)\" d=\"M 171.47625 45.252 \nL 216.11625 45.252 \nL 216.11625 83.304 \nL 171.47625 83.304 \nL 171.47625 45.252 \n\" style=\"fill:#03051a;\"/>\n    <path clip-path=\"url(#p1edfaaeaf3)\" d=\"M 216.11625 45.252 \nL 260.75625 45.252 \nL 260.75625 83.304 \nL 216.11625 83.304 \nL 216.11625 45.252 \n\" style=\"fill:#03051a;\"/>\n    <path clip-path=\"url(#p1edfaaeaf3)\" d=\"M 260.75625 45.252 \nL 305.39625 45.252 \nL 305.39625 83.304 \nL 260.75625 83.304 \nL 260.75625 45.252 \n\" style=\"fill:#03051a;\"/>\n    <path clip-path=\"url(#p1edfaaeaf3)\" d=\"M 305.39625 45.252 \nL 350.03625 45.252 \nL 350.03625 83.304 \nL 305.39625 83.304 \nL 305.39625 45.252 \n\" style=\"fill:#03051a;\"/>\n    <path clip-path=\"url(#p1edfaaeaf3)\" d=\"M 350.03625 45.252 \nL 394.67625 45.252 \nL 394.67625 83.304 \nL 350.03625 83.304 \nL 350.03625 45.252 \n\" style=\"fill:#03051a;\"/>\n    <path clip-path=\"url(#p1edfaaeaf3)\" d=\"M 394.67625 45.252 \nL 439.31625 45.252 \nL 439.31625 83.304 \nL 394.67625 83.304 \nL 394.67625 45.252 \n\" style=\"fill:#04051a;\"/>\n    <path clip-path=\"url(#p1edfaaeaf3)\" d=\"M 439.31625 45.252 \nL 483.95625 45.252 \nL 483.95625 83.304 \nL 439.31625 83.304 \nL 439.31625 45.252 \n\" style=\"fill:#03051a;\"/>\n    <path clip-path=\"url(#p1edfaaeaf3)\" d=\"M 37.55625 83.304 \nL 82.19625 83.304 \nL 82.19625 121.356 \nL 37.55625 121.356 \nL 37.55625 83.304 \n\" style=\"fill:#04051a;\"/>\n    <path clip-path=\"url(#p1edfaaeaf3)\" d=\"M 82.19625 83.304 \nL 126.83625 83.304 \nL 126.83625 121.356 \nL 82.19625 121.356 \nL 82.19625 83.304 \n\" style=\"fill:#05061b;\"/>\n    <path clip-path=\"url(#p1edfaaeaf3)\" d=\"M 126.83625 83.304 \nL 171.47625 83.304 \nL 171.47625 121.356 \nL 126.83625 121.356 \nL 126.83625 83.304 \n\" style=\"fill:#f6ab83;\"/>\n    <path clip-path=\"url(#p1edfaaeaf3)\" d=\"M 171.47625 83.304 \nL 216.11625 83.304 \nL 216.11625 121.356 \nL 171.47625 121.356 \nL 171.47625 83.304 \n\" style=\"fill:#06071c;\"/>\n    <path clip-path=\"url(#p1edfaaeaf3)\" d=\"M 216.11625 83.304 \nL 260.75625 83.304 \nL 260.75625 121.356 \nL 216.11625 121.356 \nL 216.11625 83.304 \n\" style=\"fill:#04051a;\"/>\n    <path clip-path=\"url(#p1edfaaeaf3)\" d=\"M 260.75625 83.304 \nL 305.39625 83.304 \nL 305.39625 121.356 \nL 260.75625 121.356 \nL 260.75625 83.304 \n\" style=\"fill:#04051a;\"/>\n    <path clip-path=\"url(#p1edfaaeaf3)\" d=\"M 305.39625 83.304 \nL 350.03625 83.304 \nL 350.03625 121.356 \nL 305.39625 121.356 \nL 305.39625 83.304 \n\" style=\"fill:#05061b;\"/>\n    <path clip-path=\"url(#p1edfaaeaf3)\" d=\"M 350.03625 83.304 \nL 394.67625 83.304 \nL 394.67625 121.356 \nL 350.03625 121.356 \nL 350.03625 83.304 \n\" style=\"fill:#05061b;\"/>\n    <path clip-path=\"url(#p1edfaaeaf3)\" d=\"M 394.67625 83.304 \nL 439.31625 83.304 \nL 439.31625 121.356 \nL 394.67625 121.356 \nL 394.67625 83.304 \n\" style=\"fill:#0b0920;\"/>\n    <path clip-path=\"url(#p1edfaaeaf3)\" d=\"M 439.31625 83.304 \nL 483.95625 83.304 \nL 483.95625 121.356 \nL 439.31625 121.356 \nL 439.31625 83.304 \n\" style=\"fill:#04051a;\"/>\n    <path clip-path=\"url(#p1edfaaeaf3)\" d=\"M 37.55625 121.356 \nL 82.19625 121.356 \nL 82.19625 159.408 \nL 37.55625 159.408 \nL 37.55625 121.356 \n\" style=\"fill:#03051a;\"/>\n    <path clip-path=\"url(#p1edfaaeaf3)\" d=\"M 82.19625 121.356 \nL 126.83625 121.356 \nL 126.83625 159.408 \nL 82.19625 159.408 \nL 82.19625 121.356 \n\" style=\"fill:#03051a;\"/>\n    <path clip-path=\"url(#p1edfaaeaf3)\" d=\"M 126.83625 121.356 \nL 171.47625 121.356 \nL 171.47625 159.408 \nL 126.83625 159.408 \nL 126.83625 121.356 \n\" style=\"fill:#07071d;\"/>\n    <path clip-path=\"url(#p1edfaaeaf3)\" d=\"M 171.47625 121.356 \nL 216.11625 121.356 \nL 216.11625 159.408 \nL 171.47625 159.408 \nL 171.47625 121.356 \n\" style=\"fill:#f6a178;\"/>\n    <path clip-path=\"url(#p1edfaaeaf3)\" d=\"M 216.11625 121.356 \nL 260.75625 121.356 \nL 260.75625 159.408 \nL 216.11625 159.408 \nL 216.11625 121.356 \n\" style=\"fill:#03051a;\"/>\n    <path clip-path=\"url(#p1edfaaeaf3)\" d=\"M 260.75625 121.356 \nL 305.39625 121.356 \nL 305.39625 159.408 \nL 260.75625 159.408 \nL 260.75625 121.356 \n\" style=\"fill:#0d0a21;\"/>\n    <path clip-path=\"url(#p1edfaaeaf3)\" d=\"M 305.39625 121.356 \nL 350.03625 121.356 \nL 350.03625 159.408 \nL 305.39625 159.408 \nL 305.39625 121.356 \n\" style=\"fill:#03051a;\"/>\n    <path clip-path=\"url(#p1edfaaeaf3)\" d=\"M 350.03625 121.356 \nL 394.67625 121.356 \nL 394.67625 159.408 \nL 350.03625 159.408 \nL 350.03625 121.356 \n\" style=\"fill:#05061b;\"/>\n    <path clip-path=\"url(#p1edfaaeaf3)\" d=\"M 394.67625 121.356 \nL 439.31625 121.356 \nL 439.31625 159.408 \nL 394.67625 159.408 \nL 394.67625 121.356 \n\" style=\"fill:#07071d;\"/>\n    <path clip-path=\"url(#p1edfaaeaf3)\" d=\"M 439.31625 121.356 \nL 483.95625 121.356 \nL 483.95625 159.408 \nL 439.31625 159.408 \nL 439.31625 121.356 \n\" style=\"fill:#05061b;\"/>\n    <path clip-path=\"url(#p1edfaaeaf3)\" d=\"M 37.55625 159.408 \nL 82.19625 159.408 \nL 82.19625 197.46 \nL 37.55625 197.46 \nL 37.55625 159.408 \n\" style=\"fill:#03051a;\"/>\n    <path clip-path=\"url(#p1edfaaeaf3)\" d=\"M 82.19625 159.408 \nL 126.83625 159.408 \nL 126.83625 197.46 \nL 82.19625 197.46 \nL 82.19625 159.408 \n\" style=\"fill:#03051a;\"/>\n    <path clip-path=\"url(#p1edfaaeaf3)\" d=\"M 126.83625 159.408 \nL 171.47625 159.408 \nL 171.47625 197.46 \nL 126.83625 197.46 \nL 126.83625 159.408 \n\" style=\"fill:#03051a;\"/>\n    <path clip-path=\"url(#p1edfaaeaf3)\" d=\"M 171.47625 159.408 \nL 216.11625 159.408 \nL 216.11625 197.46 \nL 171.47625 197.46 \nL 171.47625 159.408 \n\" style=\"fill:#03051a;\"/>\n    <path clip-path=\"url(#p1edfaaeaf3)\" d=\"M 216.11625 159.408 \nL 260.75625 159.408 \nL 260.75625 197.46 \nL 216.11625 197.46 \nL 216.11625 159.408 \n\" style=\"fill:#f6a37a;\"/>\n    <path clip-path=\"url(#p1edfaaeaf3)\" d=\"M 260.75625 159.408 \nL 305.39625 159.408 \nL 305.39625 197.46 \nL 260.75625 197.46 \nL 260.75625 159.408 \n\" style=\"fill:#03051a;\"/>\n    <path clip-path=\"url(#p1edfaaeaf3)\" d=\"M 305.39625 159.408 \nL 350.03625 159.408 \nL 350.03625 197.46 \nL 305.39625 197.46 \nL 305.39625 159.408 \n\" style=\"fill:#06071c;\"/>\n    <path clip-path=\"url(#p1edfaaeaf3)\" d=\"M 350.03625 159.408 \nL 394.67625 159.408 \nL 394.67625 197.46 \nL 350.03625 197.46 \nL 350.03625 159.408 \n\" style=\"fill:#04051a;\"/>\n    <path clip-path=\"url(#p1edfaaeaf3)\" d=\"M 394.67625 159.408 \nL 439.31625 159.408 \nL 439.31625 197.46 \nL 394.67625 197.46 \nL 394.67625 159.408 \n\" style=\"fill:#04051a;\"/>\n    <path clip-path=\"url(#p1edfaaeaf3)\" d=\"M 439.31625 159.408 \nL 483.95625 159.408 \nL 483.95625 197.46 \nL 439.31625 197.46 \nL 439.31625 159.408 \n\" style=\"fill:#0e0b22;\"/>\n    <path clip-path=\"url(#p1edfaaeaf3)\" d=\"M 37.55625 197.46 \nL 82.19625 197.46 \nL 82.19625 235.512 \nL 37.55625 235.512 \nL 37.55625 197.46 \n\" style=\"fill:#04051a;\"/>\n    <path clip-path=\"url(#p1edfaaeaf3)\" d=\"M 82.19625 197.46 \nL 126.83625 197.46 \nL 126.83625 235.512 \nL 82.19625 235.512 \nL 82.19625 197.46 \n\" style=\"fill:#03051a;\"/>\n    <path clip-path=\"url(#p1edfaaeaf3)\" d=\"M 126.83625 197.46 \nL 171.47625 197.46 \nL 171.47625 235.512 \nL 126.83625 235.512 \nL 126.83625 197.46 \n\" style=\"fill:#03051a;\"/>\n    <path clip-path=\"url(#p1edfaaeaf3)\" d=\"M 171.47625 197.46 \nL 216.11625 197.46 \nL 216.11625 235.512 \nL 171.47625 235.512 \nL 171.47625 197.46 \n\" style=\"fill:#06071c;\"/>\n    <path clip-path=\"url(#p1edfaaeaf3)\" d=\"M 216.11625 197.46 \nL 260.75625 197.46 \nL 260.75625 235.512 \nL 216.11625 235.512 \nL 216.11625 197.46 \n\" style=\"fill:#05061b;\"/>\n    <path clip-path=\"url(#p1edfaaeaf3)\" d=\"M 260.75625 197.46 \nL 305.39625 197.46 \nL 305.39625 235.512 \nL 260.75625 235.512 \nL 260.75625 197.46 \n\" style=\"fill:#f37852;\"/>\n    <path clip-path=\"url(#p1edfaaeaf3)\" d=\"M 305.39625 197.46 \nL 350.03625 197.46 \nL 350.03625 235.512 \nL 305.39625 235.512 \nL 305.39625 197.46 \n\" style=\"fill:#06071c;\"/>\n    <path clip-path=\"url(#p1edfaaeaf3)\" d=\"M 350.03625 197.46 \nL 394.67625 197.46 \nL 394.67625 235.512 \nL 350.03625 235.512 \nL 350.03625 197.46 \n\" style=\"fill:#04051a;\"/>\n    <path clip-path=\"url(#p1edfaaeaf3)\" d=\"M 394.67625 197.46 \nL 439.31625 197.46 \nL 439.31625 235.512 \nL 394.67625 235.512 \nL 394.67625 197.46 \n\" style=\"fill:#0a091f;\"/>\n    <path clip-path=\"url(#p1edfaaeaf3)\" d=\"M 439.31625 197.46 \nL 483.95625 197.46 \nL 483.95625 235.512 \nL 439.31625 235.512 \nL 439.31625 197.46 \n\" style=\"fill:#04051a;\"/>\n    <path clip-path=\"url(#p1edfaaeaf3)\" d=\"M 37.55625 235.512 \nL 82.19625 235.512 \nL 82.19625 273.564 \nL 37.55625 273.564 \nL 37.55625 235.512 \n\" style=\"fill:#05061b;\"/>\n    <path clip-path=\"url(#p1edfaaeaf3)\" d=\"M 82.19625 235.512 \nL 126.83625 235.512 \nL 126.83625 273.564 \nL 82.19625 273.564 \nL 82.19625 235.512 \n\" style=\"fill:#03051a;\"/>\n    <path clip-path=\"url(#p1edfaaeaf3)\" d=\"M 126.83625 235.512 \nL 171.47625 235.512 \nL 171.47625 273.564 \nL 126.83625 273.564 \nL 126.83625 235.512 \n\" style=\"fill:#04051a;\"/>\n    <path clip-path=\"url(#p1edfaaeaf3)\" d=\"M 171.47625 235.512 \nL 216.11625 235.512 \nL 216.11625 273.564 \nL 171.47625 273.564 \nL 171.47625 235.512 \n\" style=\"fill:#03051a;\"/>\n    <path clip-path=\"url(#p1edfaaeaf3)\" d=\"M 216.11625 235.512 \nL 260.75625 235.512 \nL 260.75625 273.564 \nL 216.11625 273.564 \nL 216.11625 235.512 \n\" style=\"fill:#04051a;\"/>\n    <path clip-path=\"url(#p1edfaaeaf3)\" d=\"M 260.75625 235.512 \nL 305.39625 235.512 \nL 305.39625 273.564 \nL 260.75625 273.564 \nL 260.75625 235.512 \n\" style=\"fill:#05061b;\"/>\n    <path clip-path=\"url(#p1edfaaeaf3)\" d=\"M 305.39625 235.512 \nL 350.03625 235.512 \nL 350.03625 273.564 \nL 305.39625 273.564 \nL 305.39625 235.512 \n\" style=\"fill:#f6a47c;\"/>\n    <path clip-path=\"url(#p1edfaaeaf3)\" d=\"M 350.03625 235.512 \nL 394.67625 235.512 \nL 394.67625 273.564 \nL 350.03625 273.564 \nL 350.03625 235.512 \n\" style=\"fill:#03051a;\"/>\n    <path clip-path=\"url(#p1edfaaeaf3)\" d=\"M 394.67625 235.512 \nL 439.31625 235.512 \nL 439.31625 273.564 \nL 394.67625 273.564 \nL 394.67625 235.512 \n\" style=\"fill:#03051a;\"/>\n    <path clip-path=\"url(#p1edfaaeaf3)\" d=\"M 439.31625 235.512 \nL 483.95625 235.512 \nL 483.95625 273.564 \nL 439.31625 273.564 \nL 439.31625 235.512 \n\" style=\"fill:#03051a;\"/>\n    <path clip-path=\"url(#p1edfaaeaf3)\" d=\"M 37.55625 273.564 \nL 82.19625 273.564 \nL 82.19625 311.616 \nL 37.55625 311.616 \nL 37.55625 273.564 \n\" style=\"fill:#03051a;\"/>\n    <path clip-path=\"url(#p1edfaaeaf3)\" d=\"M 82.19625 273.564 \nL 126.83625 273.564 \nL 126.83625 311.616 \nL 82.19625 311.616 \nL 82.19625 273.564 \n\" style=\"fill:#04051a;\"/>\n    <path clip-path=\"url(#p1edfaaeaf3)\" d=\"M 126.83625 273.564 \nL 171.47625 273.564 \nL 171.47625 311.616 \nL 126.83625 311.616 \nL 126.83625 273.564 \n\" style=\"fill:#07071d;\"/>\n    <path clip-path=\"url(#p1edfaaeaf3)\" d=\"M 171.47625 273.564 \nL 216.11625 273.564 \nL 216.11625 311.616 \nL 171.47625 311.616 \nL 171.47625 273.564 \n\" style=\"fill:#04051a;\"/>\n    <path clip-path=\"url(#p1edfaaeaf3)\" d=\"M 216.11625 273.564 \nL 260.75625 273.564 \nL 260.75625 311.616 \nL 216.11625 311.616 \nL 216.11625 273.564 \n\" style=\"fill:#04051a;\"/>\n    <path clip-path=\"url(#p1edfaaeaf3)\" d=\"M 260.75625 273.564 \nL 305.39625 273.564 \nL 305.39625 311.616 \nL 260.75625 311.616 \nL 260.75625 273.564 \n\" style=\"fill:#03051a;\"/>\n    <path clip-path=\"url(#p1edfaaeaf3)\" d=\"M 305.39625 273.564 \nL 350.03625 273.564 \nL 350.03625 311.616 \nL 305.39625 311.616 \nL 305.39625 273.564 \n\" style=\"fill:#03051a;\"/>\n    <path clip-path=\"url(#p1edfaaeaf3)\" d=\"M 350.03625 273.564 \nL 394.67625 273.564 \nL 394.67625 311.616 \nL 350.03625 311.616 \nL 350.03625 273.564 \n\" style=\"fill:#f6b48f;\"/>\n    <path clip-path=\"url(#p1edfaaeaf3)\" d=\"M 394.67625 273.564 \nL 439.31625 273.564 \nL 439.31625 311.616 \nL 394.67625 311.616 \nL 394.67625 273.564 \n\" style=\"fill:#03051a;\"/>\n    <path clip-path=\"url(#p1edfaaeaf3)\" d=\"M 439.31625 273.564 \nL 483.95625 273.564 \nL 483.95625 311.616 \nL 439.31625 311.616 \nL 439.31625 273.564 \n\" style=\"fill:#0a091f;\"/>\n    <path clip-path=\"url(#p1edfaaeaf3)\" d=\"M 37.55625 311.616 \nL 82.19625 311.616 \nL 82.19625 349.668 \nL 37.55625 349.668 \nL 37.55625 311.616 \n\" style=\"fill:#04051a;\"/>\n    <path clip-path=\"url(#p1edfaaeaf3)\" d=\"M 82.19625 311.616 \nL 126.83625 311.616 \nL 126.83625 349.668 \nL 82.19625 349.668 \nL 82.19625 311.616 \n\" style=\"fill:#05061b;\"/>\n    <path clip-path=\"url(#p1edfaaeaf3)\" d=\"M 126.83625 311.616 \nL 171.47625 311.616 \nL 171.47625 349.668 \nL 126.83625 349.668 \nL 126.83625 311.616 \n\" style=\"fill:#04051a;\"/>\n    <path clip-path=\"url(#p1edfaaeaf3)\" d=\"M 171.47625 311.616 \nL 216.11625 311.616 \nL 216.11625 349.668 \nL 171.47625 349.668 \nL 171.47625 311.616 \n\" style=\"fill:#07071d;\"/>\n    <path clip-path=\"url(#p1edfaaeaf3)\" d=\"M 216.11625 311.616 \nL 260.75625 311.616 \nL 260.75625 349.668 \nL 216.11625 349.668 \nL 216.11625 311.616 \n\" style=\"fill:#05061b;\"/>\n    <path clip-path=\"url(#p1edfaaeaf3)\" d=\"M 260.75625 311.616 \nL 305.39625 311.616 \nL 305.39625 349.668 \nL 260.75625 349.668 \nL 260.75625 311.616 \n\" style=\"fill:#0e0b22;\"/>\n    <path clip-path=\"url(#p1edfaaeaf3)\" d=\"M 305.39625 311.616 \nL 350.03625 311.616 \nL 350.03625 349.668 \nL 305.39625 349.668 \nL 305.39625 311.616 \n\" style=\"fill:#05061b;\"/>\n    <path clip-path=\"url(#p1edfaaeaf3)\" d=\"M 350.03625 311.616 \nL 394.67625 311.616 \nL 394.67625 349.668 \nL 350.03625 349.668 \nL 350.03625 311.616 \n\" style=\"fill:#05061b;\"/>\n    <path clip-path=\"url(#p1edfaaeaf3)\" d=\"M 394.67625 311.616 \nL 439.31625 311.616 \nL 439.31625 349.668 \nL 394.67625 349.668 \nL 394.67625 311.616 \n\" style=\"fill:#f58b63;\"/>\n    <path clip-path=\"url(#p1edfaaeaf3)\" d=\"M 439.31625 311.616 \nL 483.95625 311.616 \nL 483.95625 349.668 \nL 439.31625 349.668 \nL 439.31625 311.616 \n\" style=\"fill:#05061b;\"/>\n    <path clip-path=\"url(#p1edfaaeaf3)\" d=\"M 37.55625 349.668 \nL 82.19625 349.668 \nL 82.19625 387.72 \nL 37.55625 387.72 \nL 37.55625 349.668 \n\" style=\"fill:#05061b;\"/>\n    <path clip-path=\"url(#p1edfaaeaf3)\" d=\"M 82.19625 349.668 \nL 126.83625 349.668 \nL 126.83625 387.72 \nL 82.19625 387.72 \nL 82.19625 349.668 \n\" style=\"fill:#04051a;\"/>\n    <path clip-path=\"url(#p1edfaaeaf3)\" d=\"M 126.83625 349.668 \nL 171.47625 349.668 \nL 171.47625 387.72 \nL 126.83625 387.72 \nL 126.83625 349.668 \n\" style=\"fill:#03051a;\"/>\n    <path clip-path=\"url(#p1edfaaeaf3)\" d=\"M 171.47625 349.668 \nL 216.11625 349.668 \nL 216.11625 387.72 \nL 171.47625 387.72 \nL 171.47625 349.668 \n\" style=\"fill:#04051a;\"/>\n    <path clip-path=\"url(#p1edfaaeaf3)\" d=\"M 216.11625 349.668 \nL 260.75625 349.668 \nL 260.75625 387.72 \nL 216.11625 387.72 \nL 216.11625 349.668 \n\" style=\"fill:#07071d;\"/>\n    <path clip-path=\"url(#p1edfaaeaf3)\" d=\"M 260.75625 349.668 \nL 305.39625 349.668 \nL 305.39625 387.72 \nL 260.75625 387.72 \nL 260.75625 349.668 \n\" style=\"fill:#05061b;\"/>\n    <path clip-path=\"url(#p1edfaaeaf3)\" d=\"M 305.39625 349.668 \nL 350.03625 349.668 \nL 350.03625 387.72 \nL 305.39625 387.72 \nL 305.39625 349.668 \n\" style=\"fill:#03051a;\"/>\n    <path clip-path=\"url(#p1edfaaeaf3)\" d=\"M 350.03625 349.668 \nL 394.67625 349.668 \nL 394.67625 387.72 \nL 350.03625 387.72 \nL 350.03625 349.668 \n\" style=\"fill:#08081e;\"/>\n    <path clip-path=\"url(#p1edfaaeaf3)\" d=\"M 394.67625 349.668 \nL 439.31625 349.668 \nL 439.31625 387.72 \nL 394.67625 387.72 \nL 394.67625 349.668 \n\" style=\"fill:#03051a;\"/>\n    <path clip-path=\"url(#p1edfaaeaf3)\" d=\"M 439.31625 349.668 \nL 483.95625 349.668 \nL 483.95625 387.72 \nL 439.31625 387.72 \nL 439.31625 349.668 \n\" style=\"fill:#f6a880;\"/>\n   </g>\n   <g id=\"matplotlib.axis_1\">\n    <g id=\"xtick_1\">\n     <g id=\"line2d_1\">\n      <defs>\n       <path d=\"M 0 0 \nL 0 3.5 \n\" id=\"mf0b5eb6fd4\" style=\"stroke:#000000;stroke-width:0.8;\"/>\n      </defs>\n      <g>\n       <use style=\"stroke:#000000;stroke-width:0.8;\" x=\"59.87625\" xlink:href=\"#mf0b5eb6fd4\" y=\"387.72\"/>\n      </g>\n     </g>\n     <g id=\"text_1\">\n      <!-- 0 -->\n      <g transform=\"translate(56.695 402.318437)scale(0.1 -0.1)\">\n       <defs>\n        <path d=\"M 2034 4250 \nQ 1547 4250 1301 3770 \nQ 1056 3291 1056 2328 \nQ 1056 1369 1301 889 \nQ 1547 409 2034 409 \nQ 2525 409 2770 889 \nQ 3016 1369 3016 2328 \nQ 3016 3291 2770 3770 \nQ 2525 4250 2034 4250 \nz\nM 2034 4750 \nQ 2819 4750 3233 4129 \nQ 3647 3509 3647 2328 \nQ 3647 1150 3233 529 \nQ 2819 -91 2034 -91 \nQ 1250 -91 836 529 \nQ 422 1150 422 2328 \nQ 422 3509 836 4129 \nQ 1250 4750 2034 4750 \nz\n\" id=\"DejaVuSans-30\" transform=\"scale(0.015625)\"/>\n       </defs>\n       <use xlink:href=\"#DejaVuSans-30\"/>\n      </g>\n     </g>\n    </g>\n    <g id=\"xtick_2\">\n     <g id=\"line2d_2\">\n      <g>\n       <use style=\"stroke:#000000;stroke-width:0.8;\" x=\"104.51625\" xlink:href=\"#mf0b5eb6fd4\" y=\"387.72\"/>\n      </g>\n     </g>\n     <g id=\"text_2\">\n      <!-- 1 -->\n      <g transform=\"translate(101.335 402.318437)scale(0.1 -0.1)\">\n       <defs>\n        <path d=\"M 794 531 \nL 1825 531 \nL 1825 4091 \nL 703 3866 \nL 703 4441 \nL 1819 4666 \nL 2450 4666 \nL 2450 531 \nL 3481 531 \nL 3481 0 \nL 794 0 \nL 794 531 \nz\n\" id=\"DejaVuSans-31\" transform=\"scale(0.015625)\"/>\n       </defs>\n       <use xlink:href=\"#DejaVuSans-31\"/>\n      </g>\n     </g>\n    </g>\n    <g id=\"xtick_3\">\n     <g id=\"line2d_3\">\n      <g>\n       <use style=\"stroke:#000000;stroke-width:0.8;\" x=\"149.15625\" xlink:href=\"#mf0b5eb6fd4\" y=\"387.72\"/>\n      </g>\n     </g>\n     <g id=\"text_3\">\n      <!-- 2 -->\n      <g transform=\"translate(145.975 402.318437)scale(0.1 -0.1)\">\n       <defs>\n        <path d=\"M 1228 531 \nL 3431 531 \nL 3431 0 \nL 469 0 \nL 469 531 \nQ 828 903 1448 1529 \nQ 2069 2156 2228 2338 \nQ 2531 2678 2651 2914 \nQ 2772 3150 2772 3378 \nQ 2772 3750 2511 3984 \nQ 2250 4219 1831 4219 \nQ 1534 4219 1204 4116 \nQ 875 4013 500 3803 \nL 500 4441 \nQ 881 4594 1212 4672 \nQ 1544 4750 1819 4750 \nQ 2544 4750 2975 4387 \nQ 3406 4025 3406 3419 \nQ 3406 3131 3298 2873 \nQ 3191 2616 2906 2266 \nQ 2828 2175 2409 1742 \nQ 1991 1309 1228 531 \nz\n\" id=\"DejaVuSans-32\" transform=\"scale(0.015625)\"/>\n       </defs>\n       <use xlink:href=\"#DejaVuSans-32\"/>\n      </g>\n     </g>\n    </g>\n    <g id=\"xtick_4\">\n     <g id=\"line2d_4\">\n      <g>\n       <use style=\"stroke:#000000;stroke-width:0.8;\" x=\"193.79625\" xlink:href=\"#mf0b5eb6fd4\" y=\"387.72\"/>\n      </g>\n     </g>\n     <g id=\"text_4\">\n      <!-- 3 -->\n      <g transform=\"translate(190.615 402.318437)scale(0.1 -0.1)\">\n       <defs>\n        <path d=\"M 2597 2516 \nQ 3050 2419 3304 2112 \nQ 3559 1806 3559 1356 \nQ 3559 666 3084 287 \nQ 2609 -91 1734 -91 \nQ 1441 -91 1130 -33 \nQ 819 25 488 141 \nL 488 750 \nQ 750 597 1062 519 \nQ 1375 441 1716 441 \nQ 2309 441 2620 675 \nQ 2931 909 2931 1356 \nQ 2931 1769 2642 2001 \nQ 2353 2234 1838 2234 \nL 1294 2234 \nL 1294 2753 \nL 1863 2753 \nQ 2328 2753 2575 2939 \nQ 2822 3125 2822 3475 \nQ 2822 3834 2567 4026 \nQ 2313 4219 1838 4219 \nQ 1578 4219 1281 4162 \nQ 984 4106 628 3988 \nL 628 4550 \nQ 988 4650 1302 4700 \nQ 1616 4750 1894 4750 \nQ 2613 4750 3031 4423 \nQ 3450 4097 3450 3541 \nQ 3450 3153 3228 2886 \nQ 3006 2619 2597 2516 \nz\n\" id=\"DejaVuSans-33\" transform=\"scale(0.015625)\"/>\n       </defs>\n       <use xlink:href=\"#DejaVuSans-33\"/>\n      </g>\n     </g>\n    </g>\n    <g id=\"xtick_5\">\n     <g id=\"line2d_5\">\n      <g>\n       <use style=\"stroke:#000000;stroke-width:0.8;\" x=\"238.43625\" xlink:href=\"#mf0b5eb6fd4\" y=\"387.72\"/>\n      </g>\n     </g>\n     <g id=\"text_5\">\n      <!-- 4 -->\n      <g transform=\"translate(235.255 402.318437)scale(0.1 -0.1)\">\n       <defs>\n        <path d=\"M 2419 4116 \nL 825 1625 \nL 2419 1625 \nL 2419 4116 \nz\nM 2253 4666 \nL 3047 4666 \nL 3047 1625 \nL 3713 1625 \nL 3713 1100 \nL 3047 1100 \nL 3047 0 \nL 2419 0 \nL 2419 1100 \nL 313 1100 \nL 313 1709 \nL 2253 4666 \nz\n\" id=\"DejaVuSans-34\" transform=\"scale(0.015625)\"/>\n       </defs>\n       <use xlink:href=\"#DejaVuSans-34\"/>\n      </g>\n     </g>\n    </g>\n    <g id=\"xtick_6\">\n     <g id=\"line2d_6\">\n      <g>\n       <use style=\"stroke:#000000;stroke-width:0.8;\" x=\"283.07625\" xlink:href=\"#mf0b5eb6fd4\" y=\"387.72\"/>\n      </g>\n     </g>\n     <g id=\"text_6\">\n      <!-- 5 -->\n      <g transform=\"translate(279.895 402.318437)scale(0.1 -0.1)\">\n       <defs>\n        <path d=\"M 691 4666 \nL 3169 4666 \nL 3169 4134 \nL 1269 4134 \nL 1269 2991 \nQ 1406 3038 1543 3061 \nQ 1681 3084 1819 3084 \nQ 2600 3084 3056 2656 \nQ 3513 2228 3513 1497 \nQ 3513 744 3044 326 \nQ 2575 -91 1722 -91 \nQ 1428 -91 1123 -41 \nQ 819 9 494 109 \nL 494 744 \nQ 775 591 1075 516 \nQ 1375 441 1709 441 \nQ 2250 441 2565 725 \nQ 2881 1009 2881 1497 \nQ 2881 1984 2565 2268 \nQ 2250 2553 1709 2553 \nQ 1456 2553 1204 2497 \nQ 953 2441 691 2322 \nL 691 4666 \nz\n\" id=\"DejaVuSans-35\" transform=\"scale(0.015625)\"/>\n       </defs>\n       <use xlink:href=\"#DejaVuSans-35\"/>\n      </g>\n     </g>\n    </g>\n    <g id=\"xtick_7\">\n     <g id=\"line2d_7\">\n      <g>\n       <use style=\"stroke:#000000;stroke-width:0.8;\" x=\"327.71625\" xlink:href=\"#mf0b5eb6fd4\" y=\"387.72\"/>\n      </g>\n     </g>\n     <g id=\"text_7\">\n      <!-- 6 -->\n      <g transform=\"translate(324.535 402.318437)scale(0.1 -0.1)\">\n       <defs>\n        <path d=\"M 2113 2584 \nQ 1688 2584 1439 2293 \nQ 1191 2003 1191 1497 \nQ 1191 994 1439 701 \nQ 1688 409 2113 409 \nQ 2538 409 2786 701 \nQ 3034 994 3034 1497 \nQ 3034 2003 2786 2293 \nQ 2538 2584 2113 2584 \nz\nM 3366 4563 \nL 3366 3988 \nQ 3128 4100 2886 4159 \nQ 2644 4219 2406 4219 \nQ 1781 4219 1451 3797 \nQ 1122 3375 1075 2522 \nQ 1259 2794 1537 2939 \nQ 1816 3084 2150 3084 \nQ 2853 3084 3261 2657 \nQ 3669 2231 3669 1497 \nQ 3669 778 3244 343 \nQ 2819 -91 2113 -91 \nQ 1303 -91 875 529 \nQ 447 1150 447 2328 \nQ 447 3434 972 4092 \nQ 1497 4750 2381 4750 \nQ 2619 4750 2861 4703 \nQ 3103 4656 3366 4563 \nz\n\" id=\"DejaVuSans-36\" transform=\"scale(0.015625)\"/>\n       </defs>\n       <use xlink:href=\"#DejaVuSans-36\"/>\n      </g>\n     </g>\n    </g>\n    <g id=\"xtick_8\">\n     <g id=\"line2d_8\">\n      <g>\n       <use style=\"stroke:#000000;stroke-width:0.8;\" x=\"372.35625\" xlink:href=\"#mf0b5eb6fd4\" y=\"387.72\"/>\n      </g>\n     </g>\n     <g id=\"text_8\">\n      <!-- 7 -->\n      <g transform=\"translate(369.175 402.318437)scale(0.1 -0.1)\">\n       <defs>\n        <path d=\"M 525 4666 \nL 3525 4666 \nL 3525 4397 \nL 1831 0 \nL 1172 0 \nL 2766 4134 \nL 525 4134 \nL 525 4666 \nz\n\" id=\"DejaVuSans-37\" transform=\"scale(0.015625)\"/>\n       </defs>\n       <use xlink:href=\"#DejaVuSans-37\"/>\n      </g>\n     </g>\n    </g>\n    <g id=\"xtick_9\">\n     <g id=\"line2d_9\">\n      <g>\n       <use style=\"stroke:#000000;stroke-width:0.8;\" x=\"416.99625\" xlink:href=\"#mf0b5eb6fd4\" y=\"387.72\"/>\n      </g>\n     </g>\n     <g id=\"text_9\">\n      <!-- 8 -->\n      <g transform=\"translate(413.815 402.318437)scale(0.1 -0.1)\">\n       <defs>\n        <path d=\"M 2034 2216 \nQ 1584 2216 1326 1975 \nQ 1069 1734 1069 1313 \nQ 1069 891 1326 650 \nQ 1584 409 2034 409 \nQ 2484 409 2743 651 \nQ 3003 894 3003 1313 \nQ 3003 1734 2745 1975 \nQ 2488 2216 2034 2216 \nz\nM 1403 2484 \nQ 997 2584 770 2862 \nQ 544 3141 544 3541 \nQ 544 4100 942 4425 \nQ 1341 4750 2034 4750 \nQ 2731 4750 3128 4425 \nQ 3525 4100 3525 3541 \nQ 3525 3141 3298 2862 \nQ 3072 2584 2669 2484 \nQ 3125 2378 3379 2068 \nQ 3634 1759 3634 1313 \nQ 3634 634 3220 271 \nQ 2806 -91 2034 -91 \nQ 1263 -91 848 271 \nQ 434 634 434 1313 \nQ 434 1759 690 2068 \nQ 947 2378 1403 2484 \nz\nM 1172 3481 \nQ 1172 3119 1398 2916 \nQ 1625 2713 2034 2713 \nQ 2441 2713 2670 2916 \nQ 2900 3119 2900 3481 \nQ 2900 3844 2670 4047 \nQ 2441 4250 2034 4250 \nQ 1625 4250 1398 4047 \nQ 1172 3844 1172 3481 \nz\n\" id=\"DejaVuSans-38\" transform=\"scale(0.015625)\"/>\n       </defs>\n       <use xlink:href=\"#DejaVuSans-38\"/>\n      </g>\n     </g>\n    </g>\n    <g id=\"xtick_10\">\n     <g id=\"line2d_10\">\n      <g>\n       <use style=\"stroke:#000000;stroke-width:0.8;\" x=\"461.63625\" xlink:href=\"#mf0b5eb6fd4\" y=\"387.72\"/>\n      </g>\n     </g>\n     <g id=\"text_10\">\n      <!-- 9 -->\n      <g transform=\"translate(458.455 402.318437)scale(0.1 -0.1)\">\n       <defs>\n        <path d=\"M 703 97 \nL 703 672 \nQ 941 559 1184 500 \nQ 1428 441 1663 441 \nQ 2288 441 2617 861 \nQ 2947 1281 2994 2138 \nQ 2813 1869 2534 1725 \nQ 2256 1581 1919 1581 \nQ 1219 1581 811 2004 \nQ 403 2428 403 3163 \nQ 403 3881 828 4315 \nQ 1253 4750 1959 4750 \nQ 2769 4750 3195 4129 \nQ 3622 3509 3622 2328 \nQ 3622 1225 3098 567 \nQ 2575 -91 1691 -91 \nQ 1453 -91 1209 -44 \nQ 966 3 703 97 \nz\nM 1959 2075 \nQ 2384 2075 2632 2365 \nQ 2881 2656 2881 3163 \nQ 2881 3666 2632 3958 \nQ 2384 4250 1959 4250 \nQ 1534 4250 1286 3958 \nQ 1038 3666 1038 3163 \nQ 1038 2656 1286 2365 \nQ 1534 2075 1959 2075 \nz\n\" id=\"DejaVuSans-39\" transform=\"scale(0.015625)\"/>\n       </defs>\n       <use xlink:href=\"#DejaVuSans-39\"/>\n      </g>\n     </g>\n    </g>\n    <g id=\"text_11\">\n     <!-- Predicted -->\n     <g transform=\"translate(237.285938 415.996562)scale(0.1 -0.1)\">\n      <defs>\n       <path d=\"M 1259 4147 \nL 1259 2394 \nL 2053 2394 \nQ 2494 2394 2734 2622 \nQ 2975 2850 2975 3272 \nQ 2975 3691 2734 3919 \nQ 2494 4147 2053 4147 \nL 1259 4147 \nz\nM 628 4666 \nL 2053 4666 \nQ 2838 4666 3239 4311 \nQ 3641 3956 3641 3272 \nQ 3641 2581 3239 2228 \nQ 2838 1875 2053 1875 \nL 1259 1875 \nL 1259 0 \nL 628 0 \nL 628 4666 \nz\n\" id=\"DejaVuSans-50\" transform=\"scale(0.015625)\"/>\n       <path d=\"M 2631 2963 \nQ 2534 3019 2420 3045 \nQ 2306 3072 2169 3072 \nQ 1681 3072 1420 2755 \nQ 1159 2438 1159 1844 \nL 1159 0 \nL 581 0 \nL 581 3500 \nL 1159 3500 \nL 1159 2956 \nQ 1341 3275 1631 3429 \nQ 1922 3584 2338 3584 \nQ 2397 3584 2469 3576 \nQ 2541 3569 2628 3553 \nL 2631 2963 \nz\n\" id=\"DejaVuSans-72\" transform=\"scale(0.015625)\"/>\n       <path d=\"M 3597 1894 \nL 3597 1613 \nL 953 1613 \nQ 991 1019 1311 708 \nQ 1631 397 2203 397 \nQ 2534 397 2845 478 \nQ 3156 559 3463 722 \nL 3463 178 \nQ 3153 47 2828 -22 \nQ 2503 -91 2169 -91 \nQ 1331 -91 842 396 \nQ 353 884 353 1716 \nQ 353 2575 817 3079 \nQ 1281 3584 2069 3584 \nQ 2775 3584 3186 3129 \nQ 3597 2675 3597 1894 \nz\nM 3022 2063 \nQ 3016 2534 2758 2815 \nQ 2500 3097 2075 3097 \nQ 1594 3097 1305 2825 \nQ 1016 2553 972 2059 \nL 3022 2063 \nz\n\" id=\"DejaVuSans-65\" transform=\"scale(0.015625)\"/>\n       <path d=\"M 2906 2969 \nL 2906 4863 \nL 3481 4863 \nL 3481 0 \nL 2906 0 \nL 2906 525 \nQ 2725 213 2448 61 \nQ 2172 -91 1784 -91 \nQ 1150 -91 751 415 \nQ 353 922 353 1747 \nQ 353 2572 751 3078 \nQ 1150 3584 1784 3584 \nQ 2172 3584 2448 3432 \nQ 2725 3281 2906 2969 \nz\nM 947 1747 \nQ 947 1113 1208 752 \nQ 1469 391 1925 391 \nQ 2381 391 2643 752 \nQ 2906 1113 2906 1747 \nQ 2906 2381 2643 2742 \nQ 2381 3103 1925 3103 \nQ 1469 3103 1208 2742 \nQ 947 2381 947 1747 \nz\n\" id=\"DejaVuSans-64\" transform=\"scale(0.015625)\"/>\n       <path d=\"M 603 3500 \nL 1178 3500 \nL 1178 0 \nL 603 0 \nL 603 3500 \nz\nM 603 4863 \nL 1178 4863 \nL 1178 4134 \nL 603 4134 \nL 603 4863 \nz\n\" id=\"DejaVuSans-69\" transform=\"scale(0.015625)\"/>\n       <path d=\"M 3122 3366 \nL 3122 2828 \nQ 2878 2963 2633 3030 \nQ 2388 3097 2138 3097 \nQ 1578 3097 1268 2742 \nQ 959 2388 959 1747 \nQ 959 1106 1268 751 \nQ 1578 397 2138 397 \nQ 2388 397 2633 464 \nQ 2878 531 3122 666 \nL 3122 134 \nQ 2881 22 2623 -34 \nQ 2366 -91 2075 -91 \nQ 1284 -91 818 406 \nQ 353 903 353 1747 \nQ 353 2603 823 3093 \nQ 1294 3584 2113 3584 \nQ 2378 3584 2631 3529 \nQ 2884 3475 3122 3366 \nz\n\" id=\"DejaVuSans-63\" transform=\"scale(0.015625)\"/>\n       <path d=\"M 1172 4494 \nL 1172 3500 \nL 2356 3500 \nL 2356 3053 \nL 1172 3053 \nL 1172 1153 \nQ 1172 725 1289 603 \nQ 1406 481 1766 481 \nL 2356 481 \nL 2356 0 \nL 1766 0 \nQ 1100 0 847 248 \nQ 594 497 594 1153 \nL 594 3053 \nL 172 3053 \nL 172 3500 \nL 594 3500 \nL 594 4494 \nL 1172 4494 \nz\n\" id=\"DejaVuSans-74\" transform=\"scale(0.015625)\"/>\n      </defs>\n      <use xlink:href=\"#DejaVuSans-50\"/>\n      <use x=\"58.552734\" xlink:href=\"#DejaVuSans-72\"/>\n      <use x=\"97.416016\" xlink:href=\"#DejaVuSans-65\"/>\n      <use x=\"158.939453\" xlink:href=\"#DejaVuSans-64\"/>\n      <use x=\"222.416016\" xlink:href=\"#DejaVuSans-69\"/>\n      <use x=\"250.199219\" xlink:href=\"#DejaVuSans-63\"/>\n      <use x=\"305.179688\" xlink:href=\"#DejaVuSans-74\"/>\n      <use x=\"344.388672\" xlink:href=\"#DejaVuSans-65\"/>\n      <use x=\"405.912109\" xlink:href=\"#DejaVuSans-64\"/>\n     </g>\n    </g>\n   </g>\n   <g id=\"matplotlib.axis_2\">\n    <g id=\"ytick_1\">\n     <g id=\"line2d_11\">\n      <defs>\n       <path d=\"M 0 0 \nL -3.5 0 \n\" id=\"m602f97e8a9\" style=\"stroke:#000000;stroke-width:0.8;\"/>\n      </defs>\n      <g>\n       <use style=\"stroke:#000000;stroke-width:0.8;\" x=\"37.55625\" xlink:href=\"#m602f97e8a9\" y=\"26.226\"/>\n      </g>\n     </g>\n     <g id=\"text_12\">\n      <!-- 0 -->\n      <g transform=\"translate(28.476562 28.789281)rotate(-90)scale(0.1 -0.1)\">\n       <use xlink:href=\"#DejaVuSans-30\"/>\n      </g>\n     </g>\n    </g>\n    <g id=\"ytick_2\">\n     <g id=\"line2d_12\">\n      <g>\n       <use style=\"stroke:#000000;stroke-width:0.8;\" x=\"37.55625\" xlink:href=\"#m602f97e8a9\" y=\"64.278\"/>\n      </g>\n     </g>\n     <g id=\"text_13\">\n      <!-- 1 -->\n      <g transform=\"translate(28.476562 66.841281)rotate(-90)scale(0.1 -0.1)\">\n       <use xlink:href=\"#DejaVuSans-31\"/>\n      </g>\n     </g>\n    </g>\n    <g id=\"ytick_3\">\n     <g id=\"line2d_13\">\n      <g>\n       <use style=\"stroke:#000000;stroke-width:0.8;\" x=\"37.55625\" xlink:href=\"#m602f97e8a9\" y=\"102.33\"/>\n      </g>\n     </g>\n     <g id=\"text_14\">\n      <!-- 2 -->\n      <g transform=\"translate(28.476562 104.893281)rotate(-90)scale(0.1 -0.1)\">\n       <use xlink:href=\"#DejaVuSans-32\"/>\n      </g>\n     </g>\n    </g>\n    <g id=\"ytick_4\">\n     <g id=\"line2d_14\">\n      <g>\n       <use style=\"stroke:#000000;stroke-width:0.8;\" x=\"37.55625\" xlink:href=\"#m602f97e8a9\" y=\"140.382\"/>\n      </g>\n     </g>\n     <g id=\"text_15\">\n      <!-- 3 -->\n      <g transform=\"translate(28.476562 142.945281)rotate(-90)scale(0.1 -0.1)\">\n       <use xlink:href=\"#DejaVuSans-33\"/>\n      </g>\n     </g>\n    </g>\n    <g id=\"ytick_5\">\n     <g id=\"line2d_15\">\n      <g>\n       <use style=\"stroke:#000000;stroke-width:0.8;\" x=\"37.55625\" xlink:href=\"#m602f97e8a9\" y=\"178.434\"/>\n      </g>\n     </g>\n     <g id=\"text_16\">\n      <!-- 4 -->\n      <g transform=\"translate(28.476562 180.997281)rotate(-90)scale(0.1 -0.1)\">\n       <use xlink:href=\"#DejaVuSans-34\"/>\n      </g>\n     </g>\n    </g>\n    <g id=\"ytick_6\">\n     <g id=\"line2d_16\">\n      <g>\n       <use style=\"stroke:#000000;stroke-width:0.8;\" x=\"37.55625\" xlink:href=\"#m602f97e8a9\" y=\"216.486\"/>\n      </g>\n     </g>\n     <g id=\"text_17\">\n      <!-- 5 -->\n      <g transform=\"translate(28.476562 219.049281)rotate(-90)scale(0.1 -0.1)\">\n       <use xlink:href=\"#DejaVuSans-35\"/>\n      </g>\n     </g>\n    </g>\n    <g id=\"ytick_7\">\n     <g id=\"line2d_17\">\n      <g>\n       <use style=\"stroke:#000000;stroke-width:0.8;\" x=\"37.55625\" xlink:href=\"#m602f97e8a9\" y=\"254.538\"/>\n      </g>\n     </g>\n     <g id=\"text_18\">\n      <!-- 6 -->\n      <g transform=\"translate(28.476562 257.101281)rotate(-90)scale(0.1 -0.1)\">\n       <use xlink:href=\"#DejaVuSans-36\"/>\n      </g>\n     </g>\n    </g>\n    <g id=\"ytick_8\">\n     <g id=\"line2d_18\">\n      <g>\n       <use style=\"stroke:#000000;stroke-width:0.8;\" x=\"37.55625\" xlink:href=\"#m602f97e8a9\" y=\"292.59\"/>\n      </g>\n     </g>\n     <g id=\"text_19\">\n      <!-- 7 -->\n      <g transform=\"translate(28.476562 295.153281)rotate(-90)scale(0.1 -0.1)\">\n       <use xlink:href=\"#DejaVuSans-37\"/>\n      </g>\n     </g>\n    </g>\n    <g id=\"ytick_9\">\n     <g id=\"line2d_19\">\n      <g>\n       <use style=\"stroke:#000000;stroke-width:0.8;\" x=\"37.55625\" xlink:href=\"#m602f97e8a9\" y=\"330.642\"/>\n      </g>\n     </g>\n     <g id=\"text_20\">\n      <!-- 8 -->\n      <g transform=\"translate(28.476562 333.205281)rotate(-90)scale(0.1 -0.1)\">\n       <use xlink:href=\"#DejaVuSans-38\"/>\n      </g>\n     </g>\n    </g>\n    <g id=\"ytick_10\">\n     <g id=\"line2d_20\">\n      <g>\n       <use style=\"stroke:#000000;stroke-width:0.8;\" x=\"37.55625\" xlink:href=\"#m602f97e8a9\" y=\"368.694\"/>\n      </g>\n     </g>\n     <g id=\"text_21\">\n      <!-- 9 -->\n      <g transform=\"translate(28.476562 371.257281)rotate(-90)scale(0.1 -0.1)\">\n       <use xlink:href=\"#DejaVuSans-39\"/>\n      </g>\n     </g>\n    </g>\n    <g id=\"text_22\">\n     <!-- Truth -->\n     <g transform=\"translate(14.798437 210.129531)rotate(-90)scale(0.1 -0.1)\">\n      <defs>\n       <path d=\"M -19 4666 \nL 3928 4666 \nL 3928 4134 \nL 2272 4134 \nL 2272 0 \nL 1638 0 \nL 1638 4134 \nL -19 4134 \nL -19 4666 \nz\n\" id=\"DejaVuSans-54\" transform=\"scale(0.015625)\"/>\n       <path d=\"M 544 1381 \nL 544 3500 \nL 1119 3500 \nL 1119 1403 \nQ 1119 906 1312 657 \nQ 1506 409 1894 409 \nQ 2359 409 2629 706 \nQ 2900 1003 2900 1516 \nL 2900 3500 \nL 3475 3500 \nL 3475 0 \nL 2900 0 \nL 2900 538 \nQ 2691 219 2414 64 \nQ 2138 -91 1772 -91 \nQ 1169 -91 856 284 \nQ 544 659 544 1381 \nz\nM 1991 3584 \nL 1991 3584 \nz\n\" id=\"DejaVuSans-75\" transform=\"scale(0.015625)\"/>\n       <path d=\"M 3513 2113 \nL 3513 0 \nL 2938 0 \nL 2938 2094 \nQ 2938 2591 2744 2837 \nQ 2550 3084 2163 3084 \nQ 1697 3084 1428 2787 \nQ 1159 2491 1159 1978 \nL 1159 0 \nL 581 0 \nL 581 4863 \nL 1159 4863 \nL 1159 2956 \nQ 1366 3272 1645 3428 \nQ 1925 3584 2291 3584 \nQ 2894 3584 3203 3211 \nQ 3513 2838 3513 2113 \nz\n\" id=\"DejaVuSans-68\" transform=\"scale(0.015625)\"/>\n      </defs>\n      <use xlink:href=\"#DejaVuSans-54\"/>\n      <use x=\"46.333984\" xlink:href=\"#DejaVuSans-72\"/>\n      <use x=\"87.447266\" xlink:href=\"#DejaVuSans-75\"/>\n      <use x=\"150.826172\" xlink:href=\"#DejaVuSans-74\"/>\n      <use x=\"190.035156\" xlink:href=\"#DejaVuSans-68\"/>\n     </g>\n    </g>\n   </g>\n   <g id=\"text_23\">\n    <!-- 961 -->\n    <g style=\"fill:#262626;\" transform=\"translate(50.3325 28.985375)scale(0.1 -0.1)\">\n     <use xlink:href=\"#DejaVuSans-39\"/>\n     <use x=\"63.623047\" xlink:href=\"#DejaVuSans-36\"/>\n     <use x=\"127.246094\" xlink:href=\"#DejaVuSans-31\"/>\n    </g>\n   </g>\n   <g id=\"text_24\">\n    <!-- 0 -->\n    <g style=\"fill:#ffffff;\" transform=\"translate(101.335 28.985375)scale(0.1 -0.1)\">\n     <use xlink:href=\"#DejaVuSans-30\"/>\n    </g>\n   </g>\n   <g id=\"text_25\">\n    <!-- 0 -->\n    <g style=\"fill:#ffffff;\" transform=\"translate(145.975 28.985375)scale(0.1 -0.1)\">\n     <use xlink:href=\"#DejaVuSans-30\"/>\n    </g>\n   </g>\n   <g id=\"text_26\">\n    <!-- 1 -->\n    <g style=\"fill:#ffffff;\" transform=\"translate(190.615 28.985375)scale(0.1 -0.1)\">\n     <use xlink:href=\"#DejaVuSans-31\"/>\n    </g>\n   </g>\n   <g id=\"text_27\">\n    <!-- 0 -->\n    <g style=\"fill:#ffffff;\" transform=\"translate(235.255 28.985375)scale(0.1 -0.1)\">\n     <use xlink:href=\"#DejaVuSans-30\"/>\n    </g>\n   </g>\n   <g id=\"text_28\">\n    <!-- 5 -->\n    <g style=\"fill:#ffffff;\" transform=\"translate(279.895 28.985375)scale(0.1 -0.1)\">\n     <use xlink:href=\"#DejaVuSans-35\"/>\n    </g>\n   </g>\n   <g id=\"text_29\">\n    <!-- 7 -->\n    <g style=\"fill:#ffffff;\" transform=\"translate(324.535 28.985375)scale(0.1 -0.1)\">\n     <use xlink:href=\"#DejaVuSans-37\"/>\n    </g>\n   </g>\n   <g id=\"text_30\">\n    <!-- 4 -->\n    <g style=\"fill:#ffffff;\" transform=\"translate(369.175 28.985375)scale(0.1 -0.1)\">\n     <use xlink:href=\"#DejaVuSans-34\"/>\n    </g>\n   </g>\n   <g id=\"text_31\">\n    <!-- 1 -->\n    <g style=\"fill:#ffffff;\" transform=\"translate(413.815 28.985375)scale(0.1 -0.1)\">\n     <use xlink:href=\"#DejaVuSans-31\"/>\n    </g>\n   </g>\n   <g id=\"text_32\">\n    <!-- 1 -->\n    <g style=\"fill:#ffffff;\" transform=\"translate(458.455 28.985375)scale(0.1 -0.1)\">\n     <use xlink:href=\"#DejaVuSans-31\"/>\n    </g>\n   </g>\n   <g id=\"text_33\">\n    <!-- 0 -->\n    <g style=\"fill:#ffffff;\" transform=\"translate(56.695 67.037375)scale(0.1 -0.1)\">\n     <use xlink:href=\"#DejaVuSans-30\"/>\n    </g>\n   </g>\n   <g id=\"text_34\">\n    <!-- 1117 -->\n    <g style=\"fill:#262626;\" transform=\"translate(91.79125 67.037375)scale(0.1 -0.1)\">\n     <use xlink:href=\"#DejaVuSans-31\"/>\n     <use x=\"63.623047\" xlink:href=\"#DejaVuSans-31\"/>\n     <use x=\"127.246094\" xlink:href=\"#DejaVuSans-31\"/>\n     <use x=\"190.869141\" xlink:href=\"#DejaVuSans-37\"/>\n    </g>\n   </g>\n   <g id=\"text_35\">\n    <!-- 3 -->\n    <g style=\"fill:#ffffff;\" transform=\"translate(145.975 67.037375)scale(0.1 -0.1)\">\n     <use xlink:href=\"#DejaVuSans-33\"/>\n    </g>\n   </g>\n   <g id=\"text_36\">\n    <!-- 2 -->\n    <g style=\"fill:#ffffff;\" transform=\"translate(190.615 67.037375)scale(0.1 -0.1)\">\n     <use xlink:href=\"#DejaVuSans-32\"/>\n    </g>\n   </g>\n   <g id=\"text_37\">\n    <!-- 0 -->\n    <g style=\"fill:#ffffff;\" transform=\"translate(235.255 67.037375)scale(0.1 -0.1)\">\n     <use xlink:href=\"#DejaVuSans-30\"/>\n    </g>\n   </g>\n   <g id=\"text_38\">\n    <!-- 1 -->\n    <g style=\"fill:#ffffff;\" transform=\"translate(279.895 67.037375)scale(0.1 -0.1)\">\n     <use xlink:href=\"#DejaVuSans-31\"/>\n    </g>\n   </g>\n   <g id=\"text_39\">\n    <!-- 4 -->\n    <g style=\"fill:#ffffff;\" transform=\"translate(324.535 67.037375)scale(0.1 -0.1)\">\n     <use xlink:href=\"#DejaVuSans-34\"/>\n    </g>\n   </g>\n   <g id=\"text_40\">\n    <!-- 2 -->\n    <g style=\"fill:#ffffff;\" transform=\"translate(369.175 67.037375)scale(0.1 -0.1)\">\n     <use xlink:href=\"#DejaVuSans-32\"/>\n    </g>\n   </g>\n   <g id=\"text_41\">\n    <!-- 6 -->\n    <g style=\"fill:#ffffff;\" transform=\"translate(413.815 67.037375)scale(0.1 -0.1)\">\n     <use xlink:href=\"#DejaVuSans-36\"/>\n    </g>\n   </g>\n   <g id=\"text_42\">\n    <!-- 0 -->\n    <g style=\"fill:#ffffff;\" transform=\"translate(458.455 67.037375)scale(0.1 -0.1)\">\n     <use xlink:href=\"#DejaVuSans-30\"/>\n    </g>\n   </g>\n   <g id=\"text_43\">\n    <!-- 6 -->\n    <g style=\"fill:#ffffff;\" transform=\"translate(56.695 105.089375)scale(0.1 -0.1)\">\n     <use xlink:href=\"#DejaVuSans-36\"/>\n    </g>\n   </g>\n   <g id=\"text_44\">\n    <!-- 10 -->\n    <g style=\"fill:#ffffff;\" transform=\"translate(98.15375 105.089375)scale(0.1 -0.1)\">\n     <use xlink:href=\"#DejaVuSans-31\"/>\n     <use x=\"63.623047\" xlink:href=\"#DejaVuSans-30\"/>\n    </g>\n   </g>\n   <g id=\"text_45\">\n    <!-- 930 -->\n    <g style=\"fill:#262626;\" transform=\"translate(139.6125 105.089375)scale(0.1 -0.1)\">\n     <use xlink:href=\"#DejaVuSans-39\"/>\n     <use x=\"63.623047\" xlink:href=\"#DejaVuSans-33\"/>\n     <use x=\"127.246094\" xlink:href=\"#DejaVuSans-30\"/>\n    </g>\n   </g>\n   <g id=\"text_46\">\n    <!-- 14 -->\n    <g style=\"fill:#ffffff;\" transform=\"translate(187.43375 105.089375)scale(0.1 -0.1)\">\n     <use xlink:href=\"#DejaVuSans-31\"/>\n     <use x=\"63.623047\" xlink:href=\"#DejaVuSans-34\"/>\n    </g>\n   </g>\n   <g id=\"text_47\">\n    <!-- 7 -->\n    <g style=\"fill:#ffffff;\" transform=\"translate(235.255 105.089375)scale(0.1 -0.1)\">\n     <use xlink:href=\"#DejaVuSans-37\"/>\n    </g>\n   </g>\n   <g id=\"text_48\">\n    <!-- 5 -->\n    <g style=\"fill:#ffffff;\" transform=\"translate(279.895 105.089375)scale(0.1 -0.1)\">\n     <use xlink:href=\"#DejaVuSans-35\"/>\n    </g>\n   </g>\n   <g id=\"text_49\">\n    <!-- 12 -->\n    <g style=\"fill:#ffffff;\" transform=\"translate(321.35375 105.089375)scale(0.1 -0.1)\">\n     <use xlink:href=\"#DejaVuSans-31\"/>\n     <use x=\"63.623047\" xlink:href=\"#DejaVuSans-32\"/>\n    </g>\n   </g>\n   <g id=\"text_50\">\n    <!-- 9 -->\n    <g style=\"fill:#ffffff;\" transform=\"translate(369.175 105.089375)scale(0.1 -0.1)\">\n     <use xlink:href=\"#DejaVuSans-39\"/>\n    </g>\n   </g>\n   <g id=\"text_51\">\n    <!-- 34 -->\n    <g style=\"fill:#ffffff;\" transform=\"translate(410.63375 105.089375)scale(0.1 -0.1)\">\n     <use xlink:href=\"#DejaVuSans-33\"/>\n     <use x=\"63.623047\" xlink:href=\"#DejaVuSans-34\"/>\n    </g>\n   </g>\n   <g id=\"text_52\">\n    <!-- 5 -->\n    <g style=\"fill:#ffffff;\" transform=\"translate(458.455 105.089375)scale(0.1 -0.1)\">\n     <use xlink:href=\"#DejaVuSans-35\"/>\n    </g>\n   </g>\n   <g id=\"text_53\">\n    <!-- 4 -->\n    <g style=\"fill:#ffffff;\" transform=\"translate(56.695 143.141375)scale(0.1 -0.1)\">\n     <use xlink:href=\"#DejaVuSans-34\"/>\n    </g>\n   </g>\n   <g id=\"text_54\">\n    <!-- 0 -->\n    <g style=\"fill:#ffffff;\" transform=\"translate(101.335 143.141375)scale(0.1 -0.1)\">\n     <use xlink:href=\"#DejaVuSans-30\"/>\n    </g>\n   </g>\n   <g id=\"text_55\">\n    <!-- 21 -->\n    <g style=\"fill:#ffffff;\" transform=\"translate(142.79375 143.141375)scale(0.1 -0.1)\">\n     <use xlink:href=\"#DejaVuSans-32\"/>\n     <use x=\"63.623047\" xlink:href=\"#DejaVuSans-31\"/>\n    </g>\n   </g>\n   <g id=\"text_56\">\n    <!-- 907 -->\n    <g style=\"fill:#262626;\" transform=\"translate(184.2525 143.141375)scale(0.1 -0.1)\">\n     <use xlink:href=\"#DejaVuSans-39\"/>\n     <use x=\"63.623047\" xlink:href=\"#DejaVuSans-30\"/>\n     <use x=\"127.246094\" xlink:href=\"#DejaVuSans-37\"/>\n    </g>\n   </g>\n   <g id=\"text_57\">\n    <!-- 1 -->\n    <g style=\"fill:#ffffff;\" transform=\"translate(235.255 143.141375)scale(0.1 -0.1)\">\n     <use xlink:href=\"#DejaVuSans-31\"/>\n    </g>\n   </g>\n   <g id=\"text_58\">\n    <!-- 37 -->\n    <g style=\"fill:#ffffff;\" transform=\"translate(276.71375 143.141375)scale(0.1 -0.1)\">\n     <use xlink:href=\"#DejaVuSans-33\"/>\n     <use x=\"63.623047\" xlink:href=\"#DejaVuSans-37\"/>\n    </g>\n   </g>\n   <g id=\"text_59\">\n    <!-- 2 -->\n    <g style=\"fill:#ffffff;\" transform=\"translate(324.535 143.141375)scale(0.1 -0.1)\">\n     <use xlink:href=\"#DejaVuSans-32\"/>\n    </g>\n   </g>\n   <g id=\"text_60\">\n    <!-- 10 -->\n    <g style=\"fill:#ffffff;\" transform=\"translate(365.99375 143.141375)scale(0.1 -0.1)\">\n     <use xlink:href=\"#DejaVuSans-31\"/>\n     <use x=\"63.623047\" xlink:href=\"#DejaVuSans-30\"/>\n    </g>\n   </g>\n   <g id=\"text_61\">\n    <!-- 19 -->\n    <g style=\"fill:#ffffff;\" transform=\"translate(410.63375 143.141375)scale(0.1 -0.1)\">\n     <use xlink:href=\"#DejaVuSans-31\"/>\n     <use x=\"63.623047\" xlink:href=\"#DejaVuSans-39\"/>\n    </g>\n   </g>\n   <g id=\"text_62\">\n    <!-- 9 -->\n    <g style=\"fill:#ffffff;\" transform=\"translate(458.455 143.141375)scale(0.1 -0.1)\">\n     <use xlink:href=\"#DejaVuSans-39\"/>\n    </g>\n   </g>\n   <g id=\"text_63\">\n    <!-- 1 -->\n    <g style=\"fill:#ffffff;\" transform=\"translate(56.695 181.193375)scale(0.1 -0.1)\">\n     <use xlink:href=\"#DejaVuSans-31\"/>\n    </g>\n   </g>\n   <g id=\"text_64\">\n    <!-- 2 -->\n    <g style=\"fill:#ffffff;\" transform=\"translate(101.335 181.193375)scale(0.1 -0.1)\">\n     <use xlink:href=\"#DejaVuSans-32\"/>\n    </g>\n   </g>\n   <g id=\"text_65\">\n    <!-- 2 -->\n    <g style=\"fill:#ffffff;\" transform=\"translate(145.975 181.193375)scale(0.1 -0.1)\">\n     <use xlink:href=\"#DejaVuSans-32\"/>\n    </g>\n   </g>\n   <g id=\"text_66\">\n    <!-- 2 -->\n    <g style=\"fill:#ffffff;\" transform=\"translate(190.615 181.193375)scale(0.1 -0.1)\">\n     <use xlink:href=\"#DejaVuSans-32\"/>\n    </g>\n   </g>\n   <g id=\"text_67\">\n    <!-- 908 -->\n    <g style=\"fill:#262626;\" transform=\"translate(228.8925 181.193375)scale(0.1 -0.1)\">\n     <use xlink:href=\"#DejaVuSans-39\"/>\n     <use x=\"63.623047\" xlink:href=\"#DejaVuSans-30\"/>\n     <use x=\"127.246094\" xlink:href=\"#DejaVuSans-38\"/>\n    </g>\n   </g>\n   <g id=\"text_68\">\n    <!-- 0 -->\n    <g style=\"fill:#ffffff;\" transform=\"translate(279.895 181.193375)scale(0.1 -0.1)\">\n     <use xlink:href=\"#DejaVuSans-30\"/>\n    </g>\n   </g>\n   <g id=\"text_69\">\n    <!-- 14 -->\n    <g style=\"fill:#ffffff;\" transform=\"translate(321.35375 181.193375)scale(0.1 -0.1)\">\n     <use xlink:href=\"#DejaVuSans-31\"/>\n     <use x=\"63.623047\" xlink:href=\"#DejaVuSans-34\"/>\n    </g>\n   </g>\n   <g id=\"text_70\">\n    <!-- 5 -->\n    <g style=\"fill:#ffffff;\" transform=\"translate(369.175 181.193375)scale(0.1 -0.1)\">\n     <use xlink:href=\"#DejaVuSans-35\"/>\n    </g>\n   </g>\n   <g id=\"text_71\">\n    <!-- 8 -->\n    <g style=\"fill:#ffffff;\" transform=\"translate(413.815 181.193375)scale(0.1 -0.1)\">\n     <use xlink:href=\"#DejaVuSans-38\"/>\n    </g>\n   </g>\n   <g id=\"text_72\">\n    <!-- 40 -->\n    <g style=\"fill:#ffffff;\" transform=\"translate(455.27375 181.193375)scale(0.1 -0.1)\">\n     <use xlink:href=\"#DejaVuSans-34\"/>\n     <use x=\"63.623047\" xlink:href=\"#DejaVuSans-30\"/>\n    </g>\n   </g>\n   <g id=\"text_73\">\n    <!-- 8 -->\n    <g style=\"fill:#ffffff;\" transform=\"translate(56.695 219.245375)scale(0.1 -0.1)\">\n     <use xlink:href=\"#DejaVuSans-38\"/>\n    </g>\n   </g>\n   <g id=\"text_74\">\n    <!-- 2 -->\n    <g style=\"fill:#ffffff;\" transform=\"translate(101.335 219.245375)scale(0.1 -0.1)\">\n     <use xlink:href=\"#DejaVuSans-32\"/>\n    </g>\n   </g>\n   <g id=\"text_75\">\n    <!-- 2 -->\n    <g style=\"fill:#ffffff;\" transform=\"translate(145.975 219.245375)scale(0.1 -0.1)\">\n     <use xlink:href=\"#DejaVuSans-32\"/>\n    </g>\n   </g>\n   <g id=\"text_76\">\n    <!-- 15 -->\n    <g style=\"fill:#ffffff;\" transform=\"translate(187.43375 219.245375)scale(0.1 -0.1)\">\n     <use xlink:href=\"#DejaVuSans-31\"/>\n     <use x=\"63.623047\" xlink:href=\"#DejaVuSans-35\"/>\n    </g>\n   </g>\n   <g id=\"text_77\">\n    <!-- 11 -->\n    <g style=\"fill:#ffffff;\" transform=\"translate(232.07375 219.245375)scale(0.1 -0.1)\">\n     <use xlink:href=\"#DejaVuSans-31\"/>\n     <use x=\"63.623047\" xlink:href=\"#DejaVuSans-31\"/>\n    </g>\n   </g>\n   <g id=\"text_78\">\n    <!-- 800 -->\n    <g style=\"fill:#ffffff;\" transform=\"translate(273.5325 219.245375)scale(0.1 -0.1)\">\n     <use xlink:href=\"#DejaVuSans-38\"/>\n     <use x=\"63.623047\" xlink:href=\"#DejaVuSans-30\"/>\n     <use x=\"127.246094\" xlink:href=\"#DejaVuSans-30\"/>\n    </g>\n   </g>\n   <g id=\"text_79\">\n    <!-- 15 -->\n    <g style=\"fill:#ffffff;\" transform=\"translate(321.35375 219.245375)scale(0.1 -0.1)\">\n     <use xlink:href=\"#DejaVuSans-31\"/>\n     <use x=\"63.623047\" xlink:href=\"#DejaVuSans-35\"/>\n    </g>\n   </g>\n   <g id=\"text_80\">\n    <!-- 5 -->\n    <g style=\"fill:#ffffff;\" transform=\"translate(369.175 219.245375)scale(0.1 -0.1)\">\n     <use xlink:href=\"#DejaVuSans-35\"/>\n    </g>\n   </g>\n   <g id=\"text_81\">\n    <!-- 27 -->\n    <g style=\"fill:#ffffff;\" transform=\"translate(410.63375 219.245375)scale(0.1 -0.1)\">\n     <use xlink:href=\"#DejaVuSans-32\"/>\n     <use x=\"63.623047\" xlink:href=\"#DejaVuSans-37\"/>\n    </g>\n   </g>\n   <g id=\"text_82\">\n    <!-- 7 -->\n    <g style=\"fill:#ffffff;\" transform=\"translate(458.455 219.245375)scale(0.1 -0.1)\">\n     <use xlink:href=\"#DejaVuSans-37\"/>\n    </g>\n   </g>\n   <g id=\"text_83\">\n    <!-- 11 -->\n    <g style=\"fill:#ffffff;\" transform=\"translate(53.51375 257.297375)scale(0.1 -0.1)\">\n     <use xlink:href=\"#DejaVuSans-31\"/>\n     <use x=\"63.623047\" xlink:href=\"#DejaVuSans-31\"/>\n    </g>\n   </g>\n   <g id=\"text_84\">\n    <!-- 3 -->\n    <g style=\"fill:#ffffff;\" transform=\"translate(101.335 257.297375)scale(0.1 -0.1)\">\n     <use xlink:href=\"#DejaVuSans-33\"/>\n    </g>\n   </g>\n   <g id=\"text_85\">\n    <!-- 7 -->\n    <g style=\"fill:#ffffff;\" transform=\"translate(145.975 257.297375)scale(0.1 -0.1)\">\n     <use xlink:href=\"#DejaVuSans-37\"/>\n    </g>\n   </g>\n   <g id=\"text_86\">\n    <!-- 1 -->\n    <g style=\"fill:#ffffff;\" transform=\"translate(190.615 257.297375)scale(0.1 -0.1)\">\n     <use xlink:href=\"#DejaVuSans-31\"/>\n    </g>\n   </g>\n   <g id=\"text_87\">\n    <!-- 7 -->\n    <g style=\"fill:#ffffff;\" transform=\"translate(235.255 257.297375)scale(0.1 -0.1)\">\n     <use xlink:href=\"#DejaVuSans-37\"/>\n    </g>\n   </g>\n   <g id=\"text_88\">\n    <!-- 12 -->\n    <g style=\"fill:#ffffff;\" transform=\"translate(276.71375 257.297375)scale(0.1 -0.1)\">\n     <use xlink:href=\"#DejaVuSans-31\"/>\n     <use x=\"63.623047\" xlink:href=\"#DejaVuSans-32\"/>\n    </g>\n   </g>\n   <g id=\"text_89\">\n    <!-- 914 -->\n    <g style=\"fill:#262626;\" transform=\"translate(318.1725 257.297375)scale(0.1 -0.1)\">\n     <use xlink:href=\"#DejaVuSans-39\"/>\n     <use x=\"63.623047\" xlink:href=\"#DejaVuSans-31\"/>\n     <use x=\"127.246094\" xlink:href=\"#DejaVuSans-34\"/>\n    </g>\n   </g>\n   <g id=\"text_90\">\n    <!-- 2 -->\n    <g style=\"fill:#ffffff;\" transform=\"translate(369.175 257.297375)scale(0.1 -0.1)\">\n     <use xlink:href=\"#DejaVuSans-32\"/>\n    </g>\n   </g>\n   <g id=\"text_91\">\n    <!-- 1 -->\n    <g style=\"fill:#ffffff;\" transform=\"translate(413.815 257.297375)scale(0.1 -0.1)\">\n     <use xlink:href=\"#DejaVuSans-31\"/>\n    </g>\n   </g>\n   <g id=\"text_92\">\n    <!-- 0 -->\n    <g style=\"fill:#ffffff;\" transform=\"translate(458.455 257.297375)scale(0.1 -0.1)\">\n     <use xlink:href=\"#DejaVuSans-30\"/>\n    </g>\n   </g>\n   <g id=\"text_93\">\n    <!-- 2 -->\n    <g style=\"fill:#ffffff;\" transform=\"translate(56.695 295.349375)scale(0.1 -0.1)\">\n     <use xlink:href=\"#DejaVuSans-32\"/>\n    </g>\n   </g>\n   <g id=\"text_94\">\n    <!-- 7 -->\n    <g style=\"fill:#ffffff;\" transform=\"translate(101.335 295.349375)scale(0.1 -0.1)\">\n     <use xlink:href=\"#DejaVuSans-37\"/>\n    </g>\n   </g>\n   <g id=\"text_95\">\n    <!-- 20 -->\n    <g style=\"fill:#ffffff;\" transform=\"translate(142.79375 295.349375)scale(0.1 -0.1)\">\n     <use xlink:href=\"#DejaVuSans-32\"/>\n     <use x=\"63.623047\" xlink:href=\"#DejaVuSans-30\"/>\n    </g>\n   </g>\n   <g id=\"text_96\">\n    <!-- 7 -->\n    <g style=\"fill:#ffffff;\" transform=\"translate(190.615 295.349375)scale(0.1 -0.1)\">\n     <use xlink:href=\"#DejaVuSans-37\"/>\n    </g>\n   </g>\n   <g id=\"text_97\">\n    <!-- 5 -->\n    <g style=\"fill:#ffffff;\" transform=\"translate(235.255 295.349375)scale(0.1 -0.1)\">\n     <use xlink:href=\"#DejaVuSans-35\"/>\n    </g>\n   </g>\n   <g id=\"text_98\">\n    <!-- 0 -->\n    <g style=\"fill:#ffffff;\" transform=\"translate(279.895 295.349375)scale(0.1 -0.1)\">\n     <use xlink:href=\"#DejaVuSans-30\"/>\n    </g>\n   </g>\n   <g id=\"text_99\">\n    <!-- 0 -->\n    <g style=\"fill:#ffffff;\" transform=\"translate(324.535 295.349375)scale(0.1 -0.1)\">\n     <use xlink:href=\"#DejaVuSans-30\"/>\n    </g>\n   </g>\n   <g id=\"text_100\">\n    <!-- 958 -->\n    <g style=\"fill:#262626;\" transform=\"translate(362.8125 295.349375)scale(0.1 -0.1)\">\n     <use xlink:href=\"#DejaVuSans-39\"/>\n     <use x=\"63.623047\" xlink:href=\"#DejaVuSans-35\"/>\n     <use x=\"127.246094\" xlink:href=\"#DejaVuSans-38\"/>\n    </g>\n   </g>\n   <g id=\"text_101\">\n    <!-- 2 -->\n    <g style=\"fill:#ffffff;\" transform=\"translate(413.815 295.349375)scale(0.1 -0.1)\">\n     <use xlink:href=\"#DejaVuSans-32\"/>\n    </g>\n   </g>\n   <g id=\"text_102\">\n    <!-- 27 -->\n    <g style=\"fill:#ffffff;\" transform=\"translate(455.27375 295.349375)scale(0.1 -0.1)\">\n     <use xlink:href=\"#DejaVuSans-32\"/>\n     <use x=\"63.623047\" xlink:href=\"#DejaVuSans-37\"/>\n    </g>\n   </g>\n   <g id=\"text_103\">\n    <!-- 8 -->\n    <g style=\"fill:#ffffff;\" transform=\"translate(56.695 333.401375)scale(0.1 -0.1)\">\n     <use xlink:href=\"#DejaVuSans-38\"/>\n    </g>\n   </g>\n   <g id=\"text_104\">\n    <!-- 11 -->\n    <g style=\"fill:#ffffff;\" transform=\"translate(98.15375 333.401375)scale(0.1 -0.1)\">\n     <use xlink:href=\"#DejaVuSans-31\"/>\n     <use x=\"63.623047\" xlink:href=\"#DejaVuSans-31\"/>\n    </g>\n   </g>\n   <g id=\"text_105\">\n    <!-- 7 -->\n    <g style=\"fill:#ffffff;\" transform=\"translate(145.975 333.401375)scale(0.1 -0.1)\">\n     <use xlink:href=\"#DejaVuSans-37\"/>\n    </g>\n   </g>\n   <g id=\"text_106\">\n    <!-- 20 -->\n    <g style=\"fill:#ffffff;\" transform=\"translate(187.43375 333.401375)scale(0.1 -0.1)\">\n     <use xlink:href=\"#DejaVuSans-32\"/>\n     <use x=\"63.623047\" xlink:href=\"#DejaVuSans-30\"/>\n    </g>\n   </g>\n   <g id=\"text_107\">\n    <!-- 9 -->\n    <g style=\"fill:#ffffff;\" transform=\"translate(235.255 333.401375)scale(0.1 -0.1)\">\n     <use xlink:href=\"#DejaVuSans-39\"/>\n    </g>\n   </g>\n   <g id=\"text_108\">\n    <!-- 40 -->\n    <g style=\"fill:#ffffff;\" transform=\"translate(276.71375 333.401375)scale(0.1 -0.1)\">\n     <use xlink:href=\"#DejaVuSans-34\"/>\n     <use x=\"63.623047\" xlink:href=\"#DejaVuSans-30\"/>\n    </g>\n   </g>\n   <g id=\"text_109\">\n    <!-- 9 -->\n    <g style=\"fill:#ffffff;\" transform=\"translate(324.535 333.401375)scale(0.1 -0.1)\">\n     <use xlink:href=\"#DejaVuSans-39\"/>\n    </g>\n   </g>\n   <g id=\"text_110\">\n    <!-- 13 -->\n    <g style=\"fill:#ffffff;\" transform=\"translate(365.99375 333.401375)scale(0.1 -0.1)\">\n     <use xlink:href=\"#DejaVuSans-31\"/>\n     <use x=\"63.623047\" xlink:href=\"#DejaVuSans-33\"/>\n    </g>\n   </g>\n   <g id=\"text_111\">\n    <!-- 848 -->\n    <g style=\"fill:#ffffff;\" transform=\"translate(407.4525 333.401375)scale(0.1 -0.1)\">\n     <use xlink:href=\"#DejaVuSans-38\"/>\n     <use x=\"63.623047\" xlink:href=\"#DejaVuSans-34\"/>\n     <use x=\"127.246094\" xlink:href=\"#DejaVuSans-38\"/>\n    </g>\n   </g>\n   <g id=\"text_112\">\n    <!-- 9 -->\n    <g style=\"fill:#ffffff;\" transform=\"translate(458.455 333.401375)scale(0.1 -0.1)\">\n     <use xlink:href=\"#DejaVuSans-39\"/>\n    </g>\n   </g>\n   <g id=\"text_113\">\n    <!-- 10 -->\n    <g style=\"fill:#ffffff;\" transform=\"translate(53.51375 371.453375)scale(0.1 -0.1)\">\n     <use xlink:href=\"#DejaVuSans-31\"/>\n     <use x=\"63.623047\" xlink:href=\"#DejaVuSans-30\"/>\n    </g>\n   </g>\n   <g id=\"text_114\">\n    <!-- 7 -->\n    <g style=\"fill:#ffffff;\" transform=\"translate(101.335 371.453375)scale(0.1 -0.1)\">\n     <use xlink:href=\"#DejaVuSans-37\"/>\n    </g>\n   </g>\n   <g id=\"text_115\">\n    <!-- 1 -->\n    <g style=\"fill:#ffffff;\" transform=\"translate(145.975 371.453375)scale(0.1 -0.1)\">\n     <use xlink:href=\"#DejaVuSans-31\"/>\n    </g>\n   </g>\n   <g id=\"text_116\">\n    <!-- 7 -->\n    <g style=\"fill:#ffffff;\" transform=\"translate(190.615 371.453375)scale(0.1 -0.1)\">\n     <use xlink:href=\"#DejaVuSans-37\"/>\n    </g>\n   </g>\n   <g id=\"text_117\">\n    <!-- 21 -->\n    <g style=\"fill:#ffffff;\" transform=\"translate(232.07375 371.453375)scale(0.1 -0.1)\">\n     <use xlink:href=\"#DejaVuSans-32\"/>\n     <use x=\"63.623047\" xlink:href=\"#DejaVuSans-31\"/>\n    </g>\n   </g>\n   <g id=\"text_118\">\n    <!-- 10 -->\n    <g style=\"fill:#ffffff;\" transform=\"translate(276.71375 371.453375)scale(0.1 -0.1)\">\n     <use xlink:href=\"#DejaVuSans-31\"/>\n     <use x=\"63.623047\" xlink:href=\"#DejaVuSans-30\"/>\n    </g>\n   </g>\n   <g id=\"text_119\">\n    <!-- 0 -->\n    <g style=\"fill:#ffffff;\" transform=\"translate(324.535 371.453375)scale(0.1 -0.1)\">\n     <use xlink:href=\"#DejaVuSans-30\"/>\n    </g>\n   </g>\n   <g id=\"text_120\">\n    <!-- 25 -->\n    <g style=\"fill:#ffffff;\" transform=\"translate(365.99375 371.453375)scale(0.1 -0.1)\">\n     <use xlink:href=\"#DejaVuSans-32\"/>\n     <use x=\"63.623047\" xlink:href=\"#DejaVuSans-35\"/>\n    </g>\n   </g>\n   <g id=\"text_121\">\n    <!-- 3 -->\n    <g style=\"fill:#ffffff;\" transform=\"translate(413.815 371.453375)scale(0.1 -0.1)\">\n     <use xlink:href=\"#DejaVuSans-33\"/>\n    </g>\n   </g>\n   <g id=\"text_122\">\n    <!-- 925 -->\n    <g style=\"fill:#262626;\" transform=\"translate(452.0925 371.453375)scale(0.1 -0.1)\">\n     <use xlink:href=\"#DejaVuSans-39\"/>\n     <use x=\"63.623047\" xlink:href=\"#DejaVuSans-32\"/>\n     <use x=\"127.246094\" xlink:href=\"#DejaVuSans-35\"/>\n    </g>\n   </g>\n  </g>\n  <g id=\"axes_2\">\n   <g id=\"patch_3\">\n    <path d=\"M 511.85625 387.72 \nL 530.88225 387.72 \nL 530.88225 7.2 \nL 511.85625 7.2 \nz\n\" style=\"fill:#ffffff;\"/>\n   </g>\n   <g id=\"patch_4\">\n    <path clip-path=\"url(#p2352288f3b)\" d=\"M 511.85625 387.72 \nL 511.85625 386.233594 \nL 511.85625 8.686406 \nL 511.85625 7.2 \nL 530.88225 7.2 \nL 530.88225 8.686406 \nL 530.88225 386.233594 \nL 530.88225 387.72 \nL 530.88225 387.72 \nz\n\" style=\"fill:#ffffff;stroke:#ffffff;stroke-linejoin:miter;stroke-width:0.01;\"/>\n   </g>\n   <image height=\"380\" id=\"imageb1f1237ab4\" transform=\"scale(1 -1)translate(0 -380)\" width=\"19\" x=\"512\" xlink:href=\"data:image/png;base64,\niVBORw0KGgoAAAANSUhEUgAAABMAAAF8CAYAAAAthYD3AAAB90lEQVR4nO2ciW3EMAwERZ/SRPrv81IDjQEywC4LWGi0/HyP5/Pz+z1Q3KGUzjkPqHXuDHc2VAzGPFLM+2TcmRgTdRO8MzNm3dyGGJMsdBaTzDPxdCLzLAeTO1zn5j6K+UKsmOswY2rnZregF2JazK4H/yzm/fiGXZBbAdswY4rdBMXq5jrEbobsGuTRuiDvA25BYsxuQWsxTEpem1wUcx8xtZnhZkjSknmWsx6AYr2zdZj7GfYTo7r5JmIeXkkx73Qiyyknabmom/tIcXNIN72YrJva9aADZS9mbkEcpzhpU3baL+kmJiVvQdydqVtQRGrAha5NDVLMjEkmLdg26H4WUZsDPgjcBxQzTycvZoiboJ3ondHfo4NuknfWpN3HHXB1NLvJYlrdZGsTPJu4NsnUMA8UL2Zb0AsxTMtdm5iWuwJAsaOdTrCbnJgYkzxbMfeRgwn+YqmY62AxD4lJ3hmNiYpZMeGktWKySav9xx+KaXaT0xNjptQmuAaZMdm5aX35ENuCtO9YgjttRgVkFDpZm2LMEDfZ2hRvjqibGW1bPJ1AN8XP6GwLinAzpQVl1KY4aclXYogxm7R7sWJuw4zprc2Q9cCKmVIBMx9MTIzZCliHGlObtHVzLZbSgjIGihmTyzM1JlqbEZhmN5u0W7Em7Tq8SfsHsT0ut03D2bAAAAAASUVORK5CYII=\" y=\"-7\"/>\n   <g id=\"matplotlib.axis_3\"/>\n   <g id=\"matplotlib.axis_4\">\n    <g id=\"ytick_11\">\n     <g id=\"line2d_21\">\n      <defs>\n       <path d=\"M 0 0 \nL 3.5 0 \n\" id=\"m792f4834e7\" style=\"stroke:#000000;stroke-width:0.8;\"/>\n      </defs>\n      <g>\n       <use style=\"stroke:#000000;stroke-width:0.8;\" x=\"530.88225\" xlink:href=\"#m792f4834e7\" y=\"387.72\"/>\n      </g>\n     </g>\n     <g id=\"text_123\">\n      <!-- 0 -->\n      <g transform=\"translate(537.88225 391.519219)scale(0.1 -0.1)\">\n       <use xlink:href=\"#DejaVuSans-30\"/>\n      </g>\n     </g>\n    </g>\n    <g id=\"ytick_12\">\n     <g id=\"line2d_22\">\n      <g>\n       <use style=\"stroke:#000000;stroke-width:0.8;\" x=\"530.88225\" xlink:href=\"#m792f4834e7\" y=\"319.587502\"/>\n      </g>\n     </g>\n     <g id=\"text_124\">\n      <!-- 200 -->\n      <g transform=\"translate(537.88225 323.386721)scale(0.1 -0.1)\">\n       <use xlink:href=\"#DejaVuSans-32\"/>\n       <use x=\"63.623047\" xlink:href=\"#DejaVuSans-30\"/>\n       <use x=\"127.246094\" xlink:href=\"#DejaVuSans-30\"/>\n      </g>\n     </g>\n    </g>\n    <g id=\"ytick_13\">\n     <g id=\"line2d_23\">\n      <g>\n       <use style=\"stroke:#000000;stroke-width:0.8;\" x=\"530.88225\" xlink:href=\"#m792f4834e7\" y=\"251.455004\"/>\n      </g>\n     </g>\n     <g id=\"text_125\">\n      <!-- 400 -->\n      <g transform=\"translate(537.88225 255.254223)scale(0.1 -0.1)\">\n       <use xlink:href=\"#DejaVuSans-34\"/>\n       <use x=\"63.623047\" xlink:href=\"#DejaVuSans-30\"/>\n       <use x=\"127.246094\" xlink:href=\"#DejaVuSans-30\"/>\n      </g>\n     </g>\n    </g>\n    <g id=\"ytick_14\">\n     <g id=\"line2d_24\">\n      <g>\n       <use style=\"stroke:#000000;stroke-width:0.8;\" x=\"530.88225\" xlink:href=\"#m792f4834e7\" y=\"183.322507\"/>\n      </g>\n     </g>\n     <g id=\"text_126\">\n      <!-- 600 -->\n      <g transform=\"translate(537.88225 187.121725)scale(0.1 -0.1)\">\n       <use xlink:href=\"#DejaVuSans-36\"/>\n       <use x=\"63.623047\" xlink:href=\"#DejaVuSans-30\"/>\n       <use x=\"127.246094\" xlink:href=\"#DejaVuSans-30\"/>\n      </g>\n     </g>\n    </g>\n    <g id=\"ytick_15\">\n     <g id=\"line2d_25\">\n      <g>\n       <use style=\"stroke:#000000;stroke-width:0.8;\" x=\"530.88225\" xlink:href=\"#m792f4834e7\" y=\"115.190009\"/>\n      </g>\n     </g>\n     <g id=\"text_127\">\n      <!-- 800 -->\n      <g transform=\"translate(537.88225 118.989228)scale(0.1 -0.1)\">\n       <use xlink:href=\"#DejaVuSans-38\"/>\n       <use x=\"63.623047\" xlink:href=\"#DejaVuSans-30\"/>\n       <use x=\"127.246094\" xlink:href=\"#DejaVuSans-30\"/>\n      </g>\n     </g>\n    </g>\n    <g id=\"ytick_16\">\n     <g id=\"line2d_26\">\n      <g>\n       <use style=\"stroke:#000000;stroke-width:0.8;\" x=\"530.88225\" xlink:href=\"#m792f4834e7\" y=\"47.057511\"/>\n      </g>\n     </g>\n     <g id=\"text_128\">\n      <!-- 1000 -->\n      <g transform=\"translate(537.88225 50.85673)scale(0.1 -0.1)\">\n       <use xlink:href=\"#DejaVuSans-31\"/>\n       <use x=\"63.623047\" xlink:href=\"#DejaVuSans-30\"/>\n       <use x=\"127.246094\" xlink:href=\"#DejaVuSans-30\"/>\n       <use x=\"190.869141\" xlink:href=\"#DejaVuSans-30\"/>\n      </g>\n     </g>\n    </g>\n   </g>\n   <g id=\"LineCollection_1\"/>\n   <g id=\"patch_5\">\n    <path d=\"M 511.85625 387.72 \nL 511.85625 386.233594 \nL 511.85625 8.686406 \nL 511.85625 7.2 \nL 530.88225 7.2 \nL 530.88225 8.686406 \nL 530.88225 386.233594 \nL 530.88225 387.72 \nz\n\" style=\"fill:none;\"/>\n   </g>\n  </g>\n </g>\n <defs>\n  <clipPath id=\"p1edfaaeaf3\">\n   <rect height=\"380.52\" width=\"446.4\" x=\"37.55625\" y=\"7.2\"/>\n  </clipPath>\n  <clipPath id=\"p2352288f3b\">\n   <rect height=\"380.52\" width=\"19.026\" x=\"511.85625\" y=\"7.2\"/>\n  </clipPath>\n </defs>\n</svg>\n",
      "image/png": "[encoded data removed]"
     },
     "metadata": {
      "needs_background": "light"
     }
    }
   ],
   "source": [
    "import seaborn as sn \n",
    "plt.figure(figsize=(10,7))\n",
    "sn.heatmap(cm, annot=True, fmt='d')\n",
    "plt.xlabel('Predicted')\n",
    "plt.ylabel('Truth')"
   ]
  },
  {
   "cell_type": "code",
   "execution_count": null,
   "metadata": {},
   "outputs": [],
   "source": [
    "#Now we will add a hidden layer. Above was juts input and output. \n",
    "#adding hidden layers improves in the performance. "
   ]
  },
  {
   "cell_type": "code",
   "execution_count": 51,
   "metadata": {},
   "outputs": [
    {
     "output_type": "stream",
     "name": "stdout",
     "text": [
      "Epoch 1/5\n",
      "1875/1875 [==============================] - 11s 5ms/step - loss: 0.2758 - accuracy: 0.9219\n",
      "Epoch 2/5\n",
      "1875/1875 [==============================] - 10s 5ms/step - loss: 0.1265 - accuracy: 0.9620\n",
      "Epoch 3/5\n",
      "1875/1875 [==============================] - 10s 6ms/step - loss: 0.0869 - accuracy: 0.9743\n",
      "Epoch 4/5\n",
      "1875/1875 [==============================] - 10s 5ms/step - loss: 0.0666 - accuracy: 0.9794\n",
      "Epoch 5/5\n",
      "1875/1875 [==============================] - 6s 3ms/step - loss: 0.0511 - accuracy: 0.9843\n"
     ]
    },
    {
     "output_type": "execute_result",
     "data": {
      "text/plain": [
       "<tensorflow.python.keras.callbacks.History at 0x7fdfc907faf0>"
      ]
     },
     "metadata": {},
     "execution_count": 51
    }
   ],
   "source": [
    "model =  keras.Sequential([\n",
    "    keras.layers.Dense(100, input_shape=(784,),activation= 'relu'), #hw many neurons u want. hidden layer\n",
    "    keras.layers.Dense(10, input_shape=(784,),activation= 'sigmoid') #10 is output nos\n",
    "])\n",
    "\n",
    "model.compile(\n",
    "    optimizer='adam',\n",
    "    loss='sparse_categorical_crossentropy',\n",
    "    metrics=['accuracy']\n",
    "    )\n",
    "model.fit(X_train_flattened, y_train, epochs=5)\n"
   ]
  },
  {
   "cell_type": "code",
   "execution_count": 52,
   "metadata": {},
   "outputs": [
    {
     "output_type": "stream",
     "name": "stdout",
     "text": [
      "313/313 [==============================] - 1s 3ms/step - loss: 0.0828 - accuracy: 0.9725\n"
     ]
    },
    {
     "output_type": "execute_result",
     "data": {
      "text/plain": [
       "[0.0828312560915947, 0.9725000262260437]"
      ]
     },
     "metadata": {},
     "execution_count": 52
    }
   ],
   "source": [
    "model.evaluate(X_test_flattened, y_test)"
   ]
  },
  {
   "cell_type": "code",
   "execution_count": 54,
   "metadata": {},
   "outputs": [
    {
     "output_type": "execute_result",
     "data": {
      "text/plain": [
       "Text(69.0, 0.5, 'Truth')"
      ]
     },
     "metadata": {},
     "execution_count": 54
    },
    {
     "output_type": "display_data",
     "data": {
      "text/plain": "<Figure size 720x504 with 2 Axes>",
      "image/svg+xml": "<?xml version=\"1.0\" encoding=\"utf-8\" standalone=\"no\"?>\n<!DOCTYPE svg PUBLIC \"-//W3C//DTD SVG 1.1//EN\"\n  \"http://www.w3.org/Graphics/SVG/1.1/DTD/svg11.dtd\">\n<svg height=\"425.27625pt\" version=\"1.1\" viewBox=\"0 0 570.53225 425.27625\" width=\"570.53225pt\" xmlns=\"http://www.w3.org/2000/svg\" xmlns:xlink=\"http://www.w3.org/1999/xlink\">\n <metadata>\n  <rdf:RDF xmlns:cc=\"http://creativecommons.org/ns#\" xmlns:dc=\"http://purl.org/dc/elements/1.1/\" xmlns:rdf=\"http://www.w3.org/1999/02/22-rdf-syntax-ns#\">\n   <cc:Work>\n    <dc:type rdf:resource=\"http://purl.org/dc/dcmitype/StillImage\"/>\n    <dc:date>2021-07-13T08:22:23.304192</dc:date>\n    <dc:format>image/svg+xml</dc:format>\n    <dc:creator>\n     <cc:Agent>\n      <dc:title>Matplotlib v3.4.2, https://matplotlib.org/</dc:title>\n     </cc:Agent>\n    </dc:creator>\n   </cc:Work>\n  </rdf:RDF>\n </metadata>\n <defs>\n  <style type=\"text/css\">*{stroke-linecap:butt;stroke-linejoin:round;}</style>\n </defs>\n <g id=\"figure_1\">\n  <g id=\"patch_1\">\n   <path d=\"M 0 425.27625 \nL 570.53225 425.27625 \nL 570.53225 0 \nL 0 0 \nz\n\" style=\"fill:none;\"/>\n  </g>\n  <g id=\"axes_1\">\n   <g id=\"patch_2\">\n    <path d=\"M 37.55625 387.72 \nL 483.95625 387.72 \nL 483.95625 7.2 \nL 37.55625 7.2 \nz\n\" style=\"fill:#ffffff;\"/>\n   </g>\n   <g id=\"QuadMesh_1\">\n    <path clip-path=\"url(#pe35bc1b11f)\" d=\"M 37.55625 7.2 \nL 82.19625 7.2 \nL 82.19625 45.252 \nL 37.55625 45.252 \nL 37.55625 7.2 \n\" style=\"fill:#f6b893;\"/>\n    <path clip-path=\"url(#pe35bc1b11f)\" d=\"M 82.19625 7.2 \nL 126.83625 7.2 \nL 126.83625 45.252 \nL 82.19625 45.252 \nL 82.19625 7.2 \n\" style=\"fill:#03051a;\"/>\n    <path clip-path=\"url(#pe35bc1b11f)\" d=\"M 126.83625 7.2 \nL 171.47625 7.2 \nL 171.47625 45.252 \nL 126.83625 45.252 \nL 126.83625 7.2 \n\" style=\"fill:#03051a;\"/>\n    <path clip-path=\"url(#pe35bc1b11f)\" d=\"M 171.47625 7.2 \nL 216.11625 7.2 \nL 216.11625 45.252 \nL 171.47625 45.252 \nL 171.47625 7.2 \n\" style=\"fill:#03051a;\"/>\n    <path clip-path=\"url(#pe35bc1b11f)\" d=\"M 216.11625 7.2 \nL 260.75625 7.2 \nL 260.75625 45.252 \nL 216.11625 45.252 \nL 216.11625 7.2 \n\" style=\"fill:#03051a;\"/>\n    <path clip-path=\"url(#pe35bc1b11f)\" d=\"M 260.75625 7.2 \nL 305.39625 7.2 \nL 305.39625 45.252 \nL 260.75625 45.252 \nL 260.75625 7.2 \n\" style=\"fill:#03051a;\"/>\n    <path clip-path=\"url(#pe35bc1b11f)\" d=\"M 305.39625 7.2 \nL 350.03625 7.2 \nL 350.03625 45.252 \nL 305.39625 45.252 \nL 305.39625 7.2 \n\" style=\"fill:#03051a;\"/>\n    <path clip-path=\"url(#pe35bc1b11f)\" d=\"M 350.03625 7.2 \nL 394.67625 7.2 \nL 394.67625 45.252 \nL 350.03625 45.252 \nL 350.03625 7.2 \n\" style=\"fill:#03051a;\"/>\n    <path clip-path=\"url(#pe35bc1b11f)\" d=\"M 394.67625 7.2 \nL 439.31625 7.2 \nL 439.31625 45.252 \nL 394.67625 45.252 \nL 394.67625 7.2 \n\" style=\"fill:#03051a;\"/>\n    <path clip-path=\"url(#pe35bc1b11f)\" d=\"M 439.31625 7.2 \nL 483.95625 7.2 \nL 483.95625 45.252 \nL 439.31625 45.252 \nL 439.31625 7.2 \n\" style=\"fill:#03051a;\"/>\n    <path clip-path=\"url(#pe35bc1b11f)\" d=\"M 37.55625 45.252 \nL 82.19625 45.252 \nL 82.19625 83.304 \nL 37.55625 83.304 \nL 37.55625 45.252 \n\" style=\"fill:#03051a;\"/>\n    <path clip-path=\"url(#pe35bc1b11f)\" d=\"M 82.19625 45.252 \nL 126.83625 45.252 \nL 126.83625 83.304 \nL 82.19625 83.304 \nL 82.19625 45.252 \n\" style=\"fill:#faebdd;\"/>\n    <path clip-path=\"url(#pe35bc1b11f)\" d=\"M 126.83625 45.252 \nL 171.47625 45.252 \nL 171.47625 83.304 \nL 126.83625 83.304 \nL 126.83625 45.252 \n\" style=\"fill:#03051a;\"/>\n    <path clip-path=\"url(#pe35bc1b11f)\" d=\"M 171.47625 45.252 \nL 216.11625 45.252 \nL 216.11625 83.304 \nL 171.47625 83.304 \nL 171.47625 45.252 \n\" style=\"fill:#03051a;\"/>\n    <path clip-path=\"url(#pe35bc1b11f)\" d=\"M 216.11625 45.252 \nL 260.75625 45.252 \nL 260.75625 83.304 \nL 216.11625 83.304 \nL 216.11625 45.252 \n\" style=\"fill:#03051a;\"/>\n    <path clip-path=\"url(#pe35bc1b11f)\" d=\"M 260.75625 45.252 \nL 305.39625 45.252 \nL 305.39625 83.304 \nL 260.75625 83.304 \nL 260.75625 45.252 \n\" style=\"fill:#03051a;\"/>\n    <path clip-path=\"url(#pe35bc1b11f)\" d=\"M 305.39625 45.252 \nL 350.03625 45.252 \nL 350.03625 83.304 \nL 305.39625 83.304 \nL 305.39625 45.252 \n\" style=\"fill:#03051a;\"/>\n    <path clip-path=\"url(#pe35bc1b11f)\" d=\"M 350.03625 45.252 \nL 394.67625 45.252 \nL 394.67625 83.304 \nL 350.03625 83.304 \nL 350.03625 45.252 \n\" style=\"fill:#03051a;\"/>\n    <path clip-path=\"url(#pe35bc1b11f)\" d=\"M 394.67625 45.252 \nL 439.31625 45.252 \nL 439.31625 83.304 \nL 394.67625 83.304 \nL 394.67625 45.252 \n\" style=\"fill:#04051a;\"/>\n    <path clip-path=\"url(#pe35bc1b11f)\" d=\"M 439.31625 45.252 \nL 483.95625 45.252 \nL 483.95625 83.304 \nL 439.31625 83.304 \nL 439.31625 45.252 \n\" style=\"fill:#03051a;\"/>\n    <path clip-path=\"url(#pe35bc1b11f)\" d=\"M 37.55625 83.304 \nL 82.19625 83.304 \nL 82.19625 121.356 \nL 37.55625 121.356 \nL 37.55625 83.304 \n\" style=\"fill:#04051a;\"/>\n    <path clip-path=\"url(#pe35bc1b11f)\" d=\"M 82.19625 83.304 \nL 126.83625 83.304 \nL 126.83625 121.356 \nL 82.19625 121.356 \nL 82.19625 83.304 \n\" style=\"fill:#03051a;\"/>\n    <path clip-path=\"url(#pe35bc1b11f)\" d=\"M 126.83625 83.304 \nL 171.47625 83.304 \nL 171.47625 121.356 \nL 126.83625 121.356 \nL 126.83625 83.304 \n\" style=\"fill:#f7c4a4;\"/>\n    <path clip-path=\"url(#pe35bc1b11f)\" d=\"M 171.47625 83.304 \nL 216.11625 83.304 \nL 216.11625 121.356 \nL 171.47625 121.356 \nL 171.47625 83.304 \n\" style=\"fill:#03051a;\"/>\n    <path clip-path=\"url(#pe35bc1b11f)\" d=\"M 216.11625 83.304 \nL 260.75625 83.304 \nL 260.75625 121.356 \nL 216.11625 121.356 \nL 216.11625 83.304 \n\" style=\"fill:#03051a;\"/>\n    <path clip-path=\"url(#pe35bc1b11f)\" d=\"M 260.75625 83.304 \nL 305.39625 83.304 \nL 305.39625 121.356 \nL 260.75625 121.356 \nL 260.75625 83.304 \n\" style=\"fill:#03051a;\"/>\n    <path clip-path=\"url(#pe35bc1b11f)\" d=\"M 305.39625 83.304 \nL 350.03625 83.304 \nL 350.03625 121.356 \nL 305.39625 121.356 \nL 305.39625 83.304 \n\" style=\"fill:#03051a;\"/>\n    <path clip-path=\"url(#pe35bc1b11f)\" d=\"M 350.03625 83.304 \nL 394.67625 83.304 \nL 394.67625 121.356 \nL 350.03625 121.356 \nL 350.03625 83.304 \n\" style=\"fill:#03051a;\"/>\n    <path clip-path=\"url(#pe35bc1b11f)\" d=\"M 394.67625 83.304 \nL 439.31625 83.304 \nL 439.31625 121.356 \nL 394.67625 121.356 \nL 394.67625 83.304 \n\" style=\"fill:#05061b;\"/>\n    <path clip-path=\"url(#pe35bc1b11f)\" d=\"M 439.31625 83.304 \nL 483.95625 83.304 \nL 483.95625 121.356 \nL 439.31625 121.356 \nL 439.31625 83.304 \n\" style=\"fill:#03051a;\"/>\n    <path clip-path=\"url(#pe35bc1b11f)\" d=\"M 37.55625 121.356 \nL 82.19625 121.356 \nL 82.19625 159.408 \nL 37.55625 159.408 \nL 37.55625 121.356 \n\" style=\"fill:#03051a;\"/>\n    <path clip-path=\"url(#pe35bc1b11f)\" d=\"M 82.19625 121.356 \nL 126.83625 121.356 \nL 126.83625 159.408 \nL 82.19625 159.408 \nL 82.19625 121.356 \n\" style=\"fill:#03051a;\"/>\n    <path clip-path=\"url(#pe35bc1b11f)\" d=\"M 126.83625 121.356 \nL 171.47625 121.356 \nL 171.47625 159.408 \nL 126.83625 159.408 \nL 126.83625 121.356 \n\" style=\"fill:#03051a;\"/>\n    <path clip-path=\"url(#pe35bc1b11f)\" d=\"M 171.47625 121.356 \nL 216.11625 121.356 \nL 216.11625 159.408 \nL 171.47625 159.408 \nL 171.47625 121.356 \n\" style=\"fill:#f6bc99;\"/>\n    <path clip-path=\"url(#pe35bc1b11f)\" d=\"M 216.11625 121.356 \nL 260.75625 121.356 \nL 260.75625 159.408 \nL 216.11625 159.408 \nL 216.11625 121.356 \n\" style=\"fill:#03051a;\"/>\n    <path clip-path=\"url(#pe35bc1b11f)\" d=\"M 260.75625 121.356 \nL 305.39625 121.356 \nL 305.39625 159.408 \nL 260.75625 159.408 \nL 260.75625 121.356 \n\" style=\"fill:#05061b;\"/>\n    <path clip-path=\"url(#pe35bc1b11f)\" d=\"M 305.39625 121.356 \nL 350.03625 121.356 \nL 350.03625 159.408 \nL 305.39625 159.408 \nL 305.39625 121.356 \n\" style=\"fill:#03051a;\"/>\n    <path clip-path=\"url(#pe35bc1b11f)\" d=\"M 350.03625 121.356 \nL 394.67625 121.356 \nL 394.67625 159.408 \nL 350.03625 159.408 \nL 350.03625 121.356 \n\" style=\"fill:#03051a;\"/>\n    <path clip-path=\"url(#pe35bc1b11f)\" d=\"M 394.67625 121.356 \nL 439.31625 121.356 \nL 439.31625 159.408 \nL 394.67625 159.408 \nL 394.67625 121.356 \n\" style=\"fill:#05061b;\"/>\n    <path clip-path=\"url(#pe35bc1b11f)\" d=\"M 439.31625 121.356 \nL 483.95625 121.356 \nL 483.95625 159.408 \nL 439.31625 159.408 \nL 439.31625 121.356 \n\" style=\"fill:#03051a;\"/>\n    <path clip-path=\"url(#pe35bc1b11f)\" d=\"M 37.55625 159.408 \nL 82.19625 159.408 \nL 82.19625 197.46 \nL 37.55625 197.46 \nL 37.55625 159.408 \n\" style=\"fill:#03051a;\"/>\n    <path clip-path=\"url(#pe35bc1b11f)\" d=\"M 82.19625 159.408 \nL 126.83625 159.408 \nL 126.83625 197.46 \nL 82.19625 197.46 \nL 82.19625 159.408 \n\" style=\"fill:#03051a;\"/>\n    <path clip-path=\"url(#pe35bc1b11f)\" d=\"M 126.83625 159.408 \nL 171.47625 159.408 \nL 171.47625 197.46 \nL 126.83625 197.46 \nL 126.83625 159.408 \n\" style=\"fill:#03051a;\"/>\n    <path clip-path=\"url(#pe35bc1b11f)\" d=\"M 171.47625 159.408 \nL 216.11625 159.408 \nL 216.11625 197.46 \nL 171.47625 197.46 \nL 171.47625 159.408 \n\" style=\"fill:#03051a;\"/>\n    <path clip-path=\"url(#pe35bc1b11f)\" d=\"M 216.11625 159.408 \nL 260.75625 159.408 \nL 260.75625 197.46 \nL 216.11625 197.46 \nL 216.11625 159.408 \n\" style=\"fill:#f6b089;\"/>\n    <path clip-path=\"url(#pe35bc1b11f)\" d=\"M 260.75625 159.408 \nL 305.39625 159.408 \nL 305.39625 197.46 \nL 260.75625 197.46 \nL 260.75625 159.408 \n\" style=\"fill:#03051a;\"/>\n    <path clip-path=\"url(#pe35bc1b11f)\" d=\"M 305.39625 159.408 \nL 350.03625 159.408 \nL 350.03625 197.46 \nL 305.39625 197.46 \nL 305.39625 159.408 \n\" style=\"fill:#03051a;\"/>\n    <path clip-path=\"url(#pe35bc1b11f)\" d=\"M 350.03625 159.408 \nL 394.67625 159.408 \nL 394.67625 197.46 \nL 350.03625 197.46 \nL 350.03625 159.408 \n\" style=\"fill:#03051a;\"/>\n    <path clip-path=\"url(#pe35bc1b11f)\" d=\"M 394.67625 159.408 \nL 439.31625 159.408 \nL 439.31625 197.46 \nL 394.67625 197.46 \nL 394.67625 159.408 \n\" style=\"fill:#03051a;\"/>\n    <path clip-path=\"url(#pe35bc1b11f)\" d=\"M 439.31625 159.408 \nL 483.95625 159.408 \nL 483.95625 197.46 \nL 439.31625 197.46 \nL 439.31625 159.408 \n\" style=\"fill:#07071d;\"/>\n    <path clip-path=\"url(#pe35bc1b11f)\" d=\"M 37.55625 197.46 \nL 82.19625 197.46 \nL 82.19625 235.512 \nL 37.55625 235.512 \nL 37.55625 197.46 \n\" style=\"fill:#03051a;\"/>\n    <path clip-path=\"url(#pe35bc1b11f)\" d=\"M 82.19625 197.46 \nL 126.83625 197.46 \nL 126.83625 235.512 \nL 82.19625 235.512 \nL 82.19625 197.46 \n\" style=\"fill:#03051a;\"/>\n    <path clip-path=\"url(#pe35bc1b11f)\" d=\"M 126.83625 197.46 \nL 171.47625 197.46 \nL 171.47625 235.512 \nL 126.83625 235.512 \nL 126.83625 197.46 \n\" style=\"fill:#03051a;\"/>\n    <path clip-path=\"url(#pe35bc1b11f)\" d=\"M 171.47625 197.46 \nL 216.11625 197.46 \nL 216.11625 235.512 \nL 171.47625 235.512 \nL 171.47625 197.46 \n\" style=\"fill:#04051a;\"/>\n    <path clip-path=\"url(#pe35bc1b11f)\" d=\"M 216.11625 197.46 \nL 260.75625 197.46 \nL 260.75625 235.512 \nL 216.11625 235.512 \nL 216.11625 197.46 \n\" style=\"fill:#03051a;\"/>\n    <path clip-path=\"url(#pe35bc1b11f)\" d=\"M 260.75625 197.46 \nL 305.39625 197.46 \nL 305.39625 235.512 \nL 260.75625 235.512 \nL 260.75625 197.46 \n\" style=\"fill:#f5966c;\"/>\n    <path clip-path=\"url(#pe35bc1b11f)\" d=\"M 305.39625 197.46 \nL 350.03625 197.46 \nL 350.03625 235.512 \nL 305.39625 235.512 \nL 305.39625 197.46 \n\" style=\"fill:#03051a;\"/>\n    <path clip-path=\"url(#pe35bc1b11f)\" d=\"M 350.03625 197.46 \nL 394.67625 197.46 \nL 394.67625 235.512 \nL 350.03625 235.512 \nL 350.03625 197.46 \n\" style=\"fill:#03051a;\"/>\n    <path clip-path=\"url(#pe35bc1b11f)\" d=\"M 394.67625 197.46 \nL 439.31625 197.46 \nL 439.31625 235.512 \nL 394.67625 235.512 \nL 394.67625 197.46 \n\" style=\"fill:#03051a;\"/>\n    <path clip-path=\"url(#pe35bc1b11f)\" d=\"M 439.31625 197.46 \nL 483.95625 197.46 \nL 483.95625 235.512 \nL 439.31625 235.512 \nL 439.31625 197.46 \n\" style=\"fill:#03051a;\"/>\n    <path clip-path=\"url(#pe35bc1b11f)\" d=\"M 37.55625 235.512 \nL 82.19625 235.512 \nL 82.19625 273.564 \nL 37.55625 273.564 \nL 37.55625 235.512 \n\" style=\"fill:#04051a;\"/>\n    <path clip-path=\"url(#pe35bc1b11f)\" d=\"M 82.19625 235.512 \nL 126.83625 235.512 \nL 126.83625 273.564 \nL 82.19625 273.564 \nL 82.19625 235.512 \n\" style=\"fill:#03051a;\"/>\n    <path clip-path=\"url(#pe35bc1b11f)\" d=\"M 126.83625 235.512 \nL 171.47625 235.512 \nL 171.47625 273.564 \nL 126.83625 273.564 \nL 126.83625 235.512 \n\" style=\"fill:#03051a;\"/>\n    <path clip-path=\"url(#pe35bc1b11f)\" d=\"M 171.47625 235.512 \nL 216.11625 235.512 \nL 216.11625 273.564 \nL 171.47625 273.564 \nL 171.47625 235.512 \n\" style=\"fill:#03051a;\"/>\n    <path clip-path=\"url(#pe35bc1b11f)\" d=\"M 216.11625 235.512 \nL 260.75625 235.512 \nL 260.75625 273.564 \nL 216.11625 273.564 \nL 216.11625 235.512 \n\" style=\"fill:#03051a;\"/>\n    <path clip-path=\"url(#pe35bc1b11f)\" d=\"M 260.75625 235.512 \nL 305.39625 235.512 \nL 305.39625 273.564 \nL 260.75625 273.564 \nL 260.75625 235.512 \n\" style=\"fill:#05061b;\"/>\n    <path clip-path=\"url(#pe35bc1b11f)\" d=\"M 305.39625 235.512 \nL 350.03625 235.512 \nL 350.03625 273.564 \nL 305.39625 273.564 \nL 305.39625 235.512 \n\" style=\"fill:#f6a67e;\"/>\n    <path clip-path=\"url(#pe35bc1b11f)\" d=\"M 350.03625 235.512 \nL 394.67625 235.512 \nL 394.67625 273.564 \nL 350.03625 273.564 \nL 350.03625 235.512 \n\" style=\"fill:#03051a;\"/>\n    <path clip-path=\"url(#pe35bc1b11f)\" d=\"M 394.67625 235.512 \nL 439.31625 235.512 \nL 439.31625 273.564 \nL 394.67625 273.564 \nL 394.67625 235.512 \n\" style=\"fill:#03051a;\"/>\n    <path clip-path=\"url(#pe35bc1b11f)\" d=\"M 439.31625 235.512 \nL 483.95625 235.512 \nL 483.95625 273.564 \nL 439.31625 273.564 \nL 439.31625 235.512 \n\" style=\"fill:#03051a;\"/>\n    <path clip-path=\"url(#pe35bc1b11f)\" d=\"M 37.55625 273.564 \nL 82.19625 273.564 \nL 82.19625 311.616 \nL 37.55625 311.616 \nL 37.55625 273.564 \n\" style=\"fill:#03051a;\"/>\n    <path clip-path=\"url(#pe35bc1b11f)\" d=\"M 82.19625 273.564 \nL 126.83625 273.564 \nL 126.83625 311.616 \nL 82.19625 311.616 \nL 82.19625 273.564 \n\" style=\"fill:#04051a;\"/>\n    <path clip-path=\"url(#pe35bc1b11f)\" d=\"M 126.83625 273.564 \nL 171.47625 273.564 \nL 171.47625 311.616 \nL 126.83625 311.616 \nL 126.83625 273.564 \n\" style=\"fill:#06071c;\"/>\n    <path clip-path=\"url(#pe35bc1b11f)\" d=\"M 171.47625 273.564 \nL 216.11625 273.564 \nL 216.11625 311.616 \nL 171.47625 311.616 \nL 171.47625 273.564 \n\" style=\"fill:#04051a;\"/>\n    <path clip-path=\"url(#pe35bc1b11f)\" d=\"M 216.11625 273.564 \nL 260.75625 273.564 \nL 260.75625 311.616 \nL 216.11625 311.616 \nL 216.11625 273.564 \n\" style=\"fill:#03051a;\"/>\n    <path clip-path=\"url(#pe35bc1b11f)\" d=\"M 260.75625 273.564 \nL 305.39625 273.564 \nL 305.39625 311.616 \nL 260.75625 311.616 \nL 260.75625 273.564 \n\" style=\"fill:#03051a;\"/>\n    <path clip-path=\"url(#pe35bc1b11f)\" d=\"M 305.39625 273.564 \nL 350.03625 273.564 \nL 350.03625 311.616 \nL 305.39625 311.616 \nL 305.39625 273.564 \n\" style=\"fill:#03051a;\"/>\n    <path clip-path=\"url(#pe35bc1b11f)\" d=\"M 350.03625 273.564 \nL 394.67625 273.564 \nL 394.67625 311.616 \nL 350.03625 311.616 \nL 350.03625 273.564 \n\" style=\"fill:#f6bc99;\"/>\n    <path clip-path=\"url(#pe35bc1b11f)\" d=\"M 394.67625 273.564 \nL 439.31625 273.564 \nL 439.31625 311.616 \nL 394.67625 311.616 \nL 394.67625 273.564 \n\" style=\"fill:#04051a;\"/>\n    <path clip-path=\"url(#pe35bc1b11f)\" d=\"M 439.31625 273.564 \nL 483.95625 273.564 \nL 483.95625 311.616 \nL 439.31625 311.616 \nL 439.31625 273.564 \n\" style=\"fill:#04051a;\"/>\n    <path clip-path=\"url(#pe35bc1b11f)\" d=\"M 37.55625 311.616 \nL 82.19625 311.616 \nL 82.19625 349.668 \nL 37.55625 349.668 \nL 37.55625 311.616 \n\" style=\"fill:#04051a;\"/>\n    <path clip-path=\"url(#pe35bc1b11f)\" d=\"M 82.19625 311.616 \nL 126.83625 311.616 \nL 126.83625 349.668 \nL 82.19625 349.668 \nL 82.19625 311.616 \n\" style=\"fill:#03051a;\"/>\n    <path clip-path=\"url(#pe35bc1b11f)\" d=\"M 126.83625 311.616 \nL 171.47625 311.616 \nL 171.47625 349.668 \nL 126.83625 349.668 \nL 126.83625 311.616 \n\" style=\"fill:#03051a;\"/>\n    <path clip-path=\"url(#pe35bc1b11f)\" d=\"M 171.47625 311.616 \nL 216.11625 311.616 \nL 216.11625 349.668 \nL 171.47625 349.668 \nL 171.47625 311.616 \n\" style=\"fill:#04051a;\"/>\n    <path clip-path=\"url(#pe35bc1b11f)\" d=\"M 216.11625 311.616 \nL 260.75625 311.616 \nL 260.75625 349.668 \nL 216.11625 349.668 \nL 216.11625 311.616 \n\" style=\"fill:#03051a;\"/>\n    <path clip-path=\"url(#pe35bc1b11f)\" d=\"M 260.75625 311.616 \nL 305.39625 311.616 \nL 305.39625 349.668 \nL 260.75625 349.668 \nL 260.75625 311.616 \n\" style=\"fill:#05061b;\"/>\n    <path clip-path=\"url(#pe35bc1b11f)\" d=\"M 305.39625 311.616 \nL 350.03625 311.616 \nL 350.03625 349.668 \nL 305.39625 349.668 \nL 305.39625 311.616 \n\" style=\"fill:#03051a;\"/>\n    <path clip-path=\"url(#pe35bc1b11f)\" d=\"M 350.03625 311.616 \nL 394.67625 311.616 \nL 394.67625 349.668 \nL 350.03625 349.668 \nL 350.03625 311.616 \n\" style=\"fill:#03051a;\"/>\n    <path clip-path=\"url(#pe35bc1b11f)\" d=\"M 394.67625 311.616 \nL 439.31625 311.616 \nL 439.31625 349.668 \nL 394.67625 349.668 \nL 394.67625 311.616 \n\" style=\"fill:#f6ab83;\"/>\n    <path clip-path=\"url(#pe35bc1b11f)\" d=\"M 439.31625 311.616 \nL 483.95625 311.616 \nL 483.95625 349.668 \nL 439.31625 349.668 \nL 439.31625 311.616 \n\" style=\"fill:#03051a;\"/>\n    <path clip-path=\"url(#pe35bc1b11f)\" d=\"M 37.55625 349.668 \nL 82.19625 349.668 \nL 82.19625 387.72 \nL 37.55625 387.72 \nL 37.55625 349.668 \n\" style=\"fill:#03051a;\"/>\n    <path clip-path=\"url(#pe35bc1b11f)\" d=\"M 82.19625 349.668 \nL 126.83625 349.668 \nL 126.83625 387.72 \nL 82.19625 387.72 \nL 82.19625 349.668 \n\" style=\"fill:#03051a;\"/>\n    <path clip-path=\"url(#pe35bc1b11f)\" d=\"M 126.83625 349.668 \nL 171.47625 349.668 \nL 171.47625 387.72 \nL 126.83625 387.72 \nL 126.83625 349.668 \n\" style=\"fill:#03051a;\"/>\n    <path clip-path=\"url(#pe35bc1b11f)\" d=\"M 171.47625 349.668 \nL 216.11625 349.668 \nL 216.11625 387.72 \nL 171.47625 387.72 \nL 171.47625 349.668 \n\" style=\"fill:#05061b;\"/>\n    <path clip-path=\"url(#pe35bc1b11f)\" d=\"M 216.11625 349.668 \nL 260.75625 349.668 \nL 260.75625 387.72 \nL 216.11625 387.72 \nL 216.11625 349.668 \n\" style=\"fill:#03051a;\"/>\n    <path clip-path=\"url(#pe35bc1b11f)\" d=\"M 260.75625 349.668 \nL 305.39625 349.668 \nL 305.39625 387.72 \nL 260.75625 387.72 \nL 260.75625 349.668 \n\" style=\"fill:#05061b;\"/>\n    <path clip-path=\"url(#pe35bc1b11f)\" d=\"M 305.39625 349.668 \nL 350.03625 349.668 \nL 350.03625 387.72 \nL 305.39625 387.72 \nL 305.39625 349.668 \n\" style=\"fill:#03051a;\"/>\n    <path clip-path=\"url(#pe35bc1b11f)\" d=\"M 350.03625 349.668 \nL 394.67625 349.668 \nL 394.67625 387.72 \nL 350.03625 387.72 \nL 350.03625 349.668 \n\" style=\"fill:#04051a;\"/>\n    <path clip-path=\"url(#pe35bc1b11f)\" d=\"M 394.67625 349.668 \nL 439.31625 349.668 \nL 439.31625 387.72 \nL 394.67625 387.72 \nL 394.67625 349.668 \n\" style=\"fill:#04051a;\"/>\n    <path clip-path=\"url(#pe35bc1b11f)\" d=\"M 439.31625 349.668 \nL 483.95625 349.668 \nL 483.95625 387.72 \nL 439.31625 387.72 \nL 439.31625 349.668 \n\" style=\"fill:#f6b48f;\"/>\n   </g>\n   <g id=\"matplotlib.axis_1\">\n    <g id=\"xtick_1\">\n     <g id=\"line2d_1\">\n      <defs>\n       <path d=\"M 0 0 \nL 0 3.5 \n\" id=\"m0ec221c432\" style=\"stroke:#000000;stroke-width:0.8;\"/>\n      </defs>\n      <g>\n       <use style=\"stroke:#000000;stroke-width:0.8;\" x=\"59.87625\" xlink:href=\"#m0ec221c432\" y=\"387.72\"/>\n      </g>\n     </g>\n     <g id=\"text_1\">\n      <!-- 0 -->\n      <g transform=\"translate(56.695 402.318437)scale(0.1 -0.1)\">\n       <defs>\n        <path d=\"M 2034 4250 \nQ 1547 4250 1301 3770 \nQ 1056 3291 1056 2328 \nQ 1056 1369 1301 889 \nQ 1547 409 2034 409 \nQ 2525 409 2770 889 \nQ 3016 1369 3016 2328 \nQ 3016 3291 2770 3770 \nQ 2525 4250 2034 4250 \nz\nM 2034 4750 \nQ 2819 4750 3233 4129 \nQ 3647 3509 3647 2328 \nQ 3647 1150 3233 529 \nQ 2819 -91 2034 -91 \nQ 1250 -91 836 529 \nQ 422 1150 422 2328 \nQ 422 3509 836 4129 \nQ 1250 4750 2034 4750 \nz\n\" id=\"DejaVuSans-30\" transform=\"scale(0.015625)\"/>\n       </defs>\n       <use xlink:href=\"#DejaVuSans-30\"/>\n      </g>\n     </g>\n    </g>\n    <g id=\"xtick_2\">\n     <g id=\"line2d_2\">\n      <g>\n       <use style=\"stroke:#000000;stroke-width:0.8;\" x=\"104.51625\" xlink:href=\"#m0ec221c432\" y=\"387.72\"/>\n      </g>\n     </g>\n     <g id=\"text_2\">\n      <!-- 1 -->\n      <g transform=\"translate(101.335 402.318437)scale(0.1 -0.1)\">\n       <defs>\n        <path d=\"M 794 531 \nL 1825 531 \nL 1825 4091 \nL 703 3866 \nL 703 4441 \nL 1819 4666 \nL 2450 4666 \nL 2450 531 \nL 3481 531 \nL 3481 0 \nL 794 0 \nL 794 531 \nz\n\" id=\"DejaVuSans-31\" transform=\"scale(0.015625)\"/>\n       </defs>\n       <use xlink:href=\"#DejaVuSans-31\"/>\n      </g>\n     </g>\n    </g>\n    <g id=\"xtick_3\">\n     <g id=\"line2d_3\">\n      <g>\n       <use style=\"stroke:#000000;stroke-width:0.8;\" x=\"149.15625\" xlink:href=\"#m0ec221c432\" y=\"387.72\"/>\n      </g>\n     </g>\n     <g id=\"text_3\">\n      <!-- 2 -->\n      <g transform=\"translate(145.975 402.318437)scale(0.1 -0.1)\">\n       <defs>\n        <path d=\"M 1228 531 \nL 3431 531 \nL 3431 0 \nL 469 0 \nL 469 531 \nQ 828 903 1448 1529 \nQ 2069 2156 2228 2338 \nQ 2531 2678 2651 2914 \nQ 2772 3150 2772 3378 \nQ 2772 3750 2511 3984 \nQ 2250 4219 1831 4219 \nQ 1534 4219 1204 4116 \nQ 875 4013 500 3803 \nL 500 4441 \nQ 881 4594 1212 4672 \nQ 1544 4750 1819 4750 \nQ 2544 4750 2975 4387 \nQ 3406 4025 3406 3419 \nQ 3406 3131 3298 2873 \nQ 3191 2616 2906 2266 \nQ 2828 2175 2409 1742 \nQ 1991 1309 1228 531 \nz\n\" id=\"DejaVuSans-32\" transform=\"scale(0.015625)\"/>\n       </defs>\n       <use xlink:href=\"#DejaVuSans-32\"/>\n      </g>\n     </g>\n    </g>\n    <g id=\"xtick_4\">\n     <g id=\"line2d_4\">\n      <g>\n       <use style=\"stroke:#000000;stroke-width:0.8;\" x=\"193.79625\" xlink:href=\"#m0ec221c432\" y=\"387.72\"/>\n      </g>\n     </g>\n     <g id=\"text_4\">\n      <!-- 3 -->\n      <g transform=\"translate(190.615 402.318437)scale(0.1 -0.1)\">\n       <defs>\n        <path d=\"M 2597 2516 \nQ 3050 2419 3304 2112 \nQ 3559 1806 3559 1356 \nQ 3559 666 3084 287 \nQ 2609 -91 1734 -91 \nQ 1441 -91 1130 -33 \nQ 819 25 488 141 \nL 488 750 \nQ 750 597 1062 519 \nQ 1375 441 1716 441 \nQ 2309 441 2620 675 \nQ 2931 909 2931 1356 \nQ 2931 1769 2642 2001 \nQ 2353 2234 1838 2234 \nL 1294 2234 \nL 1294 2753 \nL 1863 2753 \nQ 2328 2753 2575 2939 \nQ 2822 3125 2822 3475 \nQ 2822 3834 2567 4026 \nQ 2313 4219 1838 4219 \nQ 1578 4219 1281 4162 \nQ 984 4106 628 3988 \nL 628 4550 \nQ 988 4650 1302 4700 \nQ 1616 4750 1894 4750 \nQ 2613 4750 3031 4423 \nQ 3450 4097 3450 3541 \nQ 3450 3153 3228 2886 \nQ 3006 2619 2597 2516 \nz\n\" id=\"DejaVuSans-33\" transform=\"scale(0.015625)\"/>\n       </defs>\n       <use xlink:href=\"#DejaVuSans-33\"/>\n      </g>\n     </g>\n    </g>\n    <g id=\"xtick_5\">\n     <g id=\"line2d_5\">\n      <g>\n       <use style=\"stroke:#000000;stroke-width:0.8;\" x=\"238.43625\" xlink:href=\"#m0ec221c432\" y=\"387.72\"/>\n      </g>\n     </g>\n     <g id=\"text_5\">\n      <!-- 4 -->\n      <g transform=\"translate(235.255 402.318437)scale(0.1 -0.1)\">\n       <defs>\n        <path d=\"M 2419 4116 \nL 825 1625 \nL 2419 1625 \nL 2419 4116 \nz\nM 2253 4666 \nL 3047 4666 \nL 3047 1625 \nL 3713 1625 \nL 3713 1100 \nL 3047 1100 \nL 3047 0 \nL 2419 0 \nL 2419 1100 \nL 313 1100 \nL 313 1709 \nL 2253 4666 \nz\n\" id=\"DejaVuSans-34\" transform=\"scale(0.015625)\"/>\n       </defs>\n       <use xlink:href=\"#DejaVuSans-34\"/>\n      </g>\n     </g>\n    </g>\n    <g id=\"xtick_6\">\n     <g id=\"line2d_6\">\n      <g>\n       <use style=\"stroke:#000000;stroke-width:0.8;\" x=\"283.07625\" xlink:href=\"#m0ec221c432\" y=\"387.72\"/>\n      </g>\n     </g>\n     <g id=\"text_6\">\n      <!-- 5 -->\n      <g transform=\"translate(279.895 402.318437)scale(0.1 -0.1)\">\n       <defs>\n        <path d=\"M 691 4666 \nL 3169 4666 \nL 3169 4134 \nL 1269 4134 \nL 1269 2991 \nQ 1406 3038 1543 3061 \nQ 1681 3084 1819 3084 \nQ 2600 3084 3056 2656 \nQ 3513 2228 3513 1497 \nQ 3513 744 3044 326 \nQ 2575 -91 1722 -91 \nQ 1428 -91 1123 -41 \nQ 819 9 494 109 \nL 494 744 \nQ 775 591 1075 516 \nQ 1375 441 1709 441 \nQ 2250 441 2565 725 \nQ 2881 1009 2881 1497 \nQ 2881 1984 2565 2268 \nQ 2250 2553 1709 2553 \nQ 1456 2553 1204 2497 \nQ 953 2441 691 2322 \nL 691 4666 \nz\n\" id=\"DejaVuSans-35\" transform=\"scale(0.015625)\"/>\n       </defs>\n       <use xlink:href=\"#DejaVuSans-35\"/>\n      </g>\n     </g>\n    </g>\n    <g id=\"xtick_7\">\n     <g id=\"line2d_7\">\n      <g>\n       <use style=\"stroke:#000000;stroke-width:0.8;\" x=\"327.71625\" xlink:href=\"#m0ec221c432\" y=\"387.72\"/>\n      </g>\n     </g>\n     <g id=\"text_7\">\n      <!-- 6 -->\n      <g transform=\"translate(324.535 402.318437)scale(0.1 -0.1)\">\n       <defs>\n        <path d=\"M 2113 2584 \nQ 1688 2584 1439 2293 \nQ 1191 2003 1191 1497 \nQ 1191 994 1439 701 \nQ 1688 409 2113 409 \nQ 2538 409 2786 701 \nQ 3034 994 3034 1497 \nQ 3034 2003 2786 2293 \nQ 2538 2584 2113 2584 \nz\nM 3366 4563 \nL 3366 3988 \nQ 3128 4100 2886 4159 \nQ 2644 4219 2406 4219 \nQ 1781 4219 1451 3797 \nQ 1122 3375 1075 2522 \nQ 1259 2794 1537 2939 \nQ 1816 3084 2150 3084 \nQ 2853 3084 3261 2657 \nQ 3669 2231 3669 1497 \nQ 3669 778 3244 343 \nQ 2819 -91 2113 -91 \nQ 1303 -91 875 529 \nQ 447 1150 447 2328 \nQ 447 3434 972 4092 \nQ 1497 4750 2381 4750 \nQ 2619 4750 2861 4703 \nQ 3103 4656 3366 4563 \nz\n\" id=\"DejaVuSans-36\" transform=\"scale(0.015625)\"/>\n       </defs>\n       <use xlink:href=\"#DejaVuSans-36\"/>\n      </g>\n     </g>\n    </g>\n    <g id=\"xtick_8\">\n     <g id=\"line2d_8\">\n      <g>\n       <use style=\"stroke:#000000;stroke-width:0.8;\" x=\"372.35625\" xlink:href=\"#m0ec221c432\" y=\"387.72\"/>\n      </g>\n     </g>\n     <g id=\"text_8\">\n      <!-- 7 -->\n      <g transform=\"translate(369.175 402.318437)scale(0.1 -0.1)\">\n       <defs>\n        <path d=\"M 525 4666 \nL 3525 4666 \nL 3525 4397 \nL 1831 0 \nL 1172 0 \nL 2766 4134 \nL 525 4134 \nL 525 4666 \nz\n\" id=\"DejaVuSans-37\" transform=\"scale(0.015625)\"/>\n       </defs>\n       <use xlink:href=\"#DejaVuSans-37\"/>\n      </g>\n     </g>\n    </g>\n    <g id=\"xtick_9\">\n     <g id=\"line2d_9\">\n      <g>\n       <use style=\"stroke:#000000;stroke-width:0.8;\" x=\"416.99625\" xlink:href=\"#m0ec221c432\" y=\"387.72\"/>\n      </g>\n     </g>\n     <g id=\"text_9\">\n      <!-- 8 -->\n      <g transform=\"translate(413.815 402.318437)scale(0.1 -0.1)\">\n       <defs>\n        <path d=\"M 2034 2216 \nQ 1584 2216 1326 1975 \nQ 1069 1734 1069 1313 \nQ 1069 891 1326 650 \nQ 1584 409 2034 409 \nQ 2484 409 2743 651 \nQ 3003 894 3003 1313 \nQ 3003 1734 2745 1975 \nQ 2488 2216 2034 2216 \nz\nM 1403 2484 \nQ 997 2584 770 2862 \nQ 544 3141 544 3541 \nQ 544 4100 942 4425 \nQ 1341 4750 2034 4750 \nQ 2731 4750 3128 4425 \nQ 3525 4100 3525 3541 \nQ 3525 3141 3298 2862 \nQ 3072 2584 2669 2484 \nQ 3125 2378 3379 2068 \nQ 3634 1759 3634 1313 \nQ 3634 634 3220 271 \nQ 2806 -91 2034 -91 \nQ 1263 -91 848 271 \nQ 434 634 434 1313 \nQ 434 1759 690 2068 \nQ 947 2378 1403 2484 \nz\nM 1172 3481 \nQ 1172 3119 1398 2916 \nQ 1625 2713 2034 2713 \nQ 2441 2713 2670 2916 \nQ 2900 3119 2900 3481 \nQ 2900 3844 2670 4047 \nQ 2441 4250 2034 4250 \nQ 1625 4250 1398 4047 \nQ 1172 3844 1172 3481 \nz\n\" id=\"DejaVuSans-38\" transform=\"scale(0.015625)\"/>\n       </defs>\n       <use xlink:href=\"#DejaVuSans-38\"/>\n      </g>\n     </g>\n    </g>\n    <g id=\"xtick_10\">\n     <g id=\"line2d_10\">\n      <g>\n       <use style=\"stroke:#000000;stroke-width:0.8;\" x=\"461.63625\" xlink:href=\"#m0ec221c432\" y=\"387.72\"/>\n      </g>\n     </g>\n     <g id=\"text_10\">\n      <!-- 9 -->\n      <g transform=\"translate(458.455 402.318437)scale(0.1 -0.1)\">\n       <defs>\n        <path d=\"M 703 97 \nL 703 672 \nQ 941 559 1184 500 \nQ 1428 441 1663 441 \nQ 2288 441 2617 861 \nQ 2947 1281 2994 2138 \nQ 2813 1869 2534 1725 \nQ 2256 1581 1919 1581 \nQ 1219 1581 811 2004 \nQ 403 2428 403 3163 \nQ 403 3881 828 4315 \nQ 1253 4750 1959 4750 \nQ 2769 4750 3195 4129 \nQ 3622 3509 3622 2328 \nQ 3622 1225 3098 567 \nQ 2575 -91 1691 -91 \nQ 1453 -91 1209 -44 \nQ 966 3 703 97 \nz\nM 1959 2075 \nQ 2384 2075 2632 2365 \nQ 2881 2656 2881 3163 \nQ 2881 3666 2632 3958 \nQ 2384 4250 1959 4250 \nQ 1534 4250 1286 3958 \nQ 1038 3666 1038 3163 \nQ 1038 2656 1286 2365 \nQ 1534 2075 1959 2075 \nz\n\" id=\"DejaVuSans-39\" transform=\"scale(0.015625)\"/>\n       </defs>\n       <use xlink:href=\"#DejaVuSans-39\"/>\n      </g>\n     </g>\n    </g>\n    <g id=\"text_11\">\n     <!-- Predicted -->\n     <g transform=\"translate(237.285938 415.996562)scale(0.1 -0.1)\">\n      <defs>\n       <path d=\"M 1259 4147 \nL 1259 2394 \nL 2053 2394 \nQ 2494 2394 2734 2622 \nQ 2975 2850 2975 3272 \nQ 2975 3691 2734 3919 \nQ 2494 4147 2053 4147 \nL 1259 4147 \nz\nM 628 4666 \nL 2053 4666 \nQ 2838 4666 3239 4311 \nQ 3641 3956 3641 3272 \nQ 3641 2581 3239 2228 \nQ 2838 1875 2053 1875 \nL 1259 1875 \nL 1259 0 \nL 628 0 \nL 628 4666 \nz\n\" id=\"DejaVuSans-50\" transform=\"scale(0.015625)\"/>\n       <path d=\"M 2631 2963 \nQ 2534 3019 2420 3045 \nQ 2306 3072 2169 3072 \nQ 1681 3072 1420 2755 \nQ 1159 2438 1159 1844 \nL 1159 0 \nL 581 0 \nL 581 3500 \nL 1159 3500 \nL 1159 2956 \nQ 1341 3275 1631 3429 \nQ 1922 3584 2338 3584 \nQ 2397 3584 2469 3576 \nQ 2541 3569 2628 3553 \nL 2631 2963 \nz\n\" id=\"DejaVuSans-72\" transform=\"scale(0.015625)\"/>\n       <path d=\"M 3597 1894 \nL 3597 1613 \nL 953 1613 \nQ 991 1019 1311 708 \nQ 1631 397 2203 397 \nQ 2534 397 2845 478 \nQ 3156 559 3463 722 \nL 3463 178 \nQ 3153 47 2828 -22 \nQ 2503 -91 2169 -91 \nQ 1331 -91 842 396 \nQ 353 884 353 1716 \nQ 353 2575 817 3079 \nQ 1281 3584 2069 3584 \nQ 2775 3584 3186 3129 \nQ 3597 2675 3597 1894 \nz\nM 3022 2063 \nQ 3016 2534 2758 2815 \nQ 2500 3097 2075 3097 \nQ 1594 3097 1305 2825 \nQ 1016 2553 972 2059 \nL 3022 2063 \nz\n\" id=\"DejaVuSans-65\" transform=\"scale(0.015625)\"/>\n       <path d=\"M 2906 2969 \nL 2906 4863 \nL 3481 4863 \nL 3481 0 \nL 2906 0 \nL 2906 525 \nQ 2725 213 2448 61 \nQ 2172 -91 1784 -91 \nQ 1150 -91 751 415 \nQ 353 922 353 1747 \nQ 353 2572 751 3078 \nQ 1150 3584 1784 3584 \nQ 2172 3584 2448 3432 \nQ 2725 3281 2906 2969 \nz\nM 947 1747 \nQ 947 1113 1208 752 \nQ 1469 391 1925 391 \nQ 2381 391 2643 752 \nQ 2906 1113 2906 1747 \nQ 2906 2381 2643 2742 \nQ 2381 3103 1925 3103 \nQ 1469 3103 1208 2742 \nQ 947 2381 947 1747 \nz\n\" id=\"DejaVuSans-64\" transform=\"scale(0.015625)\"/>\n       <path d=\"M 603 3500 \nL 1178 3500 \nL 1178 0 \nL 603 0 \nL 603 3500 \nz\nM 603 4863 \nL 1178 4863 \nL 1178 4134 \nL 603 4134 \nL 603 4863 \nz\n\" id=\"DejaVuSans-69\" transform=\"scale(0.015625)\"/>\n       <path d=\"M 3122 3366 \nL 3122 2828 \nQ 2878 2963 2633 3030 \nQ 2388 3097 2138 3097 \nQ 1578 3097 1268 2742 \nQ 959 2388 959 1747 \nQ 959 1106 1268 751 \nQ 1578 397 2138 397 \nQ 2388 397 2633 464 \nQ 2878 531 3122 666 \nL 3122 134 \nQ 2881 22 2623 -34 \nQ 2366 -91 2075 -91 \nQ 1284 -91 818 406 \nQ 353 903 353 1747 \nQ 353 2603 823 3093 \nQ 1294 3584 2113 3584 \nQ 2378 3584 2631 3529 \nQ 2884 3475 3122 3366 \nz\n\" id=\"DejaVuSans-63\" transform=\"scale(0.015625)\"/>\n       <path d=\"M 1172 4494 \nL 1172 3500 \nL 2356 3500 \nL 2356 3053 \nL 1172 3053 \nL 1172 1153 \nQ 1172 725 1289 603 \nQ 1406 481 1766 481 \nL 2356 481 \nL 2356 0 \nL 1766 0 \nQ 1100 0 847 248 \nQ 594 497 594 1153 \nL 594 3053 \nL 172 3053 \nL 172 3500 \nL 594 3500 \nL 594 4494 \nL 1172 4494 \nz\n\" id=\"DejaVuSans-74\" transform=\"scale(0.015625)\"/>\n      </defs>\n      <use xlink:href=\"#DejaVuSans-50\"/>\n      <use x=\"58.552734\" xlink:href=\"#DejaVuSans-72\"/>\n      <use x=\"97.416016\" xlink:href=\"#DejaVuSans-65\"/>\n      <use x=\"158.939453\" xlink:href=\"#DejaVuSans-64\"/>\n      <use x=\"222.416016\" xlink:href=\"#DejaVuSans-69\"/>\n      <use x=\"250.199219\" xlink:href=\"#DejaVuSans-63\"/>\n      <use x=\"305.179688\" xlink:href=\"#DejaVuSans-74\"/>\n      <use x=\"344.388672\" xlink:href=\"#DejaVuSans-65\"/>\n      <use x=\"405.912109\" xlink:href=\"#DejaVuSans-64\"/>\n     </g>\n    </g>\n   </g>\n   <g id=\"matplotlib.axis_2\">\n    <g id=\"ytick_1\">\n     <g id=\"line2d_11\">\n      <defs>\n       <path d=\"M 0 0 \nL -3.5 0 \n\" id=\"ma85cff23d8\" style=\"stroke:#000000;stroke-width:0.8;\"/>\n      </defs>\n      <g>\n       <use style=\"stroke:#000000;stroke-width:0.8;\" x=\"37.55625\" xlink:href=\"#ma85cff23d8\" y=\"26.226\"/>\n      </g>\n     </g>\n     <g id=\"text_12\">\n      <!-- 0 -->\n      <g transform=\"translate(28.476562 28.789281)rotate(-90)scale(0.1 -0.1)\">\n       <use xlink:href=\"#DejaVuSans-30\"/>\n      </g>\n     </g>\n    </g>\n    <g id=\"ytick_2\">\n     <g id=\"line2d_12\">\n      <g>\n       <use style=\"stroke:#000000;stroke-width:0.8;\" x=\"37.55625\" xlink:href=\"#ma85cff23d8\" y=\"64.278\"/>\n      </g>\n     </g>\n     <g id=\"text_13\">\n      <!-- 1 -->\n      <g transform=\"translate(28.476562 66.841281)rotate(-90)scale(0.1 -0.1)\">\n       <use xlink:href=\"#DejaVuSans-31\"/>\n      </g>\n     </g>\n    </g>\n    <g id=\"ytick_3\">\n     <g id=\"line2d_13\">\n      <g>\n       <use style=\"stroke:#000000;stroke-width:0.8;\" x=\"37.55625\" xlink:href=\"#ma85cff23d8\" y=\"102.33\"/>\n      </g>\n     </g>\n     <g id=\"text_14\">\n      <!-- 2 -->\n      <g transform=\"translate(28.476562 104.893281)rotate(-90)scale(0.1 -0.1)\">\n       <use xlink:href=\"#DejaVuSans-32\"/>\n      </g>\n     </g>\n    </g>\n    <g id=\"ytick_4\">\n     <g id=\"line2d_14\">\n      <g>\n       <use style=\"stroke:#000000;stroke-width:0.8;\" x=\"37.55625\" xlink:href=\"#ma85cff23d8\" y=\"140.382\"/>\n      </g>\n     </g>\n     <g id=\"text_15\">\n      <!-- 3 -->\n      <g transform=\"translate(28.476562 142.945281)rotate(-90)scale(0.1 -0.1)\">\n       <use xlink:href=\"#DejaVuSans-33\"/>\n      </g>\n     </g>\n    </g>\n    <g id=\"ytick_5\">\n     <g id=\"line2d_15\">\n      <g>\n       <use style=\"stroke:#000000;stroke-width:0.8;\" x=\"37.55625\" xlink:href=\"#ma85cff23d8\" y=\"178.434\"/>\n      </g>\n     </g>\n     <g id=\"text_16\">\n      <!-- 4 -->\n      <g transform=\"translate(28.476562 180.997281)rotate(-90)scale(0.1 -0.1)\">\n       <use xlink:href=\"#DejaVuSans-34\"/>\n      </g>\n     </g>\n    </g>\n    <g id=\"ytick_6\">\n     <g id=\"line2d_16\">\n      <g>\n       <use style=\"stroke:#000000;stroke-width:0.8;\" x=\"37.55625\" xlink:href=\"#ma85cff23d8\" y=\"216.486\"/>\n      </g>\n     </g>\n     <g id=\"text_17\">\n      <!-- 5 -->\n      <g transform=\"translate(28.476562 219.049281)rotate(-90)scale(0.1 -0.1)\">\n       <use xlink:href=\"#DejaVuSans-35\"/>\n      </g>\n     </g>\n    </g>\n    <g id=\"ytick_7\">\n     <g id=\"line2d_17\">\n      <g>\n       <use style=\"stroke:#000000;stroke-width:0.8;\" x=\"37.55625\" xlink:href=\"#ma85cff23d8\" y=\"254.538\"/>\n      </g>\n     </g>\n     <g id=\"text_18\">\n      <!-- 6 -->\n      <g transform=\"translate(28.476562 257.101281)rotate(-90)scale(0.1 -0.1)\">\n       <use xlink:href=\"#DejaVuSans-36\"/>\n      </g>\n     </g>\n    </g>\n    <g id=\"ytick_8\">\n     <g id=\"line2d_18\">\n      <g>\n       <use style=\"stroke:#000000;stroke-width:0.8;\" x=\"37.55625\" xlink:href=\"#ma85cff23d8\" y=\"292.59\"/>\n      </g>\n     </g>\n     <g id=\"text_19\">\n      <!-- 7 -->\n      <g transform=\"translate(28.476562 295.153281)rotate(-90)scale(0.1 -0.1)\">\n       <use xlink:href=\"#DejaVuSans-37\"/>\n      </g>\n     </g>\n    </g>\n    <g id=\"ytick_9\">\n     <g id=\"line2d_19\">\n      <g>\n       <use style=\"stroke:#000000;stroke-width:0.8;\" x=\"37.55625\" xlink:href=\"#ma85cff23d8\" y=\"330.642\"/>\n      </g>\n     </g>\n     <g id=\"text_20\">\n      <!-- 8 -->\n      <g transform=\"translate(28.476562 333.205281)rotate(-90)scale(0.1 -0.1)\">\n       <use xlink:href=\"#DejaVuSans-38\"/>\n      </g>\n     </g>\n    </g>\n    <g id=\"ytick_10\">\n     <g id=\"line2d_20\">\n      <g>\n       <use style=\"stroke:#000000;stroke-width:0.8;\" x=\"37.55625\" xlink:href=\"#ma85cff23d8\" y=\"368.694\"/>\n      </g>\n     </g>\n     <g id=\"text_21\">\n      <!-- 9 -->\n      <g transform=\"translate(28.476562 371.257281)rotate(-90)scale(0.1 -0.1)\">\n       <use xlink:href=\"#DejaVuSans-39\"/>\n      </g>\n     </g>\n    </g>\n    <g id=\"text_22\">\n     <!-- Truth -->\n     <g transform=\"translate(14.798437 210.129531)rotate(-90)scale(0.1 -0.1)\">\n      <defs>\n       <path d=\"M -19 4666 \nL 3928 4666 \nL 3928 4134 \nL 2272 4134 \nL 2272 0 \nL 1638 0 \nL 1638 4134 \nL -19 4134 \nL -19 4666 \nz\n\" id=\"DejaVuSans-54\" transform=\"scale(0.015625)\"/>\n       <path d=\"M 544 1381 \nL 544 3500 \nL 1119 3500 \nL 1119 1403 \nQ 1119 906 1312 657 \nQ 1506 409 1894 409 \nQ 2359 409 2629 706 \nQ 2900 1003 2900 1516 \nL 2900 3500 \nL 3475 3500 \nL 3475 0 \nL 2900 0 \nL 2900 538 \nQ 2691 219 2414 64 \nQ 2138 -91 1772 -91 \nQ 1169 -91 856 284 \nQ 544 659 544 1381 \nz\nM 1991 3584 \nL 1991 3584 \nz\n\" id=\"DejaVuSans-75\" transform=\"scale(0.015625)\"/>\n       <path d=\"M 3513 2113 \nL 3513 0 \nL 2938 0 \nL 2938 2094 \nQ 2938 2591 2744 2837 \nQ 2550 3084 2163 3084 \nQ 1697 3084 1428 2787 \nQ 1159 2491 1159 1978 \nL 1159 0 \nL 581 0 \nL 581 4863 \nL 1159 4863 \nL 1159 2956 \nQ 1366 3272 1645 3428 \nQ 1925 3584 2291 3584 \nQ 2894 3584 3203 3211 \nQ 3513 2838 3513 2113 \nz\n\" id=\"DejaVuSans-68\" transform=\"scale(0.015625)\"/>\n      </defs>\n      <use xlink:href=\"#DejaVuSans-54\"/>\n      <use x=\"46.333984\" xlink:href=\"#DejaVuSans-72\"/>\n      <use x=\"87.447266\" xlink:href=\"#DejaVuSans-75\"/>\n      <use x=\"150.826172\" xlink:href=\"#DejaVuSans-74\"/>\n      <use x=\"190.035156\" xlink:href=\"#DejaVuSans-68\"/>\n     </g>\n    </g>\n   </g>\n   <g id=\"text_23\">\n    <!-- 971 -->\n    <g style=\"fill:#262626;\" transform=\"translate(50.3325 28.985375)scale(0.1 -0.1)\">\n     <use xlink:href=\"#DejaVuSans-39\"/>\n     <use x=\"63.623047\" xlink:href=\"#DejaVuSans-37\"/>\n     <use x=\"127.246094\" xlink:href=\"#DejaVuSans-31\"/>\n    </g>\n   </g>\n   <g id=\"text_24\">\n    <!-- 0 -->\n    <g style=\"fill:#ffffff;\" transform=\"translate(101.335 28.985375)scale(0.1 -0.1)\">\n     <use xlink:href=\"#DejaVuSans-30\"/>\n    </g>\n   </g>\n   <g id=\"text_25\">\n    <!-- 0 -->\n    <g style=\"fill:#ffffff;\" transform=\"translate(145.975 28.985375)scale(0.1 -0.1)\">\n     <use xlink:href=\"#DejaVuSans-30\"/>\n    </g>\n   </g>\n   <g id=\"text_26\">\n    <!-- 1 -->\n    <g style=\"fill:#ffffff;\" transform=\"translate(190.615 28.985375)scale(0.1 -0.1)\">\n     <use xlink:href=\"#DejaVuSans-31\"/>\n    </g>\n   </g>\n   <g id=\"text_27\">\n    <!-- 0 -->\n    <g style=\"fill:#ffffff;\" transform=\"translate(235.255 28.985375)scale(0.1 -0.1)\">\n     <use xlink:href=\"#DejaVuSans-30\"/>\n    </g>\n   </g>\n   <g id=\"text_28\">\n    <!-- 3 -->\n    <g style=\"fill:#ffffff;\" transform=\"translate(279.895 28.985375)scale(0.1 -0.1)\">\n     <use xlink:href=\"#DejaVuSans-33\"/>\n    </g>\n   </g>\n   <g id=\"text_29\">\n    <!-- 1 -->\n    <g style=\"fill:#ffffff;\" transform=\"translate(324.535 28.985375)scale(0.1 -0.1)\">\n     <use xlink:href=\"#DejaVuSans-31\"/>\n    </g>\n   </g>\n   <g id=\"text_30\">\n    <!-- 1 -->\n    <g style=\"fill:#ffffff;\" transform=\"translate(369.175 28.985375)scale(0.1 -0.1)\">\n     <use xlink:href=\"#DejaVuSans-31\"/>\n    </g>\n   </g>\n   <g id=\"text_31\">\n    <!-- 1 -->\n    <g style=\"fill:#ffffff;\" transform=\"translate(413.815 28.985375)scale(0.1 -0.1)\">\n     <use xlink:href=\"#DejaVuSans-31\"/>\n    </g>\n   </g>\n   <g id=\"text_32\">\n    <!-- 2 -->\n    <g style=\"fill:#ffffff;\" transform=\"translate(458.455 28.985375)scale(0.1 -0.1)\">\n     <use xlink:href=\"#DejaVuSans-32\"/>\n    </g>\n   </g>\n   <g id=\"text_33\">\n    <!-- 0 -->\n    <g style=\"fill:#ffffff;\" transform=\"translate(56.695 67.037375)scale(0.1 -0.1)\">\n     <use xlink:href=\"#DejaVuSans-30\"/>\n    </g>\n   </g>\n   <g id=\"text_34\">\n    <!-- 1123 -->\n    <g style=\"fill:#262626;\" transform=\"translate(91.79125 67.037375)scale(0.1 -0.1)\">\n     <use xlink:href=\"#DejaVuSans-31\"/>\n     <use x=\"63.623047\" xlink:href=\"#DejaVuSans-31\"/>\n     <use x=\"127.246094\" xlink:href=\"#DejaVuSans-32\"/>\n     <use x=\"190.869141\" xlink:href=\"#DejaVuSans-33\"/>\n    </g>\n   </g>\n   <g id=\"text_35\">\n    <!-- 3 -->\n    <g style=\"fill:#ffffff;\" transform=\"translate(145.975 67.037375)scale(0.1 -0.1)\">\n     <use xlink:href=\"#DejaVuSans-33\"/>\n    </g>\n   </g>\n   <g id=\"text_36\">\n    <!-- 1 -->\n    <g style=\"fill:#ffffff;\" transform=\"translate(190.615 67.037375)scale(0.1 -0.1)\">\n     <use xlink:href=\"#DejaVuSans-31\"/>\n    </g>\n   </g>\n   <g id=\"text_37\">\n    <!-- 0 -->\n    <g style=\"fill:#ffffff;\" transform=\"translate(235.255 67.037375)scale(0.1 -0.1)\">\n     <use xlink:href=\"#DejaVuSans-30\"/>\n    </g>\n   </g>\n   <g id=\"text_38\">\n    <!-- 1 -->\n    <g style=\"fill:#ffffff;\" transform=\"translate(279.895 67.037375)scale(0.1 -0.1)\">\n     <use xlink:href=\"#DejaVuSans-31\"/>\n    </g>\n   </g>\n   <g id=\"text_39\">\n    <!-- 2 -->\n    <g style=\"fill:#ffffff;\" transform=\"translate(324.535 67.037375)scale(0.1 -0.1)\">\n     <use xlink:href=\"#DejaVuSans-32\"/>\n    </g>\n   </g>\n   <g id=\"text_40\">\n    <!-- 0 -->\n    <g style=\"fill:#ffffff;\" transform=\"translate(369.175 67.037375)scale(0.1 -0.1)\">\n     <use xlink:href=\"#DejaVuSans-30\"/>\n    </g>\n   </g>\n   <g id=\"text_41\">\n    <!-- 5 -->\n    <g style=\"fill:#ffffff;\" transform=\"translate(413.815 67.037375)scale(0.1 -0.1)\">\n     <use xlink:href=\"#DejaVuSans-35\"/>\n    </g>\n   </g>\n   <g id=\"text_42\">\n    <!-- 0 -->\n    <g style=\"fill:#ffffff;\" transform=\"translate(458.455 67.037375)scale(0.1 -0.1)\">\n     <use xlink:href=\"#DejaVuSans-30\"/>\n    </g>\n   </g>\n   <g id=\"text_43\">\n    <!-- 6 -->\n    <g style=\"fill:#ffffff;\" transform=\"translate(56.695 105.089375)scale(0.1 -0.1)\">\n     <use xlink:href=\"#DejaVuSans-36\"/>\n    </g>\n   </g>\n   <g id=\"text_44\">\n    <!-- 1 -->\n    <g style=\"fill:#ffffff;\" transform=\"translate(101.335 105.089375)scale(0.1 -0.1)\">\n     <use xlink:href=\"#DejaVuSans-31\"/>\n    </g>\n   </g>\n   <g id=\"text_45\">\n    <!-- 1006 -->\n    <g style=\"fill:#262626;\" transform=\"translate(136.43125 105.089375)scale(0.1 -0.1)\">\n     <use xlink:href=\"#DejaVuSans-31\"/>\n     <use x=\"63.623047\" xlink:href=\"#DejaVuSans-30\"/>\n     <use x=\"127.246094\" xlink:href=\"#DejaVuSans-30\"/>\n     <use x=\"190.869141\" xlink:href=\"#DejaVuSans-36\"/>\n    </g>\n   </g>\n   <g id=\"text_46\">\n    <!-- 4 -->\n    <g style=\"fill:#ffffff;\" transform=\"translate(190.615 105.089375)scale(0.1 -0.1)\">\n     <use xlink:href=\"#DejaVuSans-34\"/>\n    </g>\n   </g>\n   <g id=\"text_47\">\n    <!-- 3 -->\n    <g style=\"fill:#ffffff;\" transform=\"translate(235.255 105.089375)scale(0.1 -0.1)\">\n     <use xlink:href=\"#DejaVuSans-33\"/>\n    </g>\n   </g>\n   <g id=\"text_48\">\n    <!-- 0 -->\n    <g style=\"fill:#ffffff;\" transform=\"translate(279.895 105.089375)scale(0.1 -0.1)\">\n     <use xlink:href=\"#DejaVuSans-30\"/>\n    </g>\n   </g>\n   <g id=\"text_49\">\n    <!-- 1 -->\n    <g style=\"fill:#ffffff;\" transform=\"translate(324.535 105.089375)scale(0.1 -0.1)\">\n     <use xlink:href=\"#DejaVuSans-31\"/>\n    </g>\n   </g>\n   <g id=\"text_50\">\n    <!-- 1 -->\n    <g style=\"fill:#ffffff;\" transform=\"translate(369.175 105.089375)scale(0.1 -0.1)\">\n     <use xlink:href=\"#DejaVuSans-31\"/>\n    </g>\n   </g>\n   <g id=\"text_51\">\n    <!-- 9 -->\n    <g style=\"fill:#ffffff;\" transform=\"translate(413.815 105.089375)scale(0.1 -0.1)\">\n     <use xlink:href=\"#DejaVuSans-39\"/>\n    </g>\n   </g>\n   <g id=\"text_52\">\n    <!-- 1 -->\n    <g style=\"fill:#ffffff;\" transform=\"translate(458.455 105.089375)scale(0.1 -0.1)\">\n     <use xlink:href=\"#DejaVuSans-31\"/>\n    </g>\n   </g>\n   <g id=\"text_53\">\n    <!-- 0 -->\n    <g style=\"fill:#ffffff;\" transform=\"translate(56.695 143.141375)scale(0.1 -0.1)\">\n     <use xlink:href=\"#DejaVuSans-30\"/>\n    </g>\n   </g>\n   <g id=\"text_54\">\n    <!-- 0 -->\n    <g style=\"fill:#ffffff;\" transform=\"translate(101.335 143.141375)scale(0.1 -0.1)\">\n     <use xlink:href=\"#DejaVuSans-30\"/>\n    </g>\n   </g>\n   <g id=\"text_55\">\n    <!-- 1 -->\n    <g style=\"fill:#ffffff;\" transform=\"translate(145.975 143.141375)scale(0.1 -0.1)\">\n     <use xlink:href=\"#DejaVuSans-31\"/>\n    </g>\n   </g>\n   <g id=\"text_56\">\n    <!-- 987 -->\n    <g style=\"fill:#262626;\" transform=\"translate(184.2525 143.141375)scale(0.1 -0.1)\">\n     <use xlink:href=\"#DejaVuSans-39\"/>\n     <use x=\"63.623047\" xlink:href=\"#DejaVuSans-38\"/>\n     <use x=\"127.246094\" xlink:href=\"#DejaVuSans-37\"/>\n    </g>\n   </g>\n   <g id=\"text_57\">\n    <!-- 0 -->\n    <g style=\"fill:#ffffff;\" transform=\"translate(235.255 143.141375)scale(0.1 -0.1)\">\n     <use xlink:href=\"#DejaVuSans-30\"/>\n    </g>\n   </g>\n   <g id=\"text_58\">\n    <!-- 9 -->\n    <g style=\"fill:#ffffff;\" transform=\"translate(279.895 143.141375)scale(0.1 -0.1)\">\n     <use xlink:href=\"#DejaVuSans-39\"/>\n    </g>\n   </g>\n   <g id=\"text_59\">\n    <!-- 0 -->\n    <g style=\"fill:#ffffff;\" transform=\"translate(324.535 143.141375)scale(0.1 -0.1)\">\n     <use xlink:href=\"#DejaVuSans-30\"/>\n    </g>\n   </g>\n   <g id=\"text_60\">\n    <!-- 2 -->\n    <g style=\"fill:#ffffff;\" transform=\"translate(369.175 143.141375)scale(0.1 -0.1)\">\n     <use xlink:href=\"#DejaVuSans-32\"/>\n    </g>\n   </g>\n   <g id=\"text_61\">\n    <!-- 9 -->\n    <g style=\"fill:#ffffff;\" transform=\"translate(413.815 143.141375)scale(0.1 -0.1)\">\n     <use xlink:href=\"#DejaVuSans-39\"/>\n    </g>\n   </g>\n   <g id=\"text_62\">\n    <!-- 2 -->\n    <g style=\"fill:#ffffff;\" transform=\"translate(458.455 143.141375)scale(0.1 -0.1)\">\n     <use xlink:href=\"#DejaVuSans-32\"/>\n    </g>\n   </g>\n   <g id=\"text_63\">\n    <!-- 2 -->\n    <g style=\"fill:#ffffff;\" transform=\"translate(56.695 181.193375)scale(0.1 -0.1)\">\n     <use xlink:href=\"#DejaVuSans-32\"/>\n    </g>\n   </g>\n   <g id=\"text_64\">\n    <!-- 0 -->\n    <g style=\"fill:#ffffff;\" transform=\"translate(101.335 181.193375)scale(0.1 -0.1)\">\n     <use xlink:href=\"#DejaVuSans-30\"/>\n    </g>\n   </g>\n   <g id=\"text_65\">\n    <!-- 1 -->\n    <g style=\"fill:#ffffff;\" transform=\"translate(145.975 181.193375)scale(0.1 -0.1)\">\n     <use xlink:href=\"#DejaVuSans-31\"/>\n    </g>\n   </g>\n   <g id=\"text_66\">\n    <!-- 1 -->\n    <g style=\"fill:#ffffff;\" transform=\"translate(190.615 181.193375)scale(0.1 -0.1)\">\n     <use xlink:href=\"#DejaVuSans-31\"/>\n    </g>\n   </g>\n   <g id=\"text_67\">\n    <!-- 950 -->\n    <g style=\"fill:#262626;\" transform=\"translate(228.8925 181.193375)scale(0.1 -0.1)\">\n     <use xlink:href=\"#DejaVuSans-39\"/>\n     <use x=\"63.623047\" xlink:href=\"#DejaVuSans-35\"/>\n     <use x=\"127.246094\" xlink:href=\"#DejaVuSans-30\"/>\n    </g>\n   </g>\n   <g id=\"text_68\">\n    <!-- 1 -->\n    <g style=\"fill:#ffffff;\" transform=\"translate(279.895 181.193375)scale(0.1 -0.1)\">\n     <use xlink:href=\"#DejaVuSans-31\"/>\n    </g>\n   </g>\n   <g id=\"text_69\">\n    <!-- 2 -->\n    <g style=\"fill:#ffffff;\" transform=\"translate(324.535 181.193375)scale(0.1 -0.1)\">\n     <use xlink:href=\"#DejaVuSans-32\"/>\n    </g>\n   </g>\n   <g id=\"text_70\">\n    <!-- 1 -->\n    <g style=\"fill:#ffffff;\" transform=\"translate(369.175 181.193375)scale(0.1 -0.1)\">\n     <use xlink:href=\"#DejaVuSans-31\"/>\n    </g>\n   </g>\n   <g id=\"text_71\">\n    <!-- 3 -->\n    <g style=\"fill:#ffffff;\" transform=\"translate(413.815 181.193375)scale(0.1 -0.1)\">\n     <use xlink:href=\"#DejaVuSans-33\"/>\n    </g>\n   </g>\n   <g id=\"text_72\">\n    <!-- 21 -->\n    <g style=\"fill:#ffffff;\" transform=\"translate(455.27375 181.193375)scale(0.1 -0.1)\">\n     <use xlink:href=\"#DejaVuSans-32\"/>\n     <use x=\"63.623047\" xlink:href=\"#DejaVuSans-31\"/>\n    </g>\n   </g>\n   <g id=\"text_73\">\n    <!-- 3 -->\n    <g style=\"fill:#ffffff;\" transform=\"translate(56.695 219.245375)scale(0.1 -0.1)\">\n     <use xlink:href=\"#DejaVuSans-33\"/>\n    </g>\n   </g>\n   <g id=\"text_74\">\n    <!-- 0 -->\n    <g style=\"fill:#ffffff;\" transform=\"translate(101.335 219.245375)scale(0.1 -0.1)\">\n     <use xlink:href=\"#DejaVuSans-30\"/>\n    </g>\n   </g>\n   <g id=\"text_75\">\n    <!-- 0 -->\n    <g style=\"fill:#ffffff;\" transform=\"translate(145.975 219.245375)scale(0.1 -0.1)\">\n     <use xlink:href=\"#DejaVuSans-30\"/>\n    </g>\n   </g>\n   <g id=\"text_76\">\n    <!-- 5 -->\n    <g style=\"fill:#ffffff;\" transform=\"translate(190.615 219.245375)scale(0.1 -0.1)\">\n     <use xlink:href=\"#DejaVuSans-35\"/>\n    </g>\n   </g>\n   <g id=\"text_77\">\n    <!-- 1 -->\n    <g style=\"fill:#ffffff;\" transform=\"translate(235.255 219.245375)scale(0.1 -0.1)\">\n     <use xlink:href=\"#DejaVuSans-31\"/>\n    </g>\n   </g>\n   <g id=\"text_78\">\n    <!-- 879 -->\n    <g style=\"fill:#262626;\" transform=\"translate(273.5325 219.245375)scale(0.1 -0.1)\">\n     <use xlink:href=\"#DejaVuSans-38\"/>\n     <use x=\"63.623047\" xlink:href=\"#DejaVuSans-37\"/>\n     <use x=\"127.246094\" xlink:href=\"#DejaVuSans-39\"/>\n    </g>\n   </g>\n   <g id=\"text_79\">\n    <!-- 3 -->\n    <g style=\"fill:#ffffff;\" transform=\"translate(324.535 219.245375)scale(0.1 -0.1)\">\n     <use xlink:href=\"#DejaVuSans-33\"/>\n    </g>\n   </g>\n   <g id=\"text_80\">\n    <!-- 0 -->\n    <g style=\"fill:#ffffff;\" transform=\"translate(369.175 219.245375)scale(0.1 -0.1)\">\n     <use xlink:href=\"#DejaVuSans-30\"/>\n    </g>\n   </g>\n   <g id=\"text_81\">\n    <!-- 1 -->\n    <g style=\"fill:#ffffff;\" transform=\"translate(413.815 219.245375)scale(0.1 -0.1)\">\n     <use xlink:href=\"#DejaVuSans-31\"/>\n    </g>\n   </g>\n   <g id=\"text_82\">\n    <!-- 0 -->\n    <g style=\"fill:#ffffff;\" transform=\"translate(458.455 219.245375)scale(0.1 -0.1)\">\n     <use xlink:href=\"#DejaVuSans-30\"/>\n    </g>\n   </g>\n   <g id=\"text_83\">\n    <!-- 6 -->\n    <g style=\"fill:#ffffff;\" transform=\"translate(56.695 257.297375)scale(0.1 -0.1)\">\n     <use xlink:href=\"#DejaVuSans-36\"/>\n    </g>\n   </g>\n   <g id=\"text_84\">\n    <!-- 3 -->\n    <g style=\"fill:#ffffff;\" transform=\"translate(101.335 257.297375)scale(0.1 -0.1)\">\n     <use xlink:href=\"#DejaVuSans-33\"/>\n    </g>\n   </g>\n   <g id=\"text_85\">\n    <!-- 3 -->\n    <g style=\"fill:#ffffff;\" transform=\"translate(145.975 257.297375)scale(0.1 -0.1)\">\n     <use xlink:href=\"#DejaVuSans-33\"/>\n    </g>\n   </g>\n   <g id=\"text_86\">\n    <!-- 1 -->\n    <g style=\"fill:#ffffff;\" transform=\"translate(190.615 257.297375)scale(0.1 -0.1)\">\n     <use xlink:href=\"#DejaVuSans-31\"/>\n    </g>\n   </g>\n   <g id=\"text_87\">\n    <!-- 4 -->\n    <g style=\"fill:#ffffff;\" transform=\"translate(235.255 257.297375)scale(0.1 -0.1)\">\n     <use xlink:href=\"#DejaVuSans-34\"/>\n    </g>\n   </g>\n   <g id=\"text_88\">\n    <!-- 13 -->\n    <g style=\"fill:#ffffff;\" transform=\"translate(276.71375 257.297375)scale(0.1 -0.1)\">\n     <use xlink:href=\"#DejaVuSans-31\"/>\n     <use x=\"63.623047\" xlink:href=\"#DejaVuSans-33\"/>\n    </g>\n   </g>\n   <g id=\"text_89\">\n    <!-- 924 -->\n    <g style=\"fill:#262626;\" transform=\"translate(318.1725 257.297375)scale(0.1 -0.1)\">\n     <use xlink:href=\"#DejaVuSans-39\"/>\n     <use x=\"63.623047\" xlink:href=\"#DejaVuSans-32\"/>\n     <use x=\"127.246094\" xlink:href=\"#DejaVuSans-34\"/>\n    </g>\n   </g>\n   <g id=\"text_90\">\n    <!-- 0 -->\n    <g style=\"fill:#ffffff;\" transform=\"translate(369.175 257.297375)scale(0.1 -0.1)\">\n     <use xlink:href=\"#DejaVuSans-30\"/>\n    </g>\n   </g>\n   <g id=\"text_91\">\n    <!-- 4 -->\n    <g style=\"fill:#ffffff;\" transform=\"translate(413.815 257.297375)scale(0.1 -0.1)\">\n     <use xlink:href=\"#DejaVuSans-34\"/>\n    </g>\n   </g>\n   <g id=\"text_92\">\n    <!-- 0 -->\n    <g style=\"fill:#ffffff;\" transform=\"translate(458.455 257.297375)scale(0.1 -0.1)\">\n     <use xlink:href=\"#DejaVuSans-30\"/>\n    </g>\n   </g>\n   <g id=\"text_93\">\n    <!-- 2 -->\n    <g style=\"fill:#ffffff;\" transform=\"translate(56.695 295.349375)scale(0.1 -0.1)\">\n     <use xlink:href=\"#DejaVuSans-32\"/>\n    </g>\n   </g>\n   <g id=\"text_94\">\n    <!-- 7 -->\n    <g style=\"fill:#ffffff;\" transform=\"translate(101.335 295.349375)scale(0.1 -0.1)\">\n     <use xlink:href=\"#DejaVuSans-37\"/>\n    </g>\n   </g>\n   <g id=\"text_95\">\n    <!-- 14 -->\n    <g style=\"fill:#ffffff;\" transform=\"translate(142.79375 295.349375)scale(0.1 -0.1)\">\n     <use xlink:href=\"#DejaVuSans-31\"/>\n     <use x=\"63.623047\" xlink:href=\"#DejaVuSans-34\"/>\n    </g>\n   </g>\n   <g id=\"text_96\">\n    <!-- 5 -->\n    <g style=\"fill:#ffffff;\" transform=\"translate(190.615 295.349375)scale(0.1 -0.1)\">\n     <use xlink:href=\"#DejaVuSans-35\"/>\n    </g>\n   </g>\n   <g id=\"text_97\">\n    <!-- 1 -->\n    <g style=\"fill:#ffffff;\" transform=\"translate(235.255 295.349375)scale(0.1 -0.1)\">\n     <use xlink:href=\"#DejaVuSans-31\"/>\n    </g>\n   </g>\n   <g id=\"text_98\">\n    <!-- 0 -->\n    <g style=\"fill:#ffffff;\" transform=\"translate(279.895 295.349375)scale(0.1 -0.1)\">\n     <use xlink:href=\"#DejaVuSans-30\"/>\n    </g>\n   </g>\n   <g id=\"text_99\">\n    <!-- 0 -->\n    <g style=\"fill:#ffffff;\" transform=\"translate(324.535 295.349375)scale(0.1 -0.1)\">\n     <use xlink:href=\"#DejaVuSans-30\"/>\n    </g>\n   </g>\n   <g id=\"text_100\">\n    <!-- 984 -->\n    <g style=\"fill:#262626;\" transform=\"translate(362.8125 295.349375)scale(0.1 -0.1)\">\n     <use xlink:href=\"#DejaVuSans-39\"/>\n     <use x=\"63.623047\" xlink:href=\"#DejaVuSans-38\"/>\n     <use x=\"127.246094\" xlink:href=\"#DejaVuSans-34\"/>\n    </g>\n   </g>\n   <g id=\"text_101\">\n    <!-- 7 -->\n    <g style=\"fill:#ffffff;\" transform=\"translate(413.815 295.349375)scale(0.1 -0.1)\">\n     <use xlink:href=\"#DejaVuSans-37\"/>\n    </g>\n   </g>\n   <g id=\"text_102\">\n    <!-- 8 -->\n    <g style=\"fill:#ffffff;\" transform=\"translate(458.455 295.349375)scale(0.1 -0.1)\">\n     <use xlink:href=\"#DejaVuSans-38\"/>\n    </g>\n   </g>\n   <g id=\"text_103\">\n    <!-- 7 -->\n    <g style=\"fill:#ffffff;\" transform=\"translate(56.695 333.401375)scale(0.1 -0.1)\">\n     <use xlink:href=\"#DejaVuSans-37\"/>\n    </g>\n   </g>\n   <g id=\"text_104\">\n    <!-- 0 -->\n    <g style=\"fill:#ffffff;\" transform=\"translate(101.335 333.401375)scale(0.1 -0.1)\">\n     <use xlink:href=\"#DejaVuSans-30\"/>\n    </g>\n   </g>\n   <g id=\"text_105\">\n    <!-- 4 -->\n    <g style=\"fill:#ffffff;\" transform=\"translate(145.975 333.401375)scale(0.1 -0.1)\">\n     <use xlink:href=\"#DejaVuSans-34\"/>\n    </g>\n   </g>\n   <g id=\"text_106\">\n    <!-- 7 -->\n    <g style=\"fill:#ffffff;\" transform=\"translate(190.615 333.401375)scale(0.1 -0.1)\">\n     <use xlink:href=\"#DejaVuSans-37\"/>\n    </g>\n   </g>\n   <g id=\"text_107\">\n    <!-- 2 -->\n    <g style=\"fill:#ffffff;\" transform=\"translate(235.255 333.401375)scale(0.1 -0.1)\">\n     <use xlink:href=\"#DejaVuSans-32\"/>\n    </g>\n   </g>\n   <g id=\"text_108\">\n    <!-- 11 -->\n    <g style=\"fill:#ffffff;\" transform=\"translate(276.71375 333.401375)scale(0.1 -0.1)\">\n     <use xlink:href=\"#DejaVuSans-31\"/>\n     <use x=\"63.623047\" xlink:href=\"#DejaVuSans-31\"/>\n    </g>\n   </g>\n   <g id=\"text_109\">\n    <!-- 1 -->\n    <g style=\"fill:#ffffff;\" transform=\"translate(324.535 333.401375)scale(0.1 -0.1)\">\n     <use xlink:href=\"#DejaVuSans-31\"/>\n    </g>\n   </g>\n   <g id=\"text_110\">\n    <!-- 2 -->\n    <g style=\"fill:#ffffff;\" transform=\"translate(369.175 333.401375)scale(0.1 -0.1)\">\n     <use xlink:href=\"#DejaVuSans-32\"/>\n    </g>\n   </g>\n   <g id=\"text_111\">\n    <!-- 938 -->\n    <g style=\"fill:#262626;\" transform=\"translate(407.4525 333.401375)scale(0.1 -0.1)\">\n     <use xlink:href=\"#DejaVuSans-39\"/>\n     <use x=\"63.623047\" xlink:href=\"#DejaVuSans-33\"/>\n     <use x=\"127.246094\" xlink:href=\"#DejaVuSans-38\"/>\n    </g>\n   </g>\n   <g id=\"text_112\">\n    <!-- 2 -->\n    <g style=\"fill:#ffffff;\" transform=\"translate(458.455 333.401375)scale(0.1 -0.1)\">\n     <use xlink:href=\"#DejaVuSans-32\"/>\n    </g>\n   </g>\n   <g id=\"text_113\">\n    <!-- 4 -->\n    <g style=\"fill:#ffffff;\" transform=\"translate(56.695 371.453375)scale(0.1 -0.1)\">\n     <use xlink:href=\"#DejaVuSans-34\"/>\n    </g>\n   </g>\n   <g id=\"text_114\">\n    <!-- 4 -->\n    <g style=\"fill:#ffffff;\" transform=\"translate(101.335 371.453375)scale(0.1 -0.1)\">\n     <use xlink:href=\"#DejaVuSans-34\"/>\n    </g>\n   </g>\n   <g id=\"text_115\">\n    <!-- 1 -->\n    <g style=\"fill:#ffffff;\" transform=\"translate(145.975 371.453375)scale(0.1 -0.1)\">\n     <use xlink:href=\"#DejaVuSans-31\"/>\n    </g>\n   </g>\n   <g id=\"text_116\">\n    <!-- 10 -->\n    <g style=\"fill:#ffffff;\" transform=\"translate(187.43375 371.453375)scale(0.1 -0.1)\">\n     <use xlink:href=\"#DejaVuSans-31\"/>\n     <use x=\"63.623047\" xlink:href=\"#DejaVuSans-30\"/>\n    </g>\n   </g>\n   <g id=\"text_117\">\n    <!-- 4 -->\n    <g style=\"fill:#ffffff;\" transform=\"translate(235.255 371.453375)scale(0.1 -0.1)\">\n     <use xlink:href=\"#DejaVuSans-34\"/>\n    </g>\n   </g>\n   <g id=\"text_118\">\n    <!-- 9 -->\n    <g style=\"fill:#ffffff;\" transform=\"translate(279.895 371.453375)scale(0.1 -0.1)\">\n     <use xlink:href=\"#DejaVuSans-39\"/>\n    </g>\n   </g>\n   <g id=\"text_119\">\n    <!-- 0 -->\n    <g style=\"fill:#ffffff;\" transform=\"translate(324.535 371.453375)scale(0.1 -0.1)\">\n     <use xlink:href=\"#DejaVuSans-30\"/>\n    </g>\n   </g>\n   <g id=\"text_120\">\n    <!-- 6 -->\n    <g style=\"fill:#ffffff;\" transform=\"translate(369.175 371.453375)scale(0.1 -0.1)\">\n     <use xlink:href=\"#DejaVuSans-36\"/>\n    </g>\n   </g>\n   <g id=\"text_121\">\n    <!-- 7 -->\n    <g style=\"fill:#ffffff;\" transform=\"translate(413.815 371.453375)scale(0.1 -0.1)\">\n     <use xlink:href=\"#DejaVuSans-37\"/>\n    </g>\n   </g>\n   <g id=\"text_122\">\n    <!-- 964 -->\n    <g style=\"fill:#262626;\" transform=\"translate(452.0925 371.453375)scale(0.1 -0.1)\">\n     <use xlink:href=\"#DejaVuSans-39\"/>\n     <use x=\"63.623047\" xlink:href=\"#DejaVuSans-36\"/>\n     <use x=\"127.246094\" xlink:href=\"#DejaVuSans-34\"/>\n    </g>\n   </g>\n  </g>\n  <g id=\"axes_2\">\n   <g id=\"patch_3\">\n    <path d=\"M 511.85625 387.72 \nL 530.88225 387.72 \nL 530.88225 7.2 \nL 511.85625 7.2 \nz\n\" style=\"fill:#ffffff;\"/>\n   </g>\n   <g id=\"patch_4\">\n    <path clip-path=\"url(#p4ad141177e)\" d=\"M 511.85625 387.72 \nL 511.85625 386.233594 \nL 511.85625 8.686406 \nL 511.85625 7.2 \nL 530.88225 7.2 \nL 530.88225 8.686406 \nL 530.88225 386.233594 \nL 530.88225 387.72 \nL 530.88225 387.72 \nz\n\" style=\"fill:#ffffff;stroke:#ffffff;stroke-linejoin:miter;stroke-width:0.01;\"/>\n   </g>\n   <image height=\"380\" id=\"image0547f3f6eb\" transform=\"scale(1 -1)translate(0 -380)\" width=\"19\" x=\"512\" xlink:href=\"data:image/png;base64,\niVBORw0KGgoAAAANSUhEUgAAABMAAAF8CAYAAAAthYD3AAAB90lEQVR4nO2ciW3EMAwERZ/SRPrv81IDjQEywC4LWGi0/HyP5/Pz+z1Q3KGUzjkPqHXuDHc2VAzGPFLM+2TcmRgTdRO8MzNm3dyGGJMsdBaTzDPxdCLzLAeTO1zn5j6K+UKsmOswY2rnZregF2JazK4H/yzm/fiGXZBbAdswY4rdBMXq5jrEbobsGuTRuiDvA25BYsxuQWsxTEpem1wUcx8xtZnhZkjSknmWsx6AYr2zdZj7GfYTo7r5JmIeXkkx73Qiyyknabmom/tIcXNIN72YrJva9aADZS9mbkEcpzhpU3baL+kmJiVvQdydqVtQRGrAha5NDVLMjEkmLdg26H4WUZsDPgjcBxQzTycvZoiboJ3ondHfo4NuknfWpN3HHXB1NLvJYlrdZGsTPJu4NsnUMA8UL2Zb0AsxTMtdm5iWuwJAsaOdTrCbnJgYkzxbMfeRgwn+YqmY62AxD4lJ3hmNiYpZMeGktWKySav9xx+KaXaT0xNjptQmuAaZMdm5aX35ENuCtO9YgjttRgVkFDpZm2LMEDfZ2hRvjqibGW1bPJ1AN8XP6GwLinAzpQVl1KY4aclXYogxm7R7sWJuw4zprc2Q9cCKmVIBMx9MTIzZCliHGlObtHVzLZbSgjIGihmTyzM1JlqbEZhmN5u0W7Em7Tq8SfsHsT0ut03D2bAAAAAASUVORK5CYII=\" y=\"-7\"/>\n   <g id=\"matplotlib.axis_3\"/>\n   <g id=\"matplotlib.axis_4\">\n    <g id=\"ytick_11\">\n     <g id=\"line2d_21\">\n      <defs>\n       <path d=\"M 0 0 \nL 3.5 0 \n\" id=\"mcc732b2a4f\" style=\"stroke:#000000;stroke-width:0.8;\"/>\n      </defs>\n      <g>\n       <use style=\"stroke:#000000;stroke-width:0.8;\" x=\"530.88225\" xlink:href=\"#mcc732b2a4f\" y=\"387.72\"/>\n      </g>\n     </g>\n     <g id=\"text_123\">\n      <!-- 0 -->\n      <g transform=\"translate(537.88225 391.519219)scale(0.1 -0.1)\">\n       <use xlink:href=\"#DejaVuSans-30\"/>\n      </g>\n     </g>\n    </g>\n    <g id=\"ytick_12\">\n     <g id=\"line2d_22\">\n      <g>\n       <use style=\"stroke:#000000;stroke-width:0.8;\" x=\"530.88225\" xlink:href=\"#mcc732b2a4f\" y=\"319.951523\"/>\n      </g>\n     </g>\n     <g id=\"text_124\">\n      <!-- 200 -->\n      <g transform=\"translate(537.88225 323.750741)scale(0.1 -0.1)\">\n       <use xlink:href=\"#DejaVuSans-32\"/>\n       <use x=\"63.623047\" xlink:href=\"#DejaVuSans-30\"/>\n       <use x=\"127.246094\" xlink:href=\"#DejaVuSans-30\"/>\n      </g>\n     </g>\n    </g>\n    <g id=\"ytick_13\">\n     <g id=\"line2d_23\">\n      <g>\n       <use style=\"stroke:#000000;stroke-width:0.8;\" x=\"530.88225\" xlink:href=\"#mcc732b2a4f\" y=\"252.183045\"/>\n      </g>\n     </g>\n     <g id=\"text_125\">\n      <!-- 400 -->\n      <g transform=\"translate(537.88225 255.982264)scale(0.1 -0.1)\">\n       <use xlink:href=\"#DejaVuSans-34\"/>\n       <use x=\"63.623047\" xlink:href=\"#DejaVuSans-30\"/>\n       <use x=\"127.246094\" xlink:href=\"#DejaVuSans-30\"/>\n      </g>\n     </g>\n    </g>\n    <g id=\"ytick_14\">\n     <g id=\"line2d_24\">\n      <g>\n       <use style=\"stroke:#000000;stroke-width:0.8;\" x=\"530.88225\" xlink:href=\"#mcc732b2a4f\" y=\"184.414568\"/>\n      </g>\n     </g>\n     <g id=\"text_126\">\n      <!-- 600 -->\n      <g transform=\"translate(537.88225 188.213787)scale(0.1 -0.1)\">\n       <use xlink:href=\"#DejaVuSans-36\"/>\n       <use x=\"63.623047\" xlink:href=\"#DejaVuSans-30\"/>\n       <use x=\"127.246094\" xlink:href=\"#DejaVuSans-30\"/>\n      </g>\n     </g>\n    </g>\n    <g id=\"ytick_15\">\n     <g id=\"line2d_25\">\n      <g>\n       <use style=\"stroke:#000000;stroke-width:0.8;\" x=\"530.88225\" xlink:href=\"#mcc732b2a4f\" y=\"116.646091\"/>\n      </g>\n     </g>\n     <g id=\"text_127\">\n      <!-- 800 -->\n      <g transform=\"translate(537.88225 120.44531)scale(0.1 -0.1)\">\n       <use xlink:href=\"#DejaVuSans-38\"/>\n       <use x=\"63.623047\" xlink:href=\"#DejaVuSans-30\"/>\n       <use x=\"127.246094\" xlink:href=\"#DejaVuSans-30\"/>\n      </g>\n     </g>\n    </g>\n    <g id=\"ytick_16\">\n     <g id=\"line2d_26\">\n      <g>\n       <use style=\"stroke:#000000;stroke-width:0.8;\" x=\"530.88225\" xlink:href=\"#mcc732b2a4f\" y=\"48.877614\"/>\n      </g>\n     </g>\n     <g id=\"text_128\">\n      <!-- 1000 -->\n      <g transform=\"translate(537.88225 52.676832)scale(0.1 -0.1)\">\n       <use xlink:href=\"#DejaVuSans-31\"/>\n       <use x=\"63.623047\" xlink:href=\"#DejaVuSans-30\"/>\n       <use x=\"127.246094\" xlink:href=\"#DejaVuSans-30\"/>\n       <use x=\"190.869141\" xlink:href=\"#DejaVuSans-30\"/>\n      </g>\n     </g>\n    </g>\n   </g>\n   <g id=\"LineCollection_1\"/>\n   <g id=\"patch_5\">\n    <path d=\"M 511.85625 387.72 \nL 511.85625 386.233594 \nL 511.85625 8.686406 \nL 511.85625 7.2 \nL 530.88225 7.2 \nL 530.88225 8.686406 \nL 530.88225 386.233594 \nL 530.88225 387.72 \nz\n\" style=\"fill:none;\"/>\n   </g>\n  </g>\n </g>\n <defs>\n  <clipPath id=\"pe35bc1b11f\">\n   <rect height=\"380.52\" width=\"446.4\" x=\"37.55625\" y=\"7.2\"/>\n  </clipPath>\n  <clipPath id=\"p4ad141177e\">\n   <rect height=\"380.52\" width=\"19.026\" x=\"511.85625\" y=\"7.2\"/>\n  </clipPath>\n </defs>\n</svg>\n",
      "image/png": "[encoded data removed]"
     },
     "metadata": {
      "needs_background": "light"
     }
    }
   ],
   "source": [
    "y_predicted = model.predict(X_test_flattened)\n",
    "y_predicted_labels = [np.argmax(i) for i in y_predicted]\n",
    "cm = tf.math.confusion_matrix(labels=y_test, predictions=y_predicted_labels)\n",
    "\n",
    "plt.figure(figsize=(10,7))\n",
    "sn.heatmap(cm, annot=True, fmt='d')\n",
    "plt.xlabel('Predicted')\n",
    "plt.ylabel('Truth')\n",
    "\n",
    "#used same code that of without hidden layers, and see that with hiiden layers it is giving efficient results. "
   ]
  },
  {
   "cell_type": "code",
   "execution_count": 57,
   "metadata": {},
   "outputs": [
    {
     "output_type": "stream",
     "name": "stdout",
     "text": [
      "Epoch 1/5\n",
      "1875/1875 [==============================] - 10s 5ms/step - loss: 0.2674 - accuracy: 0.9245\n",
      "Epoch 2/5\n",
      "1875/1875 [==============================] - 8s 5ms/step - loss: 0.1233 - accuracy: 0.9641\n",
      "Epoch 3/5\n",
      "1875/1875 [==============================] - 6s 3ms/step - loss: 0.0870 - accuracy: 0.9738\n",
      "Epoch 4/5\n",
      "1875/1875 [==============================] - 6s 3ms/step - loss: 0.0666 - accuracy: 0.9800\n",
      "Epoch 5/5\n",
      "1875/1875 [==============================] - 6s 3ms/step - loss: 0.0527 - accuracy: 0.9844\n"
     ]
    },
    {
     "output_type": "execute_result",
     "data": {
      "text/plain": [
       "<tensorflow.python.keras.callbacks.History at 0x7fdfc41a2520>"
      ]
     },
     "metadata": {},
     "execution_count": 57
    }
   ],
   "source": [
    "#eliminating the usgae of flatten and using keras flatten layer\n",
    "\n",
    "model =  keras.Sequential([\n",
    "    keras.layers.Flatten(input_shape= (28,28)),\n",
    "    keras.layers.Dense(100,activation= 'relu'), #hw many neurons u want. hidden layer\n",
    "    keras.layers.Dense(10, activation= 'sigmoid') #10 is output nos\n",
    "])\n",
    "\n",
    "model.compile(\n",
    "    optimizer='adam',\n",
    "    loss='sparse_categorical_crossentropy',\n",
    "    metrics=['accuracy']\n",
    "    )\n",
    "model.fit(X_train, y_train, epochs=5)\n"
   ]
  },
  {
   "cell_type": "code",
   "execution_count": null,
   "metadata": {},
   "outputs": [],
   "source": [
    "\n",
    "\n",
    "#For hidden layers if not sure about which Activation to use, always go for Relu/Leaky ReLu as default choice.\n",
    "#Sigmoid used for binary classification , 0 or 1 . Eg below"
   ]
  },
  {
   "cell_type": "code",
   "execution_count": 5,
   "metadata": {},
   "outputs": [
    {
     "output_type": "execute_result",
     "data": {
      "text/plain": [
       "1.0"
      ]
     },
     "metadata": {},
     "execution_count": 5
    }
   ],
   "source": [
    "import math \n",
    "\n",
    "def sigmoid(x):\n",
    "    return 1 / (1 + math.exp(-x))\n",
    "    \n",
    "sigmoid(100)"
   ]
  },
  {
   "cell_type": "code",
   "execution_count": 7,
   "metadata": {},
   "outputs": [
    {
     "output_type": "execute_result",
     "data": {
      "text/plain": [
       "0.7310585786300049"
      ]
     },
     "metadata": {},
     "execution_count": 7
    }
   ],
   "source": [
    "sigmoid(1)"
   ]
  },
  {
   "cell_type": "code",
   "execution_count": 8,
   "metadata": {},
   "outputs": [
    {
     "output_type": "execute_result",
     "data": {
      "text/plain": [
       "4.780892883885469e-25"
      ]
     },
     "metadata": {},
     "execution_count": 8
    }
   ],
   "source": [
    "sigmoid(-56) \n",
    "#close to 0"
   ]
  },
  {
   "cell_type": "code",
   "execution_count": 9,
   "metadata": {},
   "outputs": [
    {
     "output_type": "execute_result",
     "data": {
      "text/plain": [
       "0.6224593312018546"
      ]
     },
     "metadata": {},
     "execution_count": 9
    }
   ],
   "source": [
    "sigmoid(0.5)"
   ]
  },
  {
   "cell_type": "code",
   "execution_count": 10,
   "metadata": {},
   "outputs": [],
   "source": [
    "def tanh(x):\n",
    "    return (math.exp(x) - math.exp(-x)) / (math.exp(x) + math.exp(-x))"
   ]
  },
  {
   "cell_type": "code",
   "execution_count": 11,
   "metadata": {},
   "outputs": [
    {
     "output_type": "execute_result",
     "data": {
      "text/plain": [
       "-1.0"
      ]
     },
     "metadata": {},
     "execution_count": 11
    }
   ],
   "source": [
    "tanh(-56)"
   ]
  },
  {
   "cell_type": "code",
   "execution_count": 12,
   "metadata": {},
   "outputs": [
    {
     "output_type": "execute_result",
     "data": {
      "text/plain": [
       "1.0"
      ]
     },
     "metadata": {},
     "execution_count": 12
    }
   ],
   "source": [
    "tanh(50)"
   ]
  },
  {
   "cell_type": "code",
   "execution_count": 13,
   "metadata": {},
   "outputs": [
    {
     "output_type": "execute_result",
     "data": {
      "text/plain": [
       "0.7615941559557649"
      ]
     },
     "metadata": {},
     "execution_count": 13
    }
   ],
   "source": [
    "tanh(1)"
   ]
  },
  {
   "cell_type": "code",
   "execution_count": 14,
   "metadata": {},
   "outputs": [],
   "source": [
    "def relu(x):\n",
    "    return max(0,x)"
   ]
  },
  {
   "cell_type": "code",
   "execution_count": 15,
   "metadata": {},
   "outputs": [
    {
     "output_type": "execute_result",
     "data": {
      "text/plain": [
       "0"
      ]
     },
     "metadata": {},
     "execution_count": 15
    }
   ],
   "source": [
    "relu(-7)"
   ]
  },
  {
   "cell_type": "code",
   "execution_count": 16,
   "metadata": {},
   "outputs": [
    {
     "output_type": "execute_result",
     "data": {
      "text/plain": [
       "8"
      ]
     },
     "metadata": {},
     "execution_count": 16
    }
   ],
   "source": [
    "relu(8)"
   ]
  },
  {
   "cell_type": "code",
   "execution_count": 19,
   "metadata": {},
   "outputs": [],
   "source": [
    "def leaky_relu(x):\n",
    "    return max(0.1 * x, x)"
   ]
  },
  {
   "cell_type": "code",
   "execution_count": 20,
   "metadata": {},
   "outputs": [
    {
     "output_type": "execute_result",
     "data": {
      "text/plain": [
       "9"
      ]
     },
     "metadata": {},
     "execution_count": 20
    }
   ],
   "source": [
    "leaky_relu(9)"
   ]
  },
  {
   "cell_type": "code",
   "execution_count": 21,
   "metadata": {},
   "outputs": [
    {
     "output_type": "execute_result",
     "data": {
      "text/plain": [
       "-10.0"
      ]
     },
     "metadata": {},
     "execution_count": 21
    }
   ],
   "source": [
    "leaky_relu(-100)"
   ]
  },
  {
   "cell_type": "code",
   "execution_count": null,
   "metadata": {},
   "outputs": [],
   "source": [
    "#Calculus : https://www.mathsisfun.com/calculus/derivatives-rules.html\n",
    "# Practise and learn from: https://github.com/codebasics/deep-learning-keras-tf-tutorial/blob/master/3_derivatives/derivatives_exercise.md"
   ]
  },
  {
   "cell_type": "code",
   "execution_count": null,
   "metadata": {},
   "outputs": [],
   "source": [
    "#Matrix Manipulation- https://github.com/codebasics/deep-learning-keras-tf-tutorial/blob/master/4_matrix_math/4_matrix_math.md"
   ]
  },
  {
   "cell_type": "code",
   "execution_count": 22,
   "metadata": {},
   "outputs": [],
   "source": [
    "import numpy as np \n",
    "revenue = np.array([[180, 200, 220], [24,36,40], [12,18,20]])\n",
    "expenses = np.array([[80,90,100], [10,16,20], [8,10,10]])"
   ]
  },
  {
   "cell_type": "code",
   "execution_count": 23,
   "metadata": {},
   "outputs": [],
   "source": [
    "profit = revenue - expenses"
   ]
  },
  {
   "cell_type": "code",
   "execution_count": 24,
   "metadata": {},
   "outputs": [
    {
     "output_type": "execute_result",
     "data": {
      "text/plain": [
       "array([[100, 110, 120],\n",
       "       [ 14,  20,  20],\n",
       "       [  4,   8,  10]])"
      ]
     },
     "metadata": {},
     "execution_count": 24
    }
   ],
   "source": [
    "profit"
   ]
  },
  {
   "cell_type": "code",
   "execution_count": 25,
   "metadata": {},
   "outputs": [],
   "source": [
    "#dot product\n",
    "price_per_unit = np.array([1000, 400, 1200])\n",
    "units = np.array([[30,40,50], [5,10,15], [2,5,7]])"
   ]
  },
  {
   "cell_type": "code",
   "execution_count": 26,
   "metadata": {},
   "outputs": [
    {
     "output_type": "execute_result",
     "data": {
      "text/plain": [
       "array([34400, 50000, 64400])"
      ]
     },
     "metadata": {},
     "execution_count": 26
    }
   ],
   "source": [
    "np.dot(price_per_unit, units)"
   ]
  },
  {
   "cell_type": "code",
   "execution_count": 29,
   "metadata": {},
   "outputs": [],
   "source": [
    "revenue_in_dollars = np.array([[200, 220, 250], [68, 79, 105], [110,140,180], [80,85,90]])\n",
    "revenue_in_inr = np.dot(revenue_in_dollars,75)"
   ]
  },
  {
   "cell_type": "code",
   "execution_count": 30,
   "metadata": {},
   "outputs": [
    {
     "output_type": "execute_result",
     "data": {
      "text/plain": [
       "array([[15000, 16500, 18750],\n",
       "       [ 5100,  5925,  7875],\n",
       "       [ 8250, 10500, 13500],\n",
       "       [ 6000,  6375,  6750]])"
      ]
     },
     "metadata": {},
     "execution_count": 30
    }
   ],
   "source": [
    "revenue_in_inr"
   ]
  },
  {
   "cell_type": "code",
   "execution_count": null,
   "metadata": {},
   "outputs": [],
   "source": []
  }
 ]
}