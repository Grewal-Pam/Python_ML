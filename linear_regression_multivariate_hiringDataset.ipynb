{
 "metadata": {
  "language_info": {
   "codemirror_mode": {
    "name": "ipython",
    "version": 3
   },
   "file_extension": ".py",
   "mimetype": "text/x-python",
   "name": "python",
   "nbconvert_exporter": "python",
   "pygments_lexer": "ipython3",
   "version": "3.9.5"
  },
  "orig_nbformat": 4,
  "kernelspec": {
   "name": "python3",
   "display_name": "Python 3.9.5 64-bit ('3.9')"
  },
  "interpreter": {
   "hash": "7812ea015bdcee6f23a998adcdd2ef97c151c0c241b7b7070987d9313e41299d"
  }
 },
 "nbformat": 4,
 "nbformat_minor": 2,
 "cells": [
  {
   "cell_type": "code",
   "execution_count": 2,
   "metadata": {},
   "outputs": [],
   "source": [
    "import pandas as pd \n",
    "import sklearn.linear_model as sk\n",
    "import matplotlib.pyplot as plt \n",
    "from word2number import w2n"
   ]
  },
  {
   "cell_type": "code",
   "execution_count": 6,
   "metadata": {},
   "outputs": [
    {
     "output_type": "stream",
     "name": "stdout",
     "text": [
      "Collecting word2number\n",
      "  Downloading word2number-1.1.zip (9.7 kB)\n",
      "Using legacy 'setup.py install' for word2number, since package 'wheel' is not installed.\n",
      "Installing collected packages: word2number\n",
      "    Running setup.py install for word2number ... \u001b[?25ldone\n",
      "\u001b[?25hSuccessfully installed word2number-1.1\n",
      "Note: you may need to restart the kernel to use updated packages.\n"
     ]
    }
   ],
   "source": [
    "pip install word2number"
   ]
  },
  {
   "cell_type": "code",
   "execution_count": 5,
   "metadata": {},
   "outputs": [
    {
     "output_type": "execute_result",
     "data": {
      "text/plain": [
       "  experience  test_score(out of 10)  interview_score(out of 10)  salary($)\n",
       "0        NaN                    8.0                           9      50000\n",
       "1        NaN                    8.0                           6      45000\n",
       "2       five                    6.0                           7      60000\n",
       "3        two                   10.0                          10      65000\n",
       "4      seven                    9.0                           6      70000"
      ],
      "text/html": "<div>\n<style scoped>\n    .dataframe tbody tr th:only-of-type {\n        vertical-align: middle;\n    }\n\n    .dataframe tbody tr th {\n        vertical-align: top;\n    }\n\n    .dataframe thead th {\n        text-align: right;\n    }\n</style>\n<table border=\"1\" class=\"dataframe\">\n  <thead>\n    <tr style=\"text-align: right;\">\n      <th></th>\n      <th>experience</th>\n      <th>test_score(out of 10)</th>\n      <th>interview_score(out of 10)</th>\n      <th>salary($)</th>\n    </tr>\n  </thead>\n  <tbody>\n    <tr>\n      <th>0</th>\n      <td>NaN</td>\n      <td>8.0</td>\n      <td>9</td>\n      <td>50000</td>\n    </tr>\n    <tr>\n      <th>1</th>\n      <td>NaN</td>\n      <td>8.0</td>\n      <td>6</td>\n      <td>45000</td>\n    </tr>\n    <tr>\n      <th>2</th>\n      <td>five</td>\n      <td>6.0</td>\n      <td>7</td>\n      <td>60000</td>\n    </tr>\n    <tr>\n      <th>3</th>\n      <td>two</td>\n      <td>10.0</td>\n      <td>10</td>\n      <td>65000</td>\n    </tr>\n    <tr>\n      <th>4</th>\n      <td>seven</td>\n      <td>9.0</td>\n      <td>6</td>\n      <td>70000</td>\n    </tr>\n  </tbody>\n</table>\n</div>"
     },
     "metadata": {},
     "execution_count": 5
    }
   ],
   "source": [
    "data = pd.read_csv(\"datasets/hiring.csv\")\n",
    "data.head()"
   ]
  },
  {
   "cell_type": "code",
   "execution_count": 6,
   "metadata": {},
   "outputs": [
    {
     "output_type": "execute_result",
     "data": {
      "text/plain": [
       "  experience  test_score(out of 10)  interview_score(out of 10)  salary($)\n",
       "0       zero                    8.0                           9      50000\n",
       "1       zero                    8.0                           6      45000\n",
       "2       five                    6.0                           7      60000\n",
       "3        two                   10.0                          10      65000\n",
       "4      seven                    9.0                           6      70000\n",
       "5      three                    7.0                          10      62000\n",
       "6        ten                    NaN                           7      72000\n",
       "7     eleven                    7.0                           8      80000"
      ],
      "text/html": "<div>\n<style scoped>\n    .dataframe tbody tr th:only-of-type {\n        vertical-align: middle;\n    }\n\n    .dataframe tbody tr th {\n        vertical-align: top;\n    }\n\n    .dataframe thead th {\n        text-align: right;\n    }\n</style>\n<table border=\"1\" class=\"dataframe\">\n  <thead>\n    <tr style=\"text-align: right;\">\n      <th></th>\n      <th>experience</th>\n      <th>test_score(out of 10)</th>\n      <th>interview_score(out of 10)</th>\n      <th>salary($)</th>\n    </tr>\n  </thead>\n  <tbody>\n    <tr>\n      <th>0</th>\n      <td>zero</td>\n      <td>8.0</td>\n      <td>9</td>\n      <td>50000</td>\n    </tr>\n    <tr>\n      <th>1</th>\n      <td>zero</td>\n      <td>8.0</td>\n      <td>6</td>\n      <td>45000</td>\n    </tr>\n    <tr>\n      <th>2</th>\n      <td>five</td>\n      <td>6.0</td>\n      <td>7</td>\n      <td>60000</td>\n    </tr>\n    <tr>\n      <th>3</th>\n      <td>two</td>\n      <td>10.0</td>\n      <td>10</td>\n      <td>65000</td>\n    </tr>\n    <tr>\n      <th>4</th>\n      <td>seven</td>\n      <td>9.0</td>\n      <td>6</td>\n      <td>70000</td>\n    </tr>\n    <tr>\n      <th>5</th>\n      <td>three</td>\n      <td>7.0</td>\n      <td>10</td>\n      <td>62000</td>\n    </tr>\n    <tr>\n      <th>6</th>\n      <td>ten</td>\n      <td>NaN</td>\n      <td>7</td>\n      <td>72000</td>\n    </tr>\n    <tr>\n      <th>7</th>\n      <td>eleven</td>\n      <td>7.0</td>\n      <td>8</td>\n      <td>80000</td>\n    </tr>\n  </tbody>\n</table>\n</div>"
     },
     "metadata": {},
     "execution_count": 6
    }
   ],
   "source": [
    "#Fill NaN with a valid value and also change the text to numbers\n",
    "# \n",
    "data.experience = data.experience.fillna(\"zero\")\n",
    "data"
   ]
  },
  {
   "cell_type": "code",
   "execution_count": 7,
   "metadata": {},
   "outputs": [
    {
     "output_type": "execute_result",
     "data": {
      "text/plain": [
       "   experience  test_score(out of 10)  interview_score(out of 10)  salary($)\n",
       "0           0                    8.0                           9      50000\n",
       "1           0                    8.0                           6      45000\n",
       "2           5                    6.0                           7      60000\n",
       "3           2                   10.0                          10      65000\n",
       "4           7                    9.0                           6      70000\n",
       "5           3                    7.0                          10      62000\n",
       "6          10                    NaN                           7      72000\n",
       "7          11                    7.0                           8      80000"
      ],
      "text/html": "<div>\n<style scoped>\n    .dataframe tbody tr th:only-of-type {\n        vertical-align: middle;\n    }\n\n    .dataframe tbody tr th {\n        vertical-align: top;\n    }\n\n    .dataframe thead th {\n        text-align: right;\n    }\n</style>\n<table border=\"1\" class=\"dataframe\">\n  <thead>\n    <tr style=\"text-align: right;\">\n      <th></th>\n      <th>experience</th>\n      <th>test_score(out of 10)</th>\n      <th>interview_score(out of 10)</th>\n      <th>salary($)</th>\n    </tr>\n  </thead>\n  <tbody>\n    <tr>\n      <th>0</th>\n      <td>0</td>\n      <td>8.0</td>\n      <td>9</td>\n      <td>50000</td>\n    </tr>\n    <tr>\n      <th>1</th>\n      <td>0</td>\n      <td>8.0</td>\n      <td>6</td>\n      <td>45000</td>\n    </tr>\n    <tr>\n      <th>2</th>\n      <td>5</td>\n      <td>6.0</td>\n      <td>7</td>\n      <td>60000</td>\n    </tr>\n    <tr>\n      <th>3</th>\n      <td>2</td>\n      <td>10.0</td>\n      <td>10</td>\n      <td>65000</td>\n    </tr>\n    <tr>\n      <th>4</th>\n      <td>7</td>\n      <td>9.0</td>\n      <td>6</td>\n      <td>70000</td>\n    </tr>\n    <tr>\n      <th>5</th>\n      <td>3</td>\n      <td>7.0</td>\n      <td>10</td>\n      <td>62000</td>\n    </tr>\n    <tr>\n      <th>6</th>\n      <td>10</td>\n      <td>NaN</td>\n      <td>7</td>\n      <td>72000</td>\n    </tr>\n    <tr>\n      <th>7</th>\n      <td>11</td>\n      <td>7.0</td>\n      <td>8</td>\n      <td>80000</td>\n    </tr>\n  </tbody>\n</table>\n</div>"
     },
     "metadata": {},
     "execution_count": 7
    }
   ],
   "source": [
    "data.experience = data.experience.apply(w2n.word_to_num)\n",
    "data"
   ]
  },
  {
   "cell_type": "code",
   "execution_count": 8,
   "metadata": {},
   "outputs": [
    {
     "output_type": "execute_result",
     "data": {
      "text/plain": [
       "7"
      ]
     },
     "metadata": {},
     "execution_count": 8
    }
   ],
   "source": [
    "import math\n",
    "median_test_score = math.floor(data['test_score(out of 10)'].mean())\n",
    "median_test_score"
   ]
  },
  {
   "cell_type": "code",
   "execution_count": 9,
   "metadata": {},
   "outputs": [
    {
     "output_type": "execute_result",
     "data": {
      "text/plain": [
       "   experience  test_score(out of 10)  interview_score(out of 10)  salary($)\n",
       "0           0                    8.0                           9      50000\n",
       "1           0                    8.0                           6      45000\n",
       "2           5                    6.0                           7      60000\n",
       "3           2                   10.0                          10      65000\n",
       "4           7                    9.0                           6      70000\n",
       "5           3                    7.0                          10      62000\n",
       "6          10                    7.0                           7      72000\n",
       "7          11                    7.0                           8      80000"
      ],
      "text/html": "<div>\n<style scoped>\n    .dataframe tbody tr th:only-of-type {\n        vertical-align: middle;\n    }\n\n    .dataframe tbody tr th {\n        vertical-align: top;\n    }\n\n    .dataframe thead th {\n        text-align: right;\n    }\n</style>\n<table border=\"1\" class=\"dataframe\">\n  <thead>\n    <tr style=\"text-align: right;\">\n      <th></th>\n      <th>experience</th>\n      <th>test_score(out of 10)</th>\n      <th>interview_score(out of 10)</th>\n      <th>salary($)</th>\n    </tr>\n  </thead>\n  <tbody>\n    <tr>\n      <th>0</th>\n      <td>0</td>\n      <td>8.0</td>\n      <td>9</td>\n      <td>50000</td>\n    </tr>\n    <tr>\n      <th>1</th>\n      <td>0</td>\n      <td>8.0</td>\n      <td>6</td>\n      <td>45000</td>\n    </tr>\n    <tr>\n      <th>2</th>\n      <td>5</td>\n      <td>6.0</td>\n      <td>7</td>\n      <td>60000</td>\n    </tr>\n    <tr>\n      <th>3</th>\n      <td>2</td>\n      <td>10.0</td>\n      <td>10</td>\n      <td>65000</td>\n    </tr>\n    <tr>\n      <th>4</th>\n      <td>7</td>\n      <td>9.0</td>\n      <td>6</td>\n      <td>70000</td>\n    </tr>\n    <tr>\n      <th>5</th>\n      <td>3</td>\n      <td>7.0</td>\n      <td>10</td>\n      <td>62000</td>\n    </tr>\n    <tr>\n      <th>6</th>\n      <td>10</td>\n      <td>7.0</td>\n      <td>7</td>\n      <td>72000</td>\n    </tr>\n    <tr>\n      <th>7</th>\n      <td>11</td>\n      <td>7.0</td>\n      <td>8</td>\n      <td>80000</td>\n    </tr>\n  </tbody>\n</table>\n</div>"
     },
     "metadata": {},
     "execution_count": 9
    }
   ],
   "source": [
    "data['test_score(out of 10)'] = data['test_score(out of 10)'].fillna(median_test_score)\n",
    "data"
   ]
  },
  {
   "cell_type": "code",
   "execution_count": 10,
   "metadata": {},
   "outputs": [
    {
     "output_type": "execute_result",
     "data": {
      "text/plain": [
       "LinearRegression()"
      ]
     },
     "metadata": {},
     "execution_count": 10
    }
   ],
   "source": [
    "reg = sk.LinearRegression()\n",
    "reg.fit(data[['experience','test_score(out of 10)','interview_score(out of 10)']],data['salary($)'])"
   ]
  },
  {
   "cell_type": "code",
   "execution_count": 11,
   "metadata": {},
   "outputs": [
    {
     "output_type": "execute_result",
     "data": {
      "text/plain": [
       "array([53713.86677124])"
      ]
     },
     "metadata": {},
     "execution_count": 11
    }
   ],
   "source": [
    "reg.predict([[2,9,6]])"
   ]
  },
  {
   "cell_type": "code",
   "execution_count": 12,
   "metadata": {},
   "outputs": [
    {
     "output_type": "execute_result",
     "data": {
      "text/plain": [
       "array([93747.79628651])"
      ]
     },
     "metadata": {},
     "execution_count": 12
    }
   ],
   "source": [
    "reg.predict([[12,10,10]])"
   ]
  },
  {
   "cell_type": "code",
   "execution_count": null,
   "metadata": {},
   "outputs": [],
   "source": []
  }
 ]
}