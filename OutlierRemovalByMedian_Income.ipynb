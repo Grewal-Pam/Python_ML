{
 "metadata": {
  "language_info": {
   "codemirror_mode": {
    "name": "ipython",
    "version": 3
   },
   "file_extension": ".py",
   "mimetype": "text/x-python",
   "name": "python",
   "nbconvert_exporter": "python",
   "pygments_lexer": "ipython3",
   "version": "3.9.5"
  },
  "orig_nbformat": 4,
  "kernelspec": {
   "name": "python3",
   "display_name": "Python 3.9.5 64-bit ('3.9')"
  },
  "interpreter": {
   "hash": "7812ea015bdcee6f23a998adcdd2ef97c151c0c241b7b7070987d9313e41299d"
  }
 },
 "nbformat": 4,
 "nbformat_minor": 2,
 "cells": [
  {
   "cell_type": "code",
   "execution_count": 22,
   "metadata": {},
   "outputs": [],
   "source": [
    "import pandas as pd \n",
    "import numpy as np "
   ]
  },
  {
   "cell_type": "code",
   "execution_count": 2,
   "metadata": {},
   "outputs": [],
   "source": [
    "data = pd.read_csv(\"datasets/income.csv\")"
   ]
  },
  {
   "cell_type": "code",
   "execution_count": 3,
   "metadata": {},
   "outputs": [
    {
     "output_type": "execute_result",
     "data": {
      "text/plain": [
       "    Name  Monthly Income ($)\n",
       "0    Rob                5000\n",
       "1  Rafiq                6000\n",
       "2   Nina                4000\n",
       "3  Sofia                7500\n",
       "4  Mohan                8000"
      ],
      "text/html": "<div>\n<style scoped>\n    .dataframe tbody tr th:only-of-type {\n        vertical-align: middle;\n    }\n\n    .dataframe tbody tr th {\n        vertical-align: top;\n    }\n\n    .dataframe thead th {\n        text-align: right;\n    }\n</style>\n<table border=\"1\" class=\"dataframe\">\n  <thead>\n    <tr style=\"text-align: right;\">\n      <th></th>\n      <th>Name</th>\n      <th>Monthly Income ($)</th>\n    </tr>\n  </thead>\n  <tbody>\n    <tr>\n      <th>0</th>\n      <td>Rob</td>\n      <td>5000</td>\n    </tr>\n    <tr>\n      <th>1</th>\n      <td>Rafiq</td>\n      <td>6000</td>\n    </tr>\n    <tr>\n      <th>2</th>\n      <td>Nina</td>\n      <td>4000</td>\n    </tr>\n    <tr>\n      <th>3</th>\n      <td>Sofia</td>\n      <td>7500</td>\n    </tr>\n    <tr>\n      <th>4</th>\n      <td>Mohan</td>\n      <td>8000</td>\n    </tr>\n  </tbody>\n</table>\n</div>"
     },
     "metadata": {},
     "execution_count": 3
    }
   ],
   "source": [
    "data.head()"
   ]
  },
  {
   "cell_type": "code",
   "execution_count": 4,
   "metadata": {},
   "outputs": [
    {
     "output_type": "execute_result",
     "data": {
      "text/plain": [
       "        Name  Monthly Income ($)\n",
       "0        Rob                5000\n",
       "1      Rafiq                6000\n",
       "2       Nina                4000\n",
       "3      Sofia                7500\n",
       "4      Mohan                8000\n",
       "5        Tao                7000\n",
       "6  Elon Musk            10000000"
      ],
      "text/html": "<div>\n<style scoped>\n    .dataframe tbody tr th:only-of-type {\n        vertical-align: middle;\n    }\n\n    .dataframe tbody tr th {\n        vertical-align: top;\n    }\n\n    .dataframe thead th {\n        text-align: right;\n    }\n</style>\n<table border=\"1\" class=\"dataframe\">\n  <thead>\n    <tr style=\"text-align: right;\">\n      <th></th>\n      <th>Name</th>\n      <th>Monthly Income ($)</th>\n    </tr>\n  </thead>\n  <tbody>\n    <tr>\n      <th>0</th>\n      <td>Rob</td>\n      <td>5000</td>\n    </tr>\n    <tr>\n      <th>1</th>\n      <td>Rafiq</td>\n      <td>6000</td>\n    </tr>\n    <tr>\n      <th>2</th>\n      <td>Nina</td>\n      <td>4000</td>\n    </tr>\n    <tr>\n      <th>3</th>\n      <td>Sofia</td>\n      <td>7500</td>\n    </tr>\n    <tr>\n      <th>4</th>\n      <td>Mohan</td>\n      <td>8000</td>\n    </tr>\n    <tr>\n      <th>5</th>\n      <td>Tao</td>\n      <td>7000</td>\n    </tr>\n    <tr>\n      <th>6</th>\n      <td>Elon Musk</td>\n      <td>10000000</td>\n    </tr>\n  </tbody>\n</table>\n</div>"
     },
     "metadata": {},
     "execution_count": 4
    }
   ],
   "source": [
    "data"
   ]
  },
  {
   "cell_type": "code",
   "execution_count": 5,
   "metadata": {},
   "outputs": [
    {
     "output_type": "execute_result",
     "data": {
      "text/plain": [
       "       Monthly Income ($)\n",
       "count        7.000000e+00\n",
       "mean         1.433929e+06\n",
       "std          3.777283e+06\n",
       "min          4.000000e+03\n",
       "25%          5.500000e+03\n",
       "50%          7.000000e+03\n",
       "75%          7.750000e+03\n",
       "max          1.000000e+07"
      ],
      "text/html": "<div>\n<style scoped>\n    .dataframe tbody tr th:only-of-type {\n        vertical-align: middle;\n    }\n\n    .dataframe tbody tr th {\n        vertical-align: top;\n    }\n\n    .dataframe thead th {\n        text-align: right;\n    }\n</style>\n<table border=\"1\" class=\"dataframe\">\n  <thead>\n    <tr style=\"text-align: right;\">\n      <th></th>\n      <th>Monthly Income ($)</th>\n    </tr>\n  </thead>\n  <tbody>\n    <tr>\n      <th>count</th>\n      <td>7.000000e+00</td>\n    </tr>\n    <tr>\n      <th>mean</th>\n      <td>1.433929e+06</td>\n    </tr>\n    <tr>\n      <th>std</th>\n      <td>3.777283e+06</td>\n    </tr>\n    <tr>\n      <th>min</th>\n      <td>4.000000e+03</td>\n    </tr>\n    <tr>\n      <th>25%</th>\n      <td>5.500000e+03</td>\n    </tr>\n    <tr>\n      <th>50%</th>\n      <td>7.000000e+03</td>\n    </tr>\n    <tr>\n      <th>75%</th>\n      <td>7.750000e+03</td>\n    </tr>\n    <tr>\n      <th>max</th>\n      <td>1.000000e+07</td>\n    </tr>\n  </tbody>\n</table>\n</div>"
     },
     "metadata": {},
     "execution_count": 5
    }
   ],
   "source": [
    "data.describe()"
   ]
  },
  {
   "cell_type": "code",
   "execution_count": 11,
   "metadata": {},
   "outputs": [],
   "source": [
    "data.rename(columns={'Monthly Income ($)': 'income'}, inplace=True)"
   ]
  },
  {
   "cell_type": "code",
   "execution_count": 12,
   "metadata": {},
   "outputs": [
    {
     "output_type": "execute_result",
     "data": {
      "text/plain": [
       "             income\n",
       "count  7.000000e+00\n",
       "mean   1.433929e+06\n",
       "std    3.777283e+06\n",
       "min    4.000000e+03\n",
       "25%    5.500000e+03\n",
       "50%    7.000000e+03\n",
       "75%    7.750000e+03\n",
       "max    1.000000e+07"
      ],
      "text/html": "<div>\n<style scoped>\n    .dataframe tbody tr th:only-of-type {\n        vertical-align: middle;\n    }\n\n    .dataframe tbody tr th {\n        vertical-align: top;\n    }\n\n    .dataframe thead th {\n        text-align: right;\n    }\n</style>\n<table border=\"1\" class=\"dataframe\">\n  <thead>\n    <tr style=\"text-align: right;\">\n      <th></th>\n      <th>income</th>\n    </tr>\n  </thead>\n  <tbody>\n    <tr>\n      <th>count</th>\n      <td>7.000000e+00</td>\n    </tr>\n    <tr>\n      <th>mean</th>\n      <td>1.433929e+06</td>\n    </tr>\n    <tr>\n      <th>std</th>\n      <td>3.777283e+06</td>\n    </tr>\n    <tr>\n      <th>min</th>\n      <td>4.000000e+03</td>\n    </tr>\n    <tr>\n      <th>25%</th>\n      <td>5.500000e+03</td>\n    </tr>\n    <tr>\n      <th>50%</th>\n      <td>7.000000e+03</td>\n    </tr>\n    <tr>\n      <th>75%</th>\n      <td>7.750000e+03</td>\n    </tr>\n    <tr>\n      <th>max</th>\n      <td>1.000000e+07</td>\n    </tr>\n  </tbody>\n</table>\n</div>"
     },
     "metadata": {},
     "execution_count": 12
    }
   ],
   "source": [
    "data.describe()"
   ]
  },
  {
   "cell_type": "code",
   "execution_count": 18,
   "metadata": {},
   "outputs": [
    {
     "output_type": "execute_result",
     "data": {
      "text/plain": [
       "9400479.999999994"
      ]
     },
     "metadata": {},
     "execution_count": 18
    }
   ],
   "source": [
    "percentile_99 = data.income.quantile(.99)\n",
    "percentile_99"
   ]
  },
  {
   "cell_type": "code",
   "execution_count": 19,
   "metadata": {},
   "outputs": [
    {
     "output_type": "execute_result",
     "data": {
      "text/plain": [
       "        Name    income\n",
       "6  Elon Musk  10000000"
      ],
      "text/html": "<div>\n<style scoped>\n    .dataframe tbody tr th:only-of-type {\n        vertical-align: middle;\n    }\n\n    .dataframe tbody tr th {\n        vertical-align: top;\n    }\n\n    .dataframe thead th {\n        text-align: right;\n    }\n</style>\n<table border=\"1\" class=\"dataframe\">\n  <thead>\n    <tr style=\"text-align: right;\">\n      <th></th>\n      <th>Name</th>\n      <th>income</th>\n    </tr>\n  </thead>\n  <tbody>\n    <tr>\n      <th>6</th>\n      <td>Elon Musk</td>\n      <td>10000000</td>\n    </tr>\n  </tbody>\n</table>\n</div>"
     },
     "metadata": {},
     "execution_count": 19
    }
   ],
   "source": [
    "data[data.income>percentile_99]"
   ]
  },
  {
   "cell_type": "code",
   "execution_count": 21,
   "metadata": {},
   "outputs": [
    {
     "output_type": "execute_result",
     "data": {
      "text/plain": [
       "    Name  income\n",
       "0    Rob    5000\n",
       "1  Rafiq    6000\n",
       "2   Nina    4000\n",
       "3  Sofia    7500\n",
       "4  Mohan    8000\n",
       "5    Tao    7000"
      ],
      "text/html": "<div>\n<style scoped>\n    .dataframe tbody tr th:only-of-type {\n        vertical-align: middle;\n    }\n\n    .dataframe tbody tr th {\n        vertical-align: top;\n    }\n\n    .dataframe thead th {\n        text-align: right;\n    }\n</style>\n<table border=\"1\" class=\"dataframe\">\n  <thead>\n    <tr style=\"text-align: right;\">\n      <th></th>\n      <th>Name</th>\n      <th>income</th>\n    </tr>\n  </thead>\n  <tbody>\n    <tr>\n      <th>0</th>\n      <td>Rob</td>\n      <td>5000</td>\n    </tr>\n    <tr>\n      <th>1</th>\n      <td>Rafiq</td>\n      <td>6000</td>\n    </tr>\n    <tr>\n      <th>2</th>\n      <td>Nina</td>\n      <td>4000</td>\n    </tr>\n    <tr>\n      <th>3</th>\n      <td>Sofia</td>\n      <td>7500</td>\n    </tr>\n    <tr>\n      <th>4</th>\n      <td>Mohan</td>\n      <td>8000</td>\n    </tr>\n    <tr>\n      <th>5</th>\n      <td>Tao</td>\n      <td>7000</td>\n    </tr>\n  </tbody>\n</table>\n</div>"
     },
     "metadata": {},
     "execution_count": 21
    }
   ],
   "source": [
    "data_no_outlier = data[data.income<percentile_99]\n",
    "data_no_outlier"
   ]
  },
  {
   "cell_type": "code",
   "execution_count": 25,
   "metadata": {},
   "outputs": [
    {
     "output_type": "stream",
     "name": "stderr",
     "text": [
      "/var/folders/2m/c78fd27s08v69jnsf8h09hc00000gn/T/ipykernel_1602/329554937.py:2: SettingWithCopyWarning: \nA value is trying to be set on a copy of a slice from a DataFrame\n\nSee the caveats in the documentation: https://pandas.pydata.org/pandas-docs/stable/user_guide/indexing.html#returning-a-view-versus-a-copy\n  data['income'][3] = np.nan\n/Library/Frameworks/Python.framework/Versions/3.9/lib/python3.9/site-packages/pandas/core/indexing.py:1637: SettingWithCopyWarning: \nA value is trying to be set on a copy of a slice from a DataFrame\n\nSee the caveats in the documentation: https://pandas.pydata.org/pandas-docs/stable/user_guide/indexing.html#returning-a-view-versus-a-copy\n  self._setitem_single_block(indexer, value, name)\n"
     ]
    }
   ],
   "source": [
    "#Will work for missing value, so change 3rd row to NAN\n",
    "data['income'][3] = np.nan"
   ]
  },
  {
   "cell_type": "code",
   "execution_count": 26,
   "metadata": {},
   "outputs": [
    {
     "output_type": "execute_result",
     "data": {
      "text/plain": [
       "        Name      income\n",
       "0        Rob      5000.0\n",
       "1      Rafiq      6000.0\n",
       "2       Nina      4000.0\n",
       "3      Sofia         NaN\n",
       "4      Mohan      8000.0\n",
       "5        Tao      7000.0\n",
       "6  Elon Musk  10000000.0"
      ],
      "text/html": "<div>\n<style scoped>\n    .dataframe tbody tr th:only-of-type {\n        vertical-align: middle;\n    }\n\n    .dataframe tbody tr th {\n        vertical-align: top;\n    }\n\n    .dataframe thead th {\n        text-align: right;\n    }\n</style>\n<table border=\"1\" class=\"dataframe\">\n  <thead>\n    <tr style=\"text-align: right;\">\n      <th></th>\n      <th>Name</th>\n      <th>income</th>\n    </tr>\n  </thead>\n  <tbody>\n    <tr>\n      <th>0</th>\n      <td>Rob</td>\n      <td>5000.0</td>\n    </tr>\n    <tr>\n      <th>1</th>\n      <td>Rafiq</td>\n      <td>6000.0</td>\n    </tr>\n    <tr>\n      <th>2</th>\n      <td>Nina</td>\n      <td>4000.0</td>\n    </tr>\n    <tr>\n      <th>3</th>\n      <td>Sofia</td>\n      <td>NaN</td>\n    </tr>\n    <tr>\n      <th>4</th>\n      <td>Mohan</td>\n      <td>8000.0</td>\n    </tr>\n    <tr>\n      <th>5</th>\n      <td>Tao</td>\n      <td>7000.0</td>\n    </tr>\n    <tr>\n      <th>6</th>\n      <td>Elon Musk</td>\n      <td>10000000.0</td>\n    </tr>\n  </tbody>\n</table>\n</div>"
     },
     "metadata": {},
     "execution_count": 26
    }
   ],
   "source": [
    "data"
   ]
  },
  {
   "cell_type": "code",
   "execution_count": 27,
   "metadata": {},
   "outputs": [
    {
     "output_type": "execute_result",
     "data": {
      "text/plain": [
       "1671666.6666666667"
      ]
     },
     "metadata": {},
     "execution_count": 27
    }
   ],
   "source": [
    "data.income.mean()"
   ]
  },
  {
   "cell_type": "code",
   "execution_count": 28,
   "metadata": {},
   "outputs": [
    {
     "output_type": "execute_result",
     "data": {
      "text/plain": [
       "        Name        income\n",
       "0        Rob  5.000000e+03\n",
       "1      Rafiq  6.000000e+03\n",
       "2       Nina  4.000000e+03\n",
       "3      Sofia  1.671667e+06\n",
       "4      Mohan  8.000000e+03\n",
       "5        Tao  7.000000e+03\n",
       "6  Elon Musk  1.000000e+07"
      ],
      "text/html": "<div>\n<style scoped>\n    .dataframe tbody tr th:only-of-type {\n        vertical-align: middle;\n    }\n\n    .dataframe tbody tr th {\n        vertical-align: top;\n    }\n\n    .dataframe thead th {\n        text-align: right;\n    }\n</style>\n<table border=\"1\" class=\"dataframe\">\n  <thead>\n    <tr style=\"text-align: right;\">\n      <th></th>\n      <th>Name</th>\n      <th>income</th>\n    </tr>\n  </thead>\n  <tbody>\n    <tr>\n      <th>0</th>\n      <td>Rob</td>\n      <td>5.000000e+03</td>\n    </tr>\n    <tr>\n      <th>1</th>\n      <td>Rafiq</td>\n      <td>6.000000e+03</td>\n    </tr>\n    <tr>\n      <th>2</th>\n      <td>Nina</td>\n      <td>4.000000e+03</td>\n    </tr>\n    <tr>\n      <th>3</th>\n      <td>Sofia</td>\n      <td>1.671667e+06</td>\n    </tr>\n    <tr>\n      <th>4</th>\n      <td>Mohan</td>\n      <td>8.000000e+03</td>\n    </tr>\n    <tr>\n      <th>5</th>\n      <td>Tao</td>\n      <td>7.000000e+03</td>\n    </tr>\n    <tr>\n      <th>6</th>\n      <td>Elon Musk</td>\n      <td>1.000000e+07</td>\n    </tr>\n  </tbody>\n</table>\n</div>"
     },
     "metadata": {},
     "execution_count": 28
    }
   ],
   "source": [
    "data_new = data.fillna(data.income.mean())\n",
    "data_new"
   ]
  },
  {
   "cell_type": "code",
   "execution_count": 29,
   "metadata": {},
   "outputs": [
    {
     "output_type": "execute_result",
     "data": {
      "text/plain": [
       "        Name      income\n",
       "0        Rob      5000.0\n",
       "1      Rafiq      6000.0\n",
       "2       Nina      4000.0\n",
       "3      Sofia      6500.0\n",
       "4      Mohan      8000.0\n",
       "5        Tao      7000.0\n",
       "6  Elon Musk  10000000.0"
      ],
      "text/html": "<div>\n<style scoped>\n    .dataframe tbody tr th:only-of-type {\n        vertical-align: middle;\n    }\n\n    .dataframe tbody tr th {\n        vertical-align: top;\n    }\n\n    .dataframe thead th {\n        text-align: right;\n    }\n</style>\n<table border=\"1\" class=\"dataframe\">\n  <thead>\n    <tr style=\"text-align: right;\">\n      <th></th>\n      <th>Name</th>\n      <th>income</th>\n    </tr>\n  </thead>\n  <tbody>\n    <tr>\n      <th>0</th>\n      <td>Rob</td>\n      <td>5000.0</td>\n    </tr>\n    <tr>\n      <th>1</th>\n      <td>Rafiq</td>\n      <td>6000.0</td>\n    </tr>\n    <tr>\n      <th>2</th>\n      <td>Nina</td>\n      <td>4000.0</td>\n    </tr>\n    <tr>\n      <th>3</th>\n      <td>Sofia</td>\n      <td>6500.0</td>\n    </tr>\n    <tr>\n      <th>4</th>\n      <td>Mohan</td>\n      <td>8000.0</td>\n    </tr>\n    <tr>\n      <th>5</th>\n      <td>Tao</td>\n      <td>7000.0</td>\n    </tr>\n    <tr>\n      <th>6</th>\n      <td>Elon Musk</td>\n      <td>10000000.0</td>\n    </tr>\n  </tbody>\n</table>\n</div>"
     },
     "metadata": {},
     "execution_count": 29
    }
   ],
   "source": [
    "#meadian gives reasonable value but mean does not. So whenever there is outlier and while filling NaN values, use MEDIAN.\n",
    "data_new = data.fillna(data.income.median())\n",
    "data_new"
   ]
  },
  {
   "cell_type": "code",
   "execution_count": null,
   "metadata": {},
   "outputs": [],
   "source": []
  }
 ]
}