{
 "metadata": {
  "language_info": {
   "codemirror_mode": {
    "name": "ipython",
    "version": 3
   },
   "file_extension": ".py",
   "mimetype": "text/x-python",
   "name": "python",
   "nbconvert_exporter": "python",
   "pygments_lexer": "ipython3",
   "version": "3.9.5"
  },
  "orig_nbformat": 4,
  "kernelspec": {
   "name": "python3",
   "display_name": "Python 3.9.5 64-bit ('3.9')"
  },
  "interpreter": {
   "hash": "7812ea015bdcee6f23a998adcdd2ef97c151c0c241b7b7070987d9313e41299d"
  }
 },
 "nbformat": 4,
 "nbformat_minor": 2,
 "cells": [
  {
   "cell_type": "code",
   "execution_count": 22,
   "metadata": {},
   "outputs": [],
   "source": [
    "import pandas as pd \n",
    "from sklearn.linear_model import LinearRegression\n",
    "import math "
   ]
  },
  {
   "cell_type": "code",
   "execution_count": 2,
   "metadata": {},
   "outputs": [
    {
     "output_type": "execute_result",
     "data": {
      "text/plain": [
       "     name  math  cs\n",
       "0   david    92  98\n",
       "1   laura    56  68\n",
       "2  sanjay    88  81\n",
       "3     wei    70  80\n",
       "4    jeff    80  83"
      ],
      "text/html": "<div>\n<style scoped>\n    .dataframe tbody tr th:only-of-type {\n        vertical-align: middle;\n    }\n\n    .dataframe tbody tr th {\n        vertical-align: top;\n    }\n\n    .dataframe thead th {\n        text-align: right;\n    }\n</style>\n<table border=\"1\" class=\"dataframe\">\n  <thead>\n    <tr style=\"text-align: right;\">\n      <th></th>\n      <th>name</th>\n      <th>math</th>\n      <th>cs</th>\n    </tr>\n  </thead>\n  <tbody>\n    <tr>\n      <th>0</th>\n      <td>david</td>\n      <td>92</td>\n      <td>98</td>\n    </tr>\n    <tr>\n      <th>1</th>\n      <td>laura</td>\n      <td>56</td>\n      <td>68</td>\n    </tr>\n    <tr>\n      <th>2</th>\n      <td>sanjay</td>\n      <td>88</td>\n      <td>81</td>\n    </tr>\n    <tr>\n      <th>3</th>\n      <td>wei</td>\n      <td>70</td>\n      <td>80</td>\n    </tr>\n    <tr>\n      <th>4</th>\n      <td>jeff</td>\n      <td>80</td>\n      <td>83</td>\n    </tr>\n  </tbody>\n</table>\n</div>"
     },
     "metadata": {},
     "execution_count": 2
    }
   ],
   "source": [
    "data = pd.read_csv(\"datasets/test_scores.csv\")\n",
    "data.head()"
   ]
  },
  {
   "cell_type": "code",
   "execution_count": 3,
   "metadata": {},
   "outputs": [
    {
     "output_type": "execute_result",
     "data": {
      "text/plain": [
       "0    92\n",
       "1    56\n",
       "2    88\n",
       "3    70\n",
       "4    80\n",
       "5    49\n",
       "6    65\n",
       "7    35\n",
       "8    66\n",
       "9    67\n",
       "Name: math, dtype: int64"
      ]
     },
     "metadata": {},
     "execution_count": 3
    }
   ],
   "source": [
    "X = data.math\n",
    "X"
   ]
  },
  {
   "cell_type": "code",
   "execution_count": 4,
   "metadata": {},
   "outputs": [
    {
     "output_type": "execute_result",
     "data": {
      "text/plain": [
       "0    98\n",
       "1    68\n",
       "2    81\n",
       "3    80\n",
       "4    83\n",
       "5    52\n",
       "6    66\n",
       "7    30\n",
       "8    68\n",
       "9    73\n",
       "Name: cs, dtype: int64"
      ]
     },
     "metadata": {},
     "execution_count": 4
    }
   ],
   "source": [
    "Y = data.cs \n",
    "Y"
   ]
  },
  {
   "cell_type": "code",
   "execution_count": 44,
   "metadata": {},
   "outputs": [],
   "source": [
    "def predict_using_sklean():\n",
    "    reg = LinearRegression()\n",
    "    reg.fit(data[['math']], data.cs)\n",
    "    return reg.coef_, reg.intercept_"
   ]
  },
  {
   "cell_type": "code",
   "execution_count": null,
   "metadata": {},
   "outputs": [],
   "source": []
  },
  {
   "cell_type": "code",
   "execution_count": 5,
   "metadata": {},
   "outputs": [],
   "source": [
    "import numpy as np "
   ]
  },
  {
   "cell_type": "code",
   "execution_count": 42,
   "metadata": {
    "tags": []
   },
   "outputs": [],
   "source": [
    "def gradient_descent(X,Y):\n",
    "    m_curr = b_curr = 0\n",
    "    iterations = 100000\n",
    "    n = len(X)\n",
    "    learningRate = 0.0002\n",
    "    \n",
    "    cost_previous = 0\n",
    "    \n",
    "    for i in range(iterations):\n",
    "        y_predict = m_curr * X + b_curr #y=mx+b\n",
    "        cost = (1/n) * sum([val**2 for val in (Y-y_predict)])\n",
    "     #m derivative 2/n sum(-Xi(Yi-(mXi +b))).   bd = 2/n -(Yi-(mXi+b))\n",
    "     #md = -(2/n) * sum(X * (Y - y_predict))\n",
    "        md = -(2/n)*sum(X*(Y-y_predict))\n",
    "        bd = -(2/n) * sum( Y - y_predict)\n",
    "     #once m_curr , b_curr one iteration is done, we change it , set it for learning rate\n",
    "     #m = m - LearningRate * (derivative of m)\n",
    "     #b = b - LearningRate * (derivative of b)\n",
    "        m_curr = m_curr - learningRate * md\n",
    "        b_curr = b_curr - learningRate * bd\n",
    "\n",
    "     #Cost Function  MSE = 1/n * Sum(Yi - y_predict)square\n",
    "\n",
    "        if math.isclose(cost, cost_previous, rel_tol= 1e-20):\n",
    "            break\n",
    "            cost_previous = cost \n",
    "            print(\"m {} , b {}, cost{}, iteration {}\".format(m_curr, b_curr, cost, i))\n",
    "    return m_curr, b_curr"
   ]
  },
  {
   "cell_type": "code",
   "execution_count": 45,
   "metadata": {},
   "outputs": [
    {
     "output_type": "stream",
     "name": "stdout",
     "text": [
      "Using gradient descent function: Coef 1.0204362110820604 Intercept 1.72387921708579\nUsing sklearn: Coef [1.01773624] Intercept 1.9152193111569034\n"
     ]
    }
   ],
   "source": [
    "if __name__ == \"__main__\":\n",
    "    df = pd.read_csv(\"datasets/test_scores.csv\")\n",
    "    X = np.array(df.math)\n",
    "    Y = np.array(df.cs)\n",
    "\n",
    "    m, b = gradient_descent(X,Y)\n",
    "    print(\"Using gradient descent function: Coef {} Intercept {}\".format(m, b))\n",
    "\n",
    "    m_sklearn, b_sklearn = predict_using_sklean()\n",
    "    print(\"Using sklearn: Coef {} Intercept {}\".format(m_sklearn,b_sklearn))"
   ]
  },
  {
   "cell_type": "code",
   "execution_count": null,
   "metadata": {},
   "outputs": [],
   "source": []
  }
 ]
}